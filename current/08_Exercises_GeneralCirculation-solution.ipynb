{
 "cells": [
  {
   "cell_type": "markdown",
   "metadata": {},
   "source": [
    "# Exercises: major features of the atmosperic circulation"
   ]
  },
  {
   "cell_type": "code",
   "execution_count": null,
   "metadata": {},
   "outputs": [],
   "source": [
    "# Display the plots in the notebook:\n",
    "%matplotlib inline"
   ]
  },
  {
   "cell_type": "code",
   "execution_count": null,
   "metadata": {},
   "outputs": [],
   "source": [
    "# Import the tools we are going to need today:\n",
    "import matplotlib.pyplot as plt  # plotting library\n",
    "import numpy as np  # numerical library\n",
    "import xarray as xr  # netCDF library\n",
    "import cartopy  # Map projections libary\n",
    "import cartopy.crs as ccrs  # Projections list\n",
    "# Some defaults:\n",
    "plt.rcParams['figure.figsize'] = (12, 5)  # Default plot size\n",
    "np.set_printoptions(threshold=20)  # avoid to print very large arrays on screen"
   ]
  },
  {
   "cell_type": "markdown",
   "metadata": {},
   "source": [
    "## Sea-level pressure and surface winds  "
   ]
  },
  {
   "cell_type": "code",
   "execution_count": null,
   "metadata": {},
   "outputs": [],
   "source": [
    "ds = xr.open_dataset('./data/ERA5_LowRes_MonthlyAvg_uvslp.nc')"
   ]
  },
  {
   "cell_type": "markdown",
   "metadata": {},
   "source": [
    "**Compute $\\left[ \\overline{SLP} \\right]$ (in hPa), and plot it. With the help of [plt.axhline](http://matplotlib.org/api/pyplot_api.html#matplotlib.pyplot.axhline), add the [standard atmosphere pressure](https://en.wikipedia.org/wiki/Atmospheric_pressure#Standard_atmospheric) line to the plot to emphasize high and low pressure regions.**"
   ]
  },
  {
   "cell_type": "code",
   "execution_count": null,
   "metadata": {},
   "outputs": [],
   "source": [
    "ds_zavg = ds.mean(dim=['month', 'longitude'])\n",
    "slp_zavg = ds_zavg.msl / 100\n",
    "slp_zavg.plot();\n",
    "plt.axhline(1013, color='k');\n",
    "plt.xlim([-90, 90]);\n",
    "plt.title('SLP');\n",
    "plt.ylabel('hPa');"
   ]
  },
  {
   "cell_type": "markdown",
   "metadata": {},
   "source": [
    "**Repeat with $\\left[ \\overline{u_{10}} \\right]$ and $\\left[ \\overline{v_{10}} \\right]$ (in hPa) and the 0. horizontal line to the plot (to detect surface westerlies from easterlies for example). Analyse the three plots alltogether. How do they fit to the circulation we discussed in the lecture?**"
   ]
  },
  {
   "cell_type": "code",
   "execution_count": null,
   "metadata": {},
   "outputs": [],
   "source": [
    "ds_zavg.u10.plot();\n",
    "plt.axhline(0, color='k');\n",
    "plt.xlim([-90, 90]);\n",
    "plt.title('Zonal Wind at 10m');\n",
    "plt.ylabel('m s$^{-1}$');\n",
    "plt.figure();\n",
    "ds_zavg.v10.plot();\n",
    "plt.axhline(0, color='k');\n",
    "plt.xlim([-90, 90]);\n",
    "plt.title('Meridional Wind at 10m');\n",
    "plt.ylabel('m s$^{-1}$');"
   ]
  },
  {
   "cell_type": "markdown",
   "metadata": {},
   "source": [
    "**Plot the annual $\\overline{SLP}$ on a map. Choose adequate levels and colormap, so that low pressure and high pressure systems are visible. These are called \"semi-permanent highs and lows\". Can you name most of them?**  "
   ]
  },
  {
   "cell_type": "markdown",
   "metadata": {},
   "source": [
    "- Icelandic Low\n",
    "- Aleutian Low\n",
    "- Subtropical highs: Bermuda High, South/North Pacific High...\n",
    "- Siberian High\n",
    "- Monsoon Low (or through)\n",
    "- ..."
   ]
  },
  {
   "cell_type": "code",
   "execution_count": null,
   "metadata": {},
   "outputs": [],
   "source": [
    "levels = np.arange(990, 1033, 2)\n",
    "msl = ds.msl / 100\n",
    "ax = plt.axes(projection=ccrs.Robinson())\n",
    "msl.mean(dim='month').plot.contourf(ax=ax, transform=ccrs.PlateCarree(), cmap='RdYlBu_r', levels=levels, extend='both');\n",
    "ax.coastlines(color='grey'); ax.gridlines(); ax.set_global();"
   ]
  },
  {
   "cell_type": "markdown",
   "metadata": {},
   "source": [
    "**Now use the same colors and levels as above, and plot $\\overline{SLP}$ for the months of January, April, July and October. Compare the evolution of the major systems. When are they strongest? Weakest? Which systems disappear entirely?** "
   ]
  },
  {
   "cell_type": "code",
   "execution_count": null,
   "metadata": {},
   "outputs": [],
   "source": [
    "plt.figure(figsize=(18, 8))\n",
    "ax = plt.subplot(2, 2, 1, projection=ccrs.Robinson())\n",
    "msl.sel(month=1).plot.contourf(ax=ax, transform=ccrs.PlateCarree(), cmap='RdYlBu_r', levels=levels, extend='both');\n",
    "ax.coastlines(color='grey'); ax.gridlines(); ax.set_global();\n",
    "ax = plt.subplot(2, 2, 2, projection=ccrs.Robinson())\n",
    "msl.sel(month=4).plot.contourf(ax=ax, transform=ccrs.PlateCarree(), cmap='RdYlBu_r', levels=levels, extend='both');\n",
    "ax.coastlines(color='grey'); ax.gridlines(); ax.set_global();\n",
    "ax = plt.subplot(2, 2, 3, projection=ccrs.Robinson())\n",
    "msl.sel(month=7).plot.contourf(ax=ax, transform=ccrs.PlateCarree(), cmap='RdYlBu_r', levels=levels, extend='both');\n",
    "ax.coastlines(color='grey'); ax.gridlines(); ax.set_global();\n",
    "ax = plt.subplot(2, 2, 4, projection=ccrs.Robinson())\n",
    "msl.sel(month=10).plot.contourf(ax=ax, transform=ccrs.PlateCarree(), cmap='RdYlBu_r', levels=levels, extend='both');\n",
    "ax.coastlines(color='grey'); ax.gridlines(); ax.set_global();"
   ]
  },
  {
   "cell_type": "markdown",
   "metadata": {},
   "source": [
    "### Additional analyses"
   ]
  },
  {
   "cell_type": "markdown",
   "metadata": {},
   "source": [
    "#### Hovmöller plots"
   ]
  },
  {
   "cell_type": "code",
   "execution_count": null,
   "metadata": {},
   "outputs": [],
   "source": [
    "mslne = msl.sel(latitude=slice(90, 0)).mean(dim='longitude')\n",
    "mslne.T.plot.contourf(levels=np.linspace(1010, 1019, 10), cbar_kwargs={'format':'%d'});\n",
    "plt.title(r'$\\left[ SLP \\right]$ in the NE');"
   ]
  },
  {
   "cell_type": "code",
   "execution_count": null,
   "metadata": {},
   "outputs": [],
   "source": [
    "mslne = msl.sel(latitude=slice(90, 0), longitude=slice(-60, 0)).mean(dim='longitude')\n",
    "mslne.T.plot.contourf(levels=np.linspace(998, 1022, 13), cbar_kwargs={'format':'%d'});\n",
    "plt.title(r'$\\left[ SLP \\right]$ in the North Atlantic');"
   ]
  },
  {
   "cell_type": "markdown",
   "metadata": {},
   "source": [
    "#### Stationary waves "
   ]
  },
  {
   "cell_type": "code",
   "execution_count": null,
   "metadata": {},
   "outputs": [],
   "source": [
    "dsup = xr.open_dataset('./data/ERA5_LowRes_MonthlyAvg_4D_zuvw.nc')"
   ]
  },
  {
   "cell_type": "code",
   "execution_count": null,
   "metadata": {},
   "outputs": [],
   "source": [
    "z = dsup.z.sel(month=7, latitude=slice(90, 0), level=1000).load() / 9.81\n",
    "z = z - z.mean(dim='longitude')\n",
    "f = plt.figure(figsize=(14, 3))\n",
    "ax = plt.axes(projection=ccrs.PlateCarree(central_longitude=-120))\n",
    "z.plot.contourf(ax=ax, levels=18, transform=ccrs.PlateCarree(), cbar_kwargs={'label':'m'});\n",
    "ax.coastlines(color='grey'); ax.gridlines(); ax.set_extent([-170, 60., 0, 90]);\n",
    "plt.title(r'July geopH - [geopH] at 1000hPa');"
   ]
  },
  {
   "cell_type": "code",
   "execution_count": null,
   "metadata": {},
   "outputs": [],
   "source": [
    "z = dsup.z.sel(month=7, latitude=slice(90, 0), level=200).load() / 9.81\n",
    "z = z - z.mean(dim='longitude')\n",
    "f = plt.figure(figsize=(14, 3))\n",
    "ax = plt.axes(projection=ccrs.PlateCarree(central_longitude=-120))\n",
    "z.plot.contourf(ax=ax, levels=18, transform=ccrs.PlateCarree(), cbar_kwargs={'label':'m'});\n",
    "ax.coastlines(color='grey'); ax.gridlines(); ax.set_extent([-170, 60., 0, 90]);\n",
    "plt.title(r'July geopH - [geopH] at 200hPa');"
   ]
  },
  {
   "cell_type": "markdown",
   "metadata": {},
   "source": [
    "## General circulation of the atmopshere"
   ]
  },
  {
   "cell_type": "code",
   "execution_count": null,
   "metadata": {},
   "outputs": [],
   "source": [
    "ds = xr.open_dataset('./data/ERA5_LowRes_MonthlyAvg_4D_zuvw.nc')"
   ]
  },
  {
   "cell_type": "markdown",
   "metadata": {},
   "source": [
    "### Geopotential and zonal winds "
   ]
  },
  {
   "cell_type": "markdown",
   "metadata": {},
   "source": [
    "**Compute $\\left[ \\overline{z_h} \\right]$, where $z_h$ is the [geopotential height](https://en.wikipedia.org/wiki/Geopotential_height) (unit: m). Plot it (you can use ``.plot.contourf(levels=18, center=False)`` for example). Don't forget to put the y-axis in the right direction!**"
   ]
  },
  {
   "cell_type": "code",
   "execution_count": null,
   "metadata": {},
   "outputs": [],
   "source": [
    "ds_zavg = ds.mean(dim=['month', 'longitude'])\n",
    "z = ds_zavg.z / 9.81\n",
    "z.plot.contourf(levels=18, center=False);\n",
    "plt.ylim([1000, 50]);\n",
    "plt.ylabel('Pressure (hPa)');\n",
    "plt.title('Zonal average of geopotential height');"
   ]
  },
  {
   "cell_type": "markdown",
   "metadata": {},
   "source": [
    "**What is the approximate average height of the 200hPa level at the poles? At the tropics? Not that easy to see, right? Instead, you can try to compute the anomaly of $\\left[ \\overline{z_h} \\right]$ with respect to $\\left\\{ \\left[ \\overline{z_h} \\right] \\right\\}$, where $\\left\\{ \\right\\}$ would represent the meridional average. Plot it (this time without the ``center`` keyword) and analyse the plot: what altitude difference is there at the 500hPa level between the equator and the poles? And at the 200hPa level? How does that fit into the thermal wind concept we discussed in the lecture?**"
   ]
  },
  {
   "cell_type": "code",
   "execution_count": null,
   "metadata": {},
   "outputs": [],
   "source": [
    "za = z - z.mean(dim='latitude')\n",
    "za.plot.contourf(levels=18);\n",
    "plt.ylim([1000, 50]);\n",
    "plt.ylabel('Pressure (hPa)');"
   ]
  },
  {
   "cell_type": "markdown",
   "metadata": {},
   "source": [
    "**Repeat the operation with the month of January and July. Analyse the differences.**"
   ]
  },
  {
   "cell_type": "code",
   "execution_count": null,
   "metadata": {},
   "outputs": [],
   "source": [
    "z = ds.z.sel(month=1).mean(dim='longitude') / 9.81\n",
    "za = z - z.mean(dim='latitude')\n",
    "za.plot.contourf(levels=18);\n",
    "plt.ylim([1000, 50]);\n",
    "plt.ylabel('Pressure (hPa)');\n",
    "plt.figure()\n",
    "z = ds.z.sel(month=7).mean(dim='longitude') / 9.81\n",
    "za = z - z.mean(dim='latitude')\n",
    "za.plot.contourf(levels=18);\n",
    "plt.ylim([1000, 50]);\n",
    "plt.ylabel('Pressure (hPa)');"
   ]
  },
  {
   "cell_type": "markdown",
   "metadata": {},
   "source": [
    "**Now plot the zonal temporal average of the zonal wind $\\left[ \\overline{u} \\right]$, for the annual average and the months of January and July. Analyse the plot: when and where is the zonal wind speed highest? Where is the zonal wind negative?**"
   ]
  },
  {
   "cell_type": "code",
   "execution_count": null,
   "metadata": {},
   "outputs": [],
   "source": [
    "dst = ds.sel(month=1).mean(dim='longitude')\n",
    "dst.u.plot.contourf(levels=18);\n",
    "plt.ylim([1000, 50]);\n",
    "plt.ylabel('Pressure (hPa)');\n",
    "plt.title('Zonal wind - January');\n",
    "plt.figure();\n",
    "dst = ds.sel(month=7).mean(dim='longitude')\n",
    "dst.u.plot.contourf(levels=18);\n",
    "plt.ylim([1000, 50]);\n",
    "plt.ylabel('Pressure (hPa)');\n",
    "plt.title('Zonal wind - July');"
   ]
  },
  {
   "cell_type": "markdown",
   "metadata": {},
   "source": [
    "### Geostrophic winds in the lower troposphere "
   ]
  },
  {
   "cell_type": "markdown",
   "metadata": {},
   "source": [
    "**Plot January $\\overline{z_h}$ at the 950 hPa level on a map. Can you see a problem with this plot? Yes, indeed, it is as if there were no mountains on Earth.**"
   ]
  },
  {
   "cell_type": "code",
   "execution_count": null,
   "metadata": {},
   "outputs": [],
   "source": [
    "zh = ds.z.sel(month=1, level=950) / 9.8\n",
    "ax = plt.axes(projection=ccrs.Robinson())\n",
    "zh.plot(ax=ax, transform=ccrs.PlateCarree());\n",
    "ax.coastlines(color='grey'); ax.gridlines();"
   ]
  },
  {
   "cell_type": "markdown",
   "metadata": {},
   "source": [
    "**With the help of the invariant dataset, mask out the land pixels from $\\overline{z_h}$ computed above so that we look at the geopotential height over the oceans only. Compute the geostrophic wind components $u_g$ and $v_g$ out of it. Plot $\\overline{z_h}$ on a map, and overlay $u_g$ and $v_g$ on it using a quiver plot. Analyse what you see.**"
   ]
  },
  {
   "cell_type": "code",
   "execution_count": null,
   "metadata": {},
   "outputs": [],
   "source": [
    "# invariant dataset\n",
    "dsi = xr.open_dataset('./data/ERA5_LowRes_Invariant.nc').isel(time=0)\n",
    "# coriolis\n",
    "g = 9.81\n",
    "f = 2. * 7.292115e-5 * np.sin(np.deg2rad(ds.latitude))\n",
    "f = f.where((np.abs(ds.latitude) > 5) & (np.abs(ds.latitude) < 85))\n",
    "# geopotential\n",
    "z = ds.z.sel(month=1, level=950).load() / g\n",
    "z = z.where(dsi.lsm == 0)\n",
    "# gradients and winds\n",
    "grad_y, grad_x = np.gradient(z, -np.deg2rad(.75), np.deg2rad(.75))\n",
    "grad_x = z*0 + grad_x\n",
    "grad_y = z*0 + grad_y\n",
    "dx = 1 / (6371000 * np.cos(np.deg2rad(z.latitude)))\n",
    "dy = 1 / (6371000)\n",
    "ug = - g / f * dy * grad_y\n",
    "vg = g / f * dx * grad_x\n",
    "wsg = (ug**2 + vg**2)**0.5\n",
    "# plot\n",
    "ax = plt.axes(projection=ccrs.PlateCarree())\n",
    "pu, pv = ug[::9,::9], vg[::9,::9]\n",
    "z.plot.imshow(transform=ccrs.PlateCarree())\n",
    "qv = ax.quiver(pu.longitude, pu.latitude, pu, pv, transform=ccrs.PlateCarree())\n",
    "ax.coastlines(color='grey');"
   ]
  },
  {
   "cell_type": "markdown",
   "metadata": {},
   "source": [
    "**By noting that the wind field can always be decomposed in the the sum of a geostrophic and an ageostrophic component, compute the ageostrophic wind $u_{ag}$ and $v_{ag}$. Plot $\\overline{z_h}$ on a map, and overlay $u_{ag}$ and $v_{ag}$ on it using a quiver plot. Analyse what you see in relation to the plot above.**"
   ]
  },
  {
   "cell_type": "code",
   "execution_count": null,
   "metadata": {},
   "outputs": [],
   "source": [
    "divu = ds.u.sel(month=1, level=950) - ug\n",
    "divv = ds.v.sel(month=1, level=950) - vg\n",
    "ax = plt.axes(projection=ccrs.PlateCarree())\n",
    "pu, pv = divu[::9,::9], divv[::9,::9]\n",
    "z.plot.imshow(transform=ccrs.PlateCarree())\n",
    "qv = ax.quiver(pu.longitude, pu.latitude, pu, pv, transform=ccrs.PlateCarree())\n",
    "ax.coastlines(color='grey');"
   ]
  },
  {
   "cell_type": "markdown",
   "metadata": {},
   "source": [
    "### Meridional overturning circulation"
   ]
  },
  {
   "cell_type": "markdown",
   "metadata": {},
   "source": [
    "**Compute the stram function of the meridional overturning circulation of the atmosphere fot the annual average and the months of January, April, July, and October. Plot all five with the same colors and levels for comparison. Analyse what you see.**"
   ]
  },
  {
   "cell_type": "code",
   "execution_count": null,
   "metadata": {},
   "outputs": [],
   "source": [
    "from scipy.integrate import cumtrapz\n",
    "# some stuff we are going to need later\n",
    "zcoords = ds.level * 100\n",
    "fac = 2 * np.pi * 6371000 * np.cos(np.deg2rad(ds.latitude)) / 9.81\n",
    "levels = np.linspace(-200, 200, 21)"
   ]
  },
  {
   "cell_type": "code",
   "execution_count": null,
   "metadata": {},
   "outputs": [],
   "source": [
    "v = ds.v.mean(dim=['month', 'longitude'])\n",
    "integral = cumtrapz(v, zcoords, axis=0, initial=0)\n",
    "psi = v*0. + integral\n",
    "# Convert to Sverdrups:\n",
    "psi = psi * fac / 1e9\n",
    "psi.plot.contourf(levels=levels, extend='both', cbar_kwargs={'label':'10$^9$ kg s$^{-1}$'})\n",
    "plt.title('Meridional overturning circulation -- Annual average')\n",
    "plt.ylim([1000, 50]);"
   ]
  },
  {
   "cell_type": "code",
   "execution_count": null,
   "metadata": {},
   "outputs": [],
   "source": [
    "plt.figure(figsize=(16, 10));\n",
    "mo = [1, 4, 7, 10]\n",
    "txt = ['Jan', 'Apr', 'Jul', 'Oct']\n",
    "for i in range(4):\n",
    "    plt.subplot(2, 2, i+1)\n",
    "    v = ds.v.sel(month=mo[i]).mean(dim='longitude')\n",
    "    integral = cumtrapz(v, zcoords, axis=0, initial=0)\n",
    "    psi = v*0. + integral\n",
    "    # Convert to Sverdrups:\n",
    "    psi = psi * fac / 1e9\n",
    "    psi.plot.contourf(levels=levels, extend='both', cbar_kwargs={'label':'10$^9$ kg s$^{-1}$'})\n",
    "    plt.title('Meridional overturning circulation -- ' + txt[i])\n",
    "    plt.ylim([1000, 50]);\n",
    "plt.tight_layout();"
   ]
  },
  {
   "cell_type": "code",
   "execution_count": null,
   "metadata": {},
   "outputs": [],
   "source": []
  }
 ],
 "metadata": {
  "hide_input": false,
  "kernelspec": {
   "display_name": "Python 3",
   "language": "python",
   "name": "python3"
  },
  "language_info": {
   "codemirror_mode": {
    "name": "ipython",
    "version": 3
   },
   "file_extension": ".py",
   "mimetype": "text/x-python",
   "name": "python",
   "nbconvert_exporter": "python",
   "pygments_lexer": "ipython3",
   "version": "3.5.2"
  },
  "toc": {
   "base_numbering": 1,
   "nav_menu": {},
   "number_sections": false,
   "sideBar": true,
   "skip_h1_title": true,
   "title_cell": "Table of Contents",
   "title_sidebar": "Contents",
   "toc_cell": false,
   "toc_position": {},
   "toc_section_display": true,
   "toc_window_display": false
  }
 },
 "nbformat": 4,
 "nbformat_minor": 4
}
