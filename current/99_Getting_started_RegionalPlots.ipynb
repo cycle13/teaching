{
 "cells": [
  {
   "cell_type": "markdown",
   "metadata": {},
   "source": [
    "# Getting started with your region"
   ]
  },
  {
   "cell_type": "markdown",
   "metadata": {},
   "source": [
    "**Note: for Antarctica and North-America there is a specific Notebook (Getting_started_Antarctica.ipynb, Getting_started_NorthAmerica.ipynb).**"
   ]
  },
  {
   "cell_type": "markdown",
   "metadata": {},
   "source": [
    "The \"Physics of the climate system\" final projects ask you to focus on one specific region. In the few lines of code below you find some examples to get you started.  \n",
    "\n",
    "First, the imports. They are the same as always, but I removed the figure size defaults:"
   ]
  },
  {
   "cell_type": "code",
   "execution_count": null,
   "metadata": {},
   "outputs": [],
   "source": [
    "# Display the plots in the notebook:\n",
    "%matplotlib inline"
   ]
  },
  {
   "cell_type": "code",
   "execution_count": null,
   "metadata": {},
   "outputs": [],
   "source": [
    "# Import the tools we are going to need today:\n",
    "import matplotlib.pyplot as plt  # plotting library\n",
    "import numpy as np  # numerical library\n",
    "import xarray as xr  # netCDF library\n",
    "import cartopy  # Map projections libary\n",
    "import cartopy.crs as ccrs  # Projections list\n",
    "# Some defaults:\n",
    "np.set_printoptions(threshold=20)  # avoid to print very large arrays on screen\n",
    "# The commands below are to ignore certain warnings.\n",
    "import warnings\n",
    "warnings.filterwarnings('ignore', message='to_mask')\n",
    "warnings.filterwarnings('ignore', message='Steps argument')"
   ]
  },
  {
   "cell_type": "markdown",
   "metadata": {},
   "source": [
    "### Read and select the regional data"
   ]
  },
  {
   "cell_type": "markdown",
   "metadata": {},
   "source": [
    "Reading the data works as allways:"
   ]
  },
  {
   "cell_type": "code",
   "execution_count": null,
   "metadata": {},
   "outputs": [],
   "source": [
    "ds = xr.open_dataset('data/ERA-Int-Invariant.nc')"
   ]
  },
  {
   "cell_type": "markdown",
   "metadata": {},
   "source": [
    "To select the data for a specific region, we will use xray's ``sel`` function as we learned it in the exercises. I've made a pre-selection for you but you are free to make the domain bigger/smaller if you find it useful for your analyses! Just **uncomment the two lines relevant for your case**:"
   ]
  },
  {
   "cell_type": "code",
   "execution_count": null,
   "metadata": {},
   "outputs": [],
   "source": [
    "# # Africa\n",
    "# netcdf = ds.sel(latitude=slice(45, -40), longitude=slice(-25, 55))\n",
    "# plt.rcParams['figure.figsize'] = (9, 7)\n",
    "\n",
    "# # South-America\n",
    "ds = ds.sel(latitude=slice(20, -60), longitude=slice(-100, -30))\n",
    "plt.rcParams['figure.figsize'] = (9, 7)\n",
    "\n",
    "# # Australia, New-Zealand, Indonesia\n",
    "# netcdf = ds.sel(latitude=slice(15, -55), longitude=slice(105, 180))\n",
    "# plt.rcParams['figure.figsize'] = (9, 6.5)\n",
    "\n",
    "# # South-Asia\n",
    "# netcdf = ds.sel(latitude=slice(50, 0), longitude=slice(50, 110))\n",
    "# plt.rcParams['figure.figsize'] = (11, 7)"
   ]
  },
  {
   "cell_type": "markdown",
   "metadata": {},
   "source": [
    "Note that I set the standard figure size for each region. You can allways change those, and also make plots of any size later on (examples below)."
   ]
  },
  {
   "cell_type": "markdown",
   "metadata": {},
   "source": [
    "Now we read the variable:"
   ]
  },
  {
   "cell_type": "code",
   "execution_count": null,
   "metadata": {},
   "outputs": [],
   "source": [
    "z = ds.z / 9.81"
   ]
  },
  {
   "cell_type": "markdown",
   "metadata": {},
   "source": [
    "### Plot the data"
   ]
  },
  {
   "cell_type": "markdown",
   "metadata": {},
   "source": [
    "Plotting the data works the exact same way as during the exercises:"
   ]
  },
  {
   "cell_type": "code",
   "execution_count": null,
   "metadata": {},
   "outputs": [],
   "source": [
    "ax = plt.axes(projection=ccrs.PlateCarree())\n",
    "z.plot(ax=ax, transform=ccrs.PlateCarree(), vmin=0, cmap='terrain') \n",
    "ax.coastlines();  \n",
    "# We add tick labels to the plot, this will help you in your descriptions:\n",
    "xl = ax.gridlines(draw_labels=True);\n",
    "xl.xlabels_top = False\n",
    "xl.ylabels_right = False\n",
    "# We set the extent of the map\n",
    "extent = [ds.longitude.min(), ds.longitude.max(), ds.latitude.min(), ds.latitude.max()]\n",
    "ax.set_extent(extent, crs=ccrs.PlateCarree())"
   ]
  },
  {
   "cell_type": "markdown",
   "metadata": {},
   "source": [
    "### Change some details "
   ]
  },
  {
   "cell_type": "markdown",
   "metadata": {},
   "source": [
    "The plot above looks fine for me. If you want you can change some details for it, for example its size:"
   ]
  },
  {
   "cell_type": "code",
   "execution_count": null,
   "metadata": {},
   "outputs": [],
   "source": [
    "# Prepare the figure with the wanted size:\n",
    "fig = plt.figure(figsize=(5, 3))\n",
    "# The rest doesn't change:\n",
    "ax = plt.axes(projection=ccrs.PlateCarree())\n",
    "z.plot(ax=ax, transform=ccrs.PlateCarree(), vmin=0, cmap='terrain') \n",
    "ax.coastlines();\n",
    "xl = ax.gridlines(draw_labels=True);\n",
    "xl.xlabels_top = False\n",
    "xl.ylabels_right = False\n",
    "ax.set_extent(extent, crs=ccrs.PlateCarree())"
   ]
  },
  {
   "cell_type": "markdown",
   "metadata": {},
   "source": [
    "Or you can add country borders if you wish:"
   ]
  },
  {
   "cell_type": "code",
   "execution_count": null,
   "metadata": {},
   "outputs": [],
   "source": [
    "ax = plt.axes(projection=ccrs.PlateCarree())\n",
    "z.plot(ax=ax, transform=ccrs.PlateCarree(), vmin=0, cmap='terrain') \n",
    "ax.coastlines();\n",
    "xl = ax.gridlines(draw_labels=True);\n",
    "xl.xlabels_top = False\n",
    "xl.ylabels_right = False\n",
    "ax.add_feature(cartopy.feature.BORDERS, linestyle='--');\n",
    "ax.set_extent(extent, crs=ccrs.PlateCarree())"
   ]
  },
  {
   "cell_type": "markdown",
   "metadata": {},
   "source": [
    "**OK, you should be good now!**"
   ]
  },
  {
   "cell_type": "markdown",
   "metadata": {},
   "source": [
    "### Tired of writing so many lines?"
   ]
  },
  {
   "cell_type": "markdown",
   "metadata": {},
   "source": [
    "Note that it is possible to simplify your plotting commands by writing a **function**:"
   ]
  },
  {
   "cell_type": "code",
   "execution_count": null,
   "metadata": {},
   "outputs": [],
   "source": [
    "def prepare_plot(figsize=None):\n",
    "    \"\"\"This function returns prepared axes for the regional plot.\n",
    "    \n",
    "    Usage:\n",
    "        fig, ax = prepare_plot()\n",
    "    \"\"\"\n",
    "    fig = plt.figure(figsize=figsize)\n",
    "    ax = plt.axes(projection=ccrs.PlateCarree())\n",
    "    ax.coastlines();\n",
    "    xl = ax.gridlines(draw_labels=True);\n",
    "    xl.xlabels_top = False\n",
    "    xl.ylabels_right = False\n",
    "    ax.add_feature(cartopy.feature.BORDERS, linestyle='--');\n",
    "    ax.set_extent(extent, crs=ccrs.PlateCarree())\n",
    "    return fig, ax"
   ]
  },
  {
   "cell_type": "markdown",
   "metadata": {},
   "source": [
    "Now, making a plot has become even easier:"
   ]
  },
  {
   "cell_type": "code",
   "execution_count": null,
   "metadata": {},
   "outputs": [],
   "source": [
    "fig, ax = prepare_plot()\n",
    "z.plot(ax=ax, transform=ccrs.PlateCarree(), vmin=0, cmap='terrain');"
   ]
  },
  {
   "cell_type": "markdown",
   "metadata": {},
   "source": [
    "### Need to save the plot for your presentation?"
   ]
  },
  {
   "cell_type": "markdown",
   "metadata": {},
   "source": [
    "**The easiest way is to use \"right-click -> save as\" on the image in the notebook.**\n",
    "\n",
    "Also, you can save the plot as pdf or png quite easily (examples below). But this might look quite different as the picture on screen sometimes..."
   ]
  },
  {
   "cell_type": "code",
   "execution_count": null,
   "metadata": {},
   "outputs": [],
   "source": [
    "fig, ax = prepare_plot()\n",
    "z.plot(ax=ax, transform=ccrs.PlateCarree(), vmin=0, cmap='terrain');\n",
    "plt.savefig('topo.pdf')"
   ]
  },
  {
   "cell_type": "code",
   "execution_count": null,
   "metadata": {},
   "outputs": [],
   "source": [
    "fig, ax = prepare_plot()\n",
    "z.plot(ax=ax, transform=ccrs.PlateCarree(), vmin=0, cmap='terrain');\n",
    "plt.savefig('topo.png')"
   ]
  }
 ],
 "metadata": {
  "hide_input": false,
  "kernelspec": {
   "display_name": "Python 3",
   "language": "python",
   "name": "python3"
  },
  "language_info": {
   "codemirror_mode": {
    "name": "ipython",
    "version": 3
   },
   "file_extension": ".py",
   "mimetype": "text/x-python",
   "name": "python",
   "nbconvert_exporter": "python",
   "pygments_lexer": "ipython3",
   "version": "3.5.2"
  },
  "toc": {
   "base_numbering": 1,
   "nav_menu": {},
   "number_sections": false,
   "sideBar": true,
   "skip_h1_title": true,
   "title_cell": "Table of Contents",
   "title_sidebar": "Contents",
   "toc_cell": false,
   "toc_position": {},
   "toc_section_display": true,
   "toc_window_display": false
  }
 },
 "nbformat": 4,
 "nbformat_minor": 1
}
