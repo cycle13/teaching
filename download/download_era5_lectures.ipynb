{
 "cells": [
  {
   "cell_type": "code",
   "execution_count": null,
   "metadata": {},
   "outputs": [],
   "source": [
    "%matplotlib inline"
   ]
  },
  {
   "cell_type": "code",
   "execution_count": null,
   "metadata": {},
   "outputs": [],
   "source": [
    "import xarray as xr\n",
    "import cdsapi"
   ]
  },
  {
   "cell_type": "code",
   "execution_count": null,
   "metadata": {},
   "outputs": [],
   "source": [
    "c = cdsapi.Client()"
   ]
  },
  {
   "cell_type": "code",
   "execution_count": null,
   "metadata": {},
   "outputs": [],
   "source": [
    "grid = [0.75, 0.75]\n",
    "area = [90, -180+0.75/2, -90, 180]\n",
    "year = ['{}'.format(y) for y in range(1979, 2019)]\n",
    "month = ['{:02d}'.format(m) for m in range(1, 13)]"
   ]
  },
  {
   "cell_type": "code",
   "execution_count": null,
   "metadata": {},
   "outputs": [],
   "source": [
    "dl_dir = '/home/mowglie/disk/Data/Gridded/ERA5_Lectures/'"
   ]
  },
  {
   "cell_type": "markdown",
   "metadata": {},
   "source": [
    "## Invariant"
   ]
  },
  {
   "cell_type": "code",
   "execution_count": null,
   "metadata": {},
   "outputs": [],
   "source": [
    "c.retrieve(\n",
    "    'reanalysis-era5-single-levels',\n",
    "    {\n",
    "        'product_type':'reanalysis',\n",
    "        'format':'netcdf',\n",
    "        'variable':[\n",
    "            'land_sea_mask','model_bathymetry','orography'\n",
    "        ],\n",
    "        'grid': grid,\n",
    "        'area': area,\n",
    "        'year':'1979',\n",
    "        'month':'01',\n",
    "        'day':'01',\n",
    "        'time':'00:00'\n",
    "    },\n",
    "    dl_dir + 'ERA5_LowRes_Invariant.nc')"
   ]
  },
  {
   "cell_type": "markdown",
   "metadata": {},
   "source": [
    "## Temp and precip "
   ]
  },
  {
   "cell_type": "code",
   "execution_count": null,
   "metadata": {},
   "outputs": [],
   "source": [
    "c.retrieve(\n",
    "    'reanalysis-era5-single-levels-monthly-means',\n",
    "    {\n",
    "        'format':'netcdf',\n",
    "        'product_type':'monthly_averaged_reanalysis',\n",
    "        'variable':[\n",
    "            'total_precipitation'\n",
    "        ],\n",
    "        'grid': grid,\n",
    "        'area': area,\n",
    "        'year': year,\n",
    "        'month': month,\n",
    "        'time':'00:00'\n",
    "    },\n",
    "    dl_dir + 'ERA5_LowRes_Monthly_tp.nc')"
   ]
  },
  {
   "cell_type": "code",
   "execution_count": null,
   "metadata": {},
   "outputs": [],
   "source": [
    "c.retrieve(\n",
    "    'reanalysis-era5-single-levels-monthly-means',\n",
    "    {\n",
    "        'format':'netcdf',\n",
    "        'product_type':'monthly_averaged_reanalysis',\n",
    "        'variable':[\n",
    "            '2m_temperature'\n",
    "        ],\n",
    "        'grid': grid,\n",
    "        'area': area,\n",
    "        'year': year,\n",
    "        'month': month,\n",
    "        'time':'00:00'\n",
    "    },\n",
    "    dl_dir + 'ERA5_LowRes_Monthly_t2m.nc')"
   ]
  },
  {
   "cell_type": "markdown",
   "metadata": {},
   "source": [
    "## Wind and SLP at surface "
   ]
  },
  {
   "cell_type": "code",
   "execution_count": null,
   "metadata": {},
   "outputs": [],
   "source": [
    "c.retrieve(\n",
    "    'reanalysis-era5-single-levels-monthly-means',\n",
    "    {\n",
    "        'format':'netcdf',\n",
    "        'product_type':'monthly_averaged_reanalysis',\n",
    "        'variable':[\n",
    "            '10m_u_component_of_wind','10m_v_component_of_wind','mean_sea_level_pressure'\n",
    "        ],\n",
    "        'grid': grid,\n",
    "        'area': area,\n",
    "        'year': year,\n",
    "        'month': month,\n",
    "        'time':'00:00'\n",
    "    },\n",
    "    dl_dir + 'ERA5_LowRes_Monthly_uvslp.nc')"
   ]
  },
  {
   "cell_type": "code",
   "execution_count": null,
   "metadata": {},
   "outputs": [],
   "source": [
    "c.retrieve(\n",
    "    'reanalysis-era5-pressure-levels-monthly-means',\n",
    "    {\n",
    "        'format':'netcdf',\n",
    "        'product_type':'monthly_averaged_reanalysis',\n",
    "        'variable':[\n",
    "            'geopotential','relative_humidity','specific_humidity',\n",
    "            'temperature','u_component_of_wind','v_component_of_wind',\n",
    "            'vertical_velocity'\n",
    "        ],\n",
    "        'pressure_level':[\n",
    "            '10','50','100',\n",
    "            '200','300','400',\n",
    "            '500','600','650',\n",
    "            '700','750','800',\n",
    "            '850','900','950',\n",
    "            '1000'\n",
    "        ],\n",
    "        'grid': grid,\n",
    "        'area': area,\n",
    "        'year': year,\n",
    "        'month': month,\n",
    "        'time':'00:00'\n",
    "    },\n",
    "    dl_dir + 'ERA5_LowRes_Monthly_4D_all.nc')"
   ]
  },
  {
   "cell_type": "code",
   "execution_count": null,
   "metadata": {},
   "outputs": [],
   "source": []
  }
 ],
 "metadata": {
  "hide_input": false,
  "kernelspec": {
   "display_name": "Python 3",
   "language": "python",
   "name": "python3"
  },
  "language_info": {
   "codemirror_mode": {
    "name": "ipython",
    "version": 3
   },
   "file_extension": ".py",
   "mimetype": "text/x-python",
   "name": "python",
   "nbconvert_exporter": "python",
   "pygments_lexer": "ipython3",
   "version": "3.5.2"
  },
  "latex_envs": {
   "LaTeX_envs_menu_present": true,
   "autoclose": false,
   "autocomplete": true,
   "bibliofile": "biblio.bib",
   "cite_by": "apalike",
   "current_citInitial": 1,
   "eqLabelWithNumbers": true,
   "eqNumInitial": 1,
   "hotkeys": {
    "equation": "Ctrl-E",
    "itemize": "Ctrl-I"
   },
   "labels_anchors": false,
   "latex_user_defs": false,
   "report_style_numbering": false,
   "user_envs_cfg": false
  },
  "nbTranslate": {
   "displayLangs": [
    "*"
   ],
   "hotkey": "alt-t",
   "langInMainMenu": true,
   "sourceLang": "en",
   "targetLang": "fr",
   "useGoogleTranslate": true
  },
  "toc": {
   "base_numbering": 1,
   "nav_menu": {},
   "number_sections": false,
   "sideBar": true,
   "skip_h1_title": true,
   "title_cell": "Table of Contents",
   "title_sidebar": "Contents",
   "toc_cell": false,
   "toc_position": {},
   "toc_section_display": true,
   "toc_window_display": false
  }
 },
 "nbformat": 4,
 "nbformat_minor": 4
}
