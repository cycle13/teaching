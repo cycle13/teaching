{
 "cells": [
  {
   "cell_type": "markdown",
   "metadata": {
    "deletable": true,
    "editable": true
   },
   "source": [
    "# Exercises 03: playing around with station data"
   ]
  },
  {
   "cell_type": "markdown",
   "metadata": {
    "deletable": true,
    "editable": true
   },
   "source": [
    "Now it's your turn to do the work! I have prepared a dataset for you: `DataGame.csv`. You will find it on OLAT, or on the `scratch` repository:\n",
    "\n",
    "    $ /scratch/c707/c7071047/data-cryo/DataGame.csv"
   ]
  },
  {
   "cell_type": "markdown",
   "metadata": {
    "deletable": true,
    "editable": true
   },
   "source": [
    "### Exercise 1"
   ]
  },
  {
   "cell_type": "markdown",
   "metadata": {
    "deletable": true,
    "editable": true
   },
   "source": [
    "Unfortunately, the lazy data preparator has forgotten to provide you the *metadata* of this file (this happens more often then you think). the only thing you now is that the station is located at [30.47153N, 90.64534E], on the Zhadang glacier in Tibet.\n",
    "\n",
    "**Do you know what \"metadata\" means? If not, use your favorite search engine and have a quick look!**\n",
    "\n",
    "**Read the data with pandas and \"explore\" the dataframe. How long are the time series? Which temporal resolution? Try to find out which variable is which. Once you got them all, rename the columns accordingly.**\n",
    "\n",
    "**While doing this exercise, I recommend to explore the data methodically. Describe the annual cycle, the range, possibly the diurnal cycle, and find out the units of each variable. Discuss this with your neighbors!**"
   ]
  },
  {
   "cell_type": "code",
   "execution_count": null,
   "metadata": {
    "deletable": true,
    "editable": true
   },
   "outputs": [],
   "source": [
    "# your answers here"
   ]
  },
  {
   "cell_type": "markdown",
   "metadata": {
    "deletable": true,
    "editable": true
   },
   "source": [
    "### Exercise 2"
   ]
  },
  {
   "cell_type": "markdown",
   "metadata": {
    "deletable": true,
    "editable": true
   },
   "source": [
    "Now that you've got all this sorted out, take the incoming shortwave radiation variable. Plot one summer day of data (any summer day). If it's not a clear sky day, pick another day with clear sky conditions.\n",
    "\n",
    "**Discuss the daily cycle of radiation. Does it make sense? What is the probable time zone of the data? By how many hours should you shift the data?**\n",
    "\n",
    "Once you have an idea, check if this corresponds to the actual solar time at this location, for example by using an online solar time calculator: http://www.esrl.noaa.gov/gmd/grad/solcalc/. Compare this time with the China Standard Time (CST).\n",
    "\n",
    "**Redefine the index with a new time shifted with the right number of hours, so that the solar noon matches the data (approximately).**\n",
    "\n",
    "*Note: this new time is called \"solar time\", while the China Standard Time is the \"local time\".* "
   ]
  },
  {
   "cell_type": "code",
   "execution_count": null,
   "metadata": {
    "deletable": true,
    "editable": true
   },
   "outputs": [],
   "source": [
    "# your answers here"
   ]
  },
  {
   "cell_type": "markdown",
   "metadata": {
    "deletable": true,
    "editable": true
   },
   "source": [
    "### Exercise 3"
   ]
  },
  {
   "cell_type": "markdown",
   "metadata": {
    "deletable": true,
    "editable": true
   },
   "source": [
    "We now have plenty of data at hand. Let's focus on one of the most complicated variable first: wind. The wind direction is given with an angle value, which reports the direction **from where the wind is blowing**:\n",
    "- North: 0°\n",
    "- South: 180°\n",
    "- West: 270°\n",
    "- East: 90°\n",
    "\n",
    "For example, if the wind direction is 45 degrees, the winds are coming out of the northeast and blowing towards the southwest. This would be called a north-easterly wind.\n",
    "\n",
    "**Discuss the possible implications that a naive averaging of the wind direction would have. Does it actually make sense to plot the wind direction as a line? Plot the wind-direction as an histogram. Choose the number of bins so that the size of a bin is 10°.**\n",
    "\n",
    "By entering the coordinates of the station in http://www.bing.com/maps/ you can have a look at the geographical situation of the glacier. Analyse the *dominant* wind directions in this context. From which directions does the wind almost *never* blow?\n",
    "\n",
    "**Plot the wind speed and direction as a scatter plot, with the wind-direction as x-axis and the wind-speed as y-axis.**\n",
    "\n",
    "From which direction are the strongest winds coming from? Using your knowledge from the Climate lecture, try to provide an explanation for this preferred wind direction.\n",
    "\n",
    "**Now reproduce the scatter plot from above, but once with data from August only, and once with data from January only. Discuss.**\n",
    "\n",
    "**Bonus: plot the average diurnal cycle of wind speed in August, and in January.**"
   ]
  },
  {
   "cell_type": "code",
   "execution_count": null,
   "metadata": {
    "deletable": true,
    "editable": true
   },
   "outputs": [],
   "source": [
    "# Your answer here"
   ]
  },
  {
   "cell_type": "markdown",
   "metadata": {
    "deletable": true,
    "editable": true
   },
   "source": [
    "### Exercise 4"
   ]
  },
  {
   "cell_type": "markdown",
   "metadata": {
    "deletable": true,
    "editable": true
   },
   "source": [
    "One of the oldest (and still widely used) model of ice and snow melt is the [degree day model](http://www.antarcticglaciers.org/glaciers-and-climate/numerical-ice-sheet-models/modelling-glacier-melt/). It relies on the assumption that melt occurs when air temperature is above the melting point.\n",
    "\n",
    "**Compute the daily averages of air temperature and select the days with temperature above zero. When do they occur? Count the number of days with average temperature above zero. Discuss.**"
   ]
  },
  {
   "cell_type": "code",
   "execution_count": null,
   "metadata": {
    "deletable": true,
    "editable": true
   },
   "outputs": [],
   "source": [
    "# Your answer here"
   ]
  },
  {
   "cell_type": "markdown",
   "metadata": {
    "deletable": true,
    "editable": true
   },
   "source": [
    "### Bonus excercises"
   ]
  },
  {
   "cell_type": "markdown",
   "metadata": {
    "deletable": true,
    "editable": true
   },
   "source": [
    "Plot whatever you want to plot, and analyse whatever you want to analyse. This is very unique data, so use it!"
   ]
  },
  {
   "cell_type": "code",
   "execution_count": null,
   "metadata": {
    "deletable": true,
    "editable": true
   },
   "outputs": [],
   "source": []
  }
 ],
 "metadata": {
  "kernelspec": {
   "display_name": "Python 3",
   "language": "python",
   "name": "python3"
  },
  "language_info": {
   "codemirror_mode": {
    "name": "ipython",
    "version": 3
   },
   "file_extension": ".py",
   "mimetype": "text/x-python",
   "name": "python",
   "nbconvert_exporter": "python",
   "pygments_lexer": "ipython3",
   "version": "3.5.2"
  }
 },
 "nbformat": 4,
 "nbformat_minor": 0
}
