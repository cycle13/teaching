{
 "cells": [
  {
   "cell_type": "markdown",
   "metadata": {
    "deletable": true,
    "editable": true
   },
   "source": [
    "# Exercises 05: my data is wrong (sometimes)"
   ]
  },
  {
   "cell_type": "markdown",
   "metadata": {
    "deletable": true,
    "editable": true
   },
   "source": [
    "Here again we will use the AWS data at Zhadang (with variable names and corrected time):\n",
    "\n",
    "    $ /scratch/c707/c7071047/data_ss2016/aws_data_zhadang_localtime.csv\n",
    "    \n",
    "The purpose of this excercise is to continue your exploration of the AWS data and to familiarize you with some... problems that \"real world data\" can have."
   ]
  },
  {
   "cell_type": "markdown",
   "metadata": {
    "deletable": true,
    "editable": true
   },
   "source": [
    "### Exercise 1: shortwave radiation"
   ]
  },
  {
   "cell_type": "markdown",
   "metadata": {
    "deletable": true,
    "editable": true
   },
   "source": [
    "**Plot hourly SWIN and SWOUT on the same plot for the entire data period. Discuss the features of the plot (periodicity, maxima, minima...). Can you determine at first sight with season is cloudier than others? Or when approximately we have a snow cover, and ice cover?**"
   ]
  },
  {
   "cell_type": "code",
   "execution_count": null,
   "metadata": {
    "deletable": true,
    "editable": true
   },
   "outputs": [],
   "source": [
    "# your answers here"
   ]
  },
  {
   "cell_type": "markdown",
   "metadata": {
    "deletable": true,
    "editable": true
   },
   "source": [
    "**Make a scatterplot of SWIN versus SWOUT. What features can you describe?**"
   ]
  },
  {
   "cell_type": "code",
   "execution_count": null,
   "metadata": {
    "deletable": true,
    "editable": true
   },
   "outputs": [],
   "source": [
    "# your answers here"
   ]
  },
  {
   "cell_type": "markdown",
   "metadata": {
    "deletable": true,
    "editable": true
   },
   "source": [
    "**Make a new dataframe (dfchris) which is a subset of the data for the Christmas Eve of 2011. Plot SWIN and SWOUT on the same plot. Christmas Eve was a nice, cold and sunny day at Zhadang. Can you see the features at the beginning and the end of the day? Can you determine what this is?**"
   ]
  },
  {
   "cell_type": "code",
   "execution_count": null,
   "metadata": {
    "deletable": true,
    "editable": true
   },
   "outputs": [],
   "source": [
    "# your answers here"
   ]
  },
  {
   "cell_type": "markdown",
   "metadata": {
    "deletable": true,
    "editable": true
   },
   "source": [
    "**Compute the hourly albedo for this same Christmas day and add it to the dfchris dataframe. Since dividing by zero is never a good idea, I suggest to replace the invalid values with np.NaN. This can be done after the computation by using np.where(). Plot it and discuss. What could be the reasons for this?**"
   ]
  },
  {
   "cell_type": "code",
   "execution_count": null,
   "metadata": {
    "deletable": true,
    "editable": true
   },
   "outputs": [],
   "source": [
    "# your answers here"
   ]
  },
  {
   "cell_type": "markdown",
   "metadata": {
    "deletable": true,
    "editable": true
   },
   "source": [
    "**Now define a new variable (HOURLYALB) in the originial dataframe. Mask the invalid values with np.NaN like we did before. Plot the average daily cycle of HOURLYALB for the months of Mai, June, and July. Discuss.**"
   ]
  },
  {
   "cell_type": "code",
   "execution_count": null,
   "metadata": {
    "deletable": true,
    "editable": true
   },
   "outputs": [],
   "source": [
    "# your answers here"
   ]
  },
  {
   "cell_type": "markdown",
   "metadata": {
    "deletable": true,
    "editable": true
   },
   "source": [
    "**We leave Chrismas and have a look at the 25th of April, 2012. Again, plot SWIN and SWOUT on that day. Discuss. Plot the meterological conditions during the 5-day period centered on 2012-04-25. Can it explain what you see?**"
   ]
  },
  {
   "cell_type": "code",
   "execution_count": null,
   "metadata": {
    "deletable": true,
    "editable": true
   },
   "outputs": [],
   "source": [
    "# your answers here"
   ]
  },
  {
   "cell_type": "markdown",
   "metadata": {
    "deletable": true,
    "editable": true
   },
   "source": [
    "**Because of all the problems described above, scientists are using a more robust method to compute the albedo: the \"daily albedo\", much less sensitive to measurement errors and other issues. It is NOT defined as the average of the hourly albedo, but as the ratio of daily amount (sums) of reflected radiation to global radiation. Make a new dataframe containing the daily albedo (at a daily time step then). Plot it. Any issue? Filter it out, or change the range of the plot axis. Discuss.**"
   ]
  },
  {
   "cell_type": "code",
   "execution_count": null,
   "metadata": {
    "deletable": true,
    "editable": true
   },
   "outputs": [],
   "source": [
    "# your answers here"
   ]
  },
  {
   "cell_type": "markdown",
   "metadata": {
    "deletable": true,
    "editable": true
   },
   "source": [
    "### Exercise 2: longwave radiation"
   ]
  },
  {
   "cell_type": "markdown",
   "metadata": {
    "deletable": true,
    "editable": true
   },
   "source": [
    "The net-radiation sensor mounted on the AWS at Zhadang is an [NRLITE](http://www.kippzonen.com/Product/31/NR-Lite2-Net-Radiometer#.Vx_mwCaLiBs). It measures the net radiation in visible and infra-red wavelenghts together, which makes it less interpretable. During the night, however, it is guaranteed to measure the longwave budget only."
   ]
  },
  {
   "cell_type": "markdown",
   "metadata": {
    "deletable": true,
    "editable": true
   },
   "source": [
    "**Make a new dataframe (DFN) which contains data for the night time only. Plot the net radiation, first as a time series and then as an histogram with a large number of bins (e.g. 100). Discuss. Could you distinguish between cloudy and clear-sky conditions? Which other variable could help you out to find out? Could you come up with an algorithm able to select cloudy nights from clear-sky nights?**"
   ]
  },
  {
   "cell_type": "code",
   "execution_count": null,
   "metadata": {
    "deletable": true,
    "editable": true
   },
   "outputs": [],
   "source": [
    "# your answers here"
   ]
  },
  {
   "cell_type": "markdown",
   "metadata": {
    "deletable": true,
    "editable": true
   },
   "source": [
    "### Exercise 3: wind"
   ]
  },
  {
   "cell_type": "markdown",
   "metadata": {
    "deletable": true,
    "editable": true
   },
   "source": [
    "**Out of the data, compute the probability that the measured wind-speed over an hour is zero. Plot one of this events where wind-speed is equal to zero for a few hours. Discuss.**"
   ]
  },
  {
   "cell_type": "code",
   "execution_count": null,
   "metadata": {
    "deletable": true,
    "editable": true
   },
   "outputs": [],
   "source": [
    "# Your answer here"
   ]
  },
  {
   "cell_type": "markdown",
   "metadata": {
    "deletable": true,
    "editable": true
   },
   "source": [
    "### Bonus question"
   ]
  },
  {
   "cell_type": "markdown",
   "metadata": {
    "deletable": true,
    "editable": true
   },
   "source": [
    "Measuring precipitation at these altitudes is very challenging, as shown by the missing data in the precipitation variable. Other issues when using rain gauges at high altitude are the undercatch of snowfall under windy conditions. The SR50 sensor (which measures the height of the surface) could be used to identify snowfall events, and even snowfall amounts (in theory).\n",
    "\n",
    "**Do you have some ideas on how to identify snowfall events with SR50 data?**"
   ]
  },
  {
   "cell_type": "code",
   "execution_count": null,
   "metadata": {
    "deletable": true,
    "editable": true
   },
   "outputs": [],
   "source": [
    "# Your answer here"
   ]
  },
  {
   "cell_type": "code",
   "execution_count": null,
   "metadata": {
    "deletable": true,
    "editable": true
   },
   "outputs": [],
   "source": []
  }
 ],
 "metadata": {
  "kernelspec": {
   "display_name": "Python 3",
   "language": "python",
   "name": "python3"
  },
  "language_info": {
   "codemirror_mode": {
    "name": "ipython",
    "version": 3
   },
   "file_extension": ".py",
   "mimetype": "text/x-python",
   "name": "python",
   "nbconvert_exporter": "python",
   "pygments_lexer": "ipython3",
   "version": "3.5.2"
  }
 },
 "nbformat": 4,
 "nbformat_minor": 0
}
