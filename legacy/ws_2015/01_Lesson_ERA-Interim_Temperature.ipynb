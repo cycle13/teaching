{
 "cells": [
  {
   "cell_type": "markdown",
   "metadata": {},
   "source": [
    "# 01: Open, read and plot reanalysis data"
   ]
  },
  {
   "cell_type": "markdown",
   "metadata": {},
   "source": [
    "In this exercise we are going to get familiar with reanalysis data and with the analysis tools we are going to use during the entire semester.\n",
    "\n",
    "I have prepared a lot of code snipsets that you'll simply have to execute (remember how? simply type `[Shift+Enter]` when on a cell). \n",
    "\n",
    "This code will provide a *template* for your own code. I don't expect you to understand all of it, but I do hope that you are going to catch the major lines. You will have to copy and adapt parts of the code below to complete the exercises."
   ]
  },
  {
   "cell_type": "markdown",
   "metadata": {},
   "source": [
    "## Get the data"
   ]
  },
  {
   "cell_type": "markdown",
   "metadata": {},
   "source": [
    "The ERA-Interim reanalysis data are available for free: http://apps.ecmwf.int/datasets/data/interim-full-daily \n",
    "\n",
    "I prepared a set of data files for these exercises, they are available in the following folder:\n",
    "\n",
    "    $ ls /scratch/c707/c7071047/data\n",
    "\n",
    "To avoid that everyone is reading the same file at the same time, make a copy of the data in your `climate_exercises` folder:\n",
    "\n",
    "    $ cp /scratch/c707/c7071047/data/ERA-Int-Monthly-2mTemp.nc ~/climate_exercises/   "
   ]
  },
  {
   "cell_type": "markdown",
   "metadata": {},
   "source": [
    "## Imports and options"
   ]
  },
  {
   "cell_type": "markdown",
   "metadata": {},
   "source": [
    "The cell below imports the modules we will need for the exercises. You can use it as header of your own notebooks.\n",
    "\n",
    "**Note:** this can take a few seconds. On a normal system this is fast, but here the modules are imported from a network directory."
   ]
  },
  {
   "cell_type": "code",
   "execution_count": null,
   "metadata": {},
   "outputs": [],
   "source": [
    "# Define the tools we are going to need today\n",
    "%matplotlib inline\n",
    "import matplotlib.pyplot as plt  # plotting library\n",
    "import numpy as np  # numerical library\n",
    "import xray  # NetCDF library\n",
    "import cartopy  # Plotting libary\n",
    "import cartopy.crs as ccrs  # Projections\n",
    "# Some defaults\n",
    "plt.rcParams['figure.figsize'] = (14, 5)  # Default plot size\n",
    "np.set_printoptions(threshold=20)  # avoid to print very large arrays on screen\n",
    "# The commands below are not important\n",
    "import warnings\n",
    "warnings.filterwarnings('ignore')"
   ]
  },
  {
   "cell_type": "markdown",
   "metadata": {},
   "source": [
    "## NetCDF files"
   ]
  },
  {
   "cell_type": "markdown",
   "metadata": {},
   "source": [
    "Most of today's meteorological data are stored in the NetCDF format (`*.nc`). NetCDF files are *binary* files, which means that you can't just open them in a text editor. You need a special reader for it. Nearly all the programming languages offer an interface to NetCDF: for this course we are going to use the [xray](http://xray.readthedocs.org/en/stable/) library to read the data:"
   ]
  },
  {
   "cell_type": "code",
   "execution_count": null,
   "metadata": {},
   "outputs": [],
   "source": [
    "netcdf = xray.open_dataset('ERA-Int-Monthly-2mTemp.nc')"
   ]
  },
  {
   "cell_type": "markdown",
   "metadata": {},
   "source": [
    "**Note**: the file should be in the same directory as the notebook for the above to work. Alternatively, you can give an absolute path to the function, for example `'C:\\PATH\\TO\\FILE\\ERA-Int-Monthly-2mTemp.nc'` in windows."
   ]
  },
  {
   "cell_type": "code",
   "execution_count": null,
   "metadata": {},
   "outputs": [],
   "source": [
    "# See what we have\n",
    "netcdf"
   ]
  },
  {
   "cell_type": "markdown",
   "metadata": {},
   "source": [
    "The NetCDF dataset is constituted of various elements: Dimensions, Coordinates, Variables, Attributes:\n",
    "- the dimensions specify the number of elements of each data coordinates, their name is chosen to be understandable and representative\n",
    "- the attributes usually do not contain any data: they provide some information about the file\n",
    "- the variables contain the actual data. In our file there is only one variable (\"t2m\"). The t2m variable has the dimensions [time, latitude, longitude], so we can expect an array of size [432, 241, 480]"
   ]
  },
  {
   "cell_type": "markdown",
   "metadata": {},
   "source": [
    "### Coordinates "
   ]
  },
  {
   "cell_type": "markdown",
   "metadata": {},
   "source": [
    "Let's have a look at the **time coordinate** first:"
   ]
  },
  {
   "cell_type": "code",
   "execution_count": null,
   "metadata": {},
   "outputs": [],
   "source": [
    "print(netcdf.time)"
   ]
  },
  {
   "cell_type": "markdown",
   "metadata": {},
   "source": [
    "Time goes from 1979-01-01 to 2014-12-01 in 432 steps. The **temporal resolution** of the data is **monthly**, therefore we have **36 years** of data.\n",
    "\n",
    "The **location coordinates** are also self explaining:"
   ]
  },
  {
   "cell_type": "code",
   "execution_count": null,
   "metadata": {},
   "outputs": [],
   "source": [
    "print(netcdf.longitude)"
   ]
  },
  {
   "cell_type": "code",
   "execution_count": null,
   "metadata": {},
   "outputs": [],
   "source": [
    "print(netcdf.latitude)"
   ]
  },
  {
   "cell_type": "markdown",
   "metadata": {},
   "source": [
    "**Q: what is the spatial resolution of ERA-Interim data?**"
   ]
  },
  {
   "cell_type": "markdown",
   "metadata": {},
   "source": [
    "### Variables "
   ]
  },
  {
   "cell_type": "markdown",
   "metadata": {},
   "source": [
    "Variables can also be accessed directly from the dataset:"
   ]
  },
  {
   "cell_type": "code",
   "execution_count": null,
   "metadata": {},
   "outputs": [],
   "source": [
    "print(netcdf.t2m)"
   ]
  },
  {
   "cell_type": "markdown",
   "metadata": {},
   "source": [
    "The **attributes** of a variable are very important, they must be specified by the data provider. Here we can read in which units the variable is defined, as well as a description of the variable (the \"long_name\" attribute)."
   ]
  },
  {
   "cell_type": "markdown",
   "metadata": {},
   "source": [
    "## A first plot"
   ]
  },
  {
   "cell_type": "markdown",
   "metadata": {},
   "source": [
    "Plotting climate data is extremely easy in Python thanks to the [xray](http://xray.readthedocs.org/en/stable/) and [cartopy](http://scitools.org.uk/cartopy/docs/latest/index.html) libraries. First we are going to compute the time average of the 2 m temperature over the entire period:"
   ]
  },
  {
   "cell_type": "code",
   "execution_count": null,
   "metadata": {},
   "outputs": [],
   "source": [
    "t2_avg = netcdf.t2m.mean(dim='time')"
   ]
  },
  {
   "cell_type": "markdown",
   "metadata": {},
   "source": [
    "What did we just do? From the netcdf dataset, we took the t2m variable (`netcdf.t2m`) and we applied the function `.mean()` to it. So an equivalent formulation could be:"
   ]
  },
  {
   "cell_type": "code",
   "execution_count": null,
   "metadata": {},
   "outputs": [],
   "source": [
    "# Equivalent code:\n",
    "t2_var = netcdf.t2m\n",
    "t2_avg = t2_var.mean(dim='time')"
   ]
  },
  {
   "cell_type": "markdown",
   "metadata": {},
   "source": [
    "What is `t2_avg` by the way?"
   ]
  },
  {
   "cell_type": "code",
   "execution_count": null,
   "metadata": {},
   "outputs": [],
   "source": [
    "t2_avg"
   ]
  },
  {
   "cell_type": "markdown",
   "metadata": {},
   "source": [
    "So `t2_avg` is a 2-dimensional array of dimensions [latitude, longitude] (note that the time dimension has disapeared).\n",
    "\n",
    "When we applied the `mean()` function, we added an argument (called a **keyword argument**): `dim='time'`. With this argument, we told the function to compute the average *over the time dimension*.\n",
    "\n",
    "Let's remove this keyword and compute the mean again:"
   ]
  },
  {
   "cell_type": "code",
   "execution_count": null,
   "metadata": {},
   "outputs": [],
   "source": [
    "t2_var.mean()"
   ]
  },
  {
   "cell_type": "markdown",
   "metadata": {},
   "source": [
    "Ha! We now have an array without dimensions: a single element array, also called a **scalar**. This is the total average over all the dimensions: the average temperature of the Earth for the last 34 years...\n",
    "\n",
    ".. but wait? 278.41 K converts to approx 5.26°C. We learned in the lecture that the average surface temperature of the Earth is about 15°C. A difference of 10°C is huge!\n",
    "\n",
    "**Q: what could be the reason(s) for this difference?**"
   ]
  },
  {
   "cell_type": "markdown",
   "metadata": {},
   "source": [
    "*(answer here)*"
   ]
  },
  {
   "cell_type": "markdown",
   "metadata": {},
   "source": [
    "**Q: what should we expect from the flowing commands:**\n",
    "\n",
    "    t2_var.mean(dim='longitude')\n",
    "    t2_var.mean(dim='time').mean(dim='longitude')\n",
    "    \n",
    "**Try them out!**"
   ]
  },
  {
   "cell_type": "code",
   "execution_count": null,
   "metadata": {},
   "outputs": [],
   "source": [
    "# Try the commands above. Do they work as expected? "
   ]
  },
  {
   "cell_type": "markdown",
   "metadata": {},
   "source": [
    "**E: what is the average minimum temperature (in °C) on the globe? And the maximum?** ([hint](http://xray.readthedocs.org/en/stable/generated/xray.Dataset.max.html#xray.Dataset.max))"
   ]
  },
  {
   "cell_type": "code",
   "execution_count": null,
   "metadata": {},
   "outputs": [],
   "source": [
    "# Compute the min and max of t2_avg and convert them to degree celcius. Print the results."
   ]
  },
  {
   "cell_type": "markdown",
   "metadata": {},
   "source": [
    "### Plotting the 34-yr average of temperature "
   ]
  },
  {
   "cell_type": "code",
   "execution_count": null,
   "metadata": {},
   "outputs": [],
   "source": [
    "# Define the map projection.\n",
    "ax = plt.axes(projection=ccrs.Robinson())\n",
    "# ax is an empty plot. We now plot the variable t2_avg onto ax\n",
    "t2_avg.plot(ax=ax, origin='upper', aspect='equal', transform=ccrs.PlateCarree()) \n",
    "# The keywords \"origin\" and \"transform\" are projection details \n",
    "# The keyword aspect just ensures that the plot aspect ratio is preserved\n",
    "ax.coastlines();  # Add coastlines to the plot"
   ]
  },
  {
   "cell_type": "markdown",
   "metadata": {},
   "source": [
    "** E: convert the average temperature to degrees celcius and plot it **"
   ]
  },
  {
   "cell_type": "code",
   "execution_count": null,
   "metadata": {},
   "outputs": [],
   "source": [
    "# Write your code here\n",
    "# Tip: define a variable t2_avg_c wich is t2_avg in celsius and plot exactly like we did before."
   ]
  },
  {
   "cell_type": "markdown",
   "metadata": {},
   "source": [
    "**Q: the plot looks quite different in Celsius. What happened? Do you like the new plot better?**"
   ]
  },
  {
   "cell_type": "markdown",
   "metadata": {},
   "source": [
    "## Change some plot parameters"
   ]
  },
  {
   "cell_type": "markdown",
   "metadata": {},
   "source": [
    "### Title and units"
   ]
  },
  {
   "cell_type": "markdown",
   "metadata": {},
   "source": [
    "Taken without context, our plots are not very good: what's the unit? what does \"t2m\" mean?\n",
    "\n",
    "We should add meaningfull information to our plot:"
   ]
  },
  {
   "cell_type": "code",
   "execution_count": null,
   "metadata": {},
   "outputs": [],
   "source": [
    "t2_avg.name = 'K' # this is a trick to get the units right. It is not very elegant but is the fastest way for us now.\n",
    "ax = plt.axes(projection=ccrs.Robinson())\n",
    "t2_avg.plot(ax=ax, origin='upper', aspect='equal', transform=ccrs.PlateCarree()) \n",
    "# Add a title\n",
    "ax.set_title('Average 2 m air temperature 1970-2014 -- ERA-Interim')\n",
    "ax.coastlines();"
   ]
  },
  {
   "cell_type": "markdown",
   "metadata": {},
   "source": [
    "### The colormap"
   ]
  },
  {
   "cell_type": "markdown",
   "metadata": {},
   "source": [
    "The best colormap for any given data set depends on many things. There are several colormaps available in matplotlib: \n",
    "\n",
    "http://matplotlib.org/1.4.3/users/colormaps.html\n",
    "\n",
    "Let's try the \"summer\" colormap:"
   ]
  },
  {
   "cell_type": "code",
   "execution_count": null,
   "metadata": {},
   "outputs": [],
   "source": [
    "ax = plt.axes(projection=ccrs.Robinson())\n",
    "t2_avg.plot(ax=ax, origin='upper', aspect='equal', transform=ccrs.PlateCarree(), cmap=plt.get_cmap('summer')) \n",
    "ax.coastlines();"
   ]
  },
  {
   "cell_type": "markdown",
   "metadata": {},
   "source": [
    "### The data and color levels"
   ]
  },
  {
   "cell_type": "markdown",
   "metadata": {},
   "source": [
    "The default plotting practices for images is to use **continuous** colormaps. Continuous colormaps are good in showing details and patterns but they have a default: it is difficult to assign a color to an exact value because our eyes are not able to see small differences between colors.\n",
    "\n",
    "First, we are going to try out **discrete** levels:"
   ]
  },
  {
   "cell_type": "code",
   "execution_count": null,
   "metadata": {},
   "outputs": [],
   "source": [
    "ax = plt.axes(projection=ccrs.Robinson())\n",
    "# Choose ten levels\n",
    "t2_avg.plot(ax=ax, origin='upper', aspect='equal', transform=ccrs.PlateCarree(), levels=10) \n",
    "ax.coastlines();"
   ]
  },
  {
   "cell_type": "markdown",
   "metadata": {},
   "source": [
    "**Q: what is the dominant temperature range in the tropics?**"
   ]
  },
  {
   "cell_type": "markdown",
   "metadata": {},
   "source": [
    "By specifying `levels=10`, the plot intervals are regular and chosen to cover the whole temperature range. However this has a negative effect: the levels are biased towards the very cold temperatures, and it hides many details in the tropics where temperature variations are lower than 10 K. \n",
    "\n",
    "We can choose the levels in order to add more detail in the tropics and reduce detail at the poles:"
   ]
  },
  {
   "cell_type": "code",
   "execution_count": null,
   "metadata": {},
   "outputs": [],
   "source": [
    "ax = plt.axes(projection=ccrs.Robinson())\n",
    "# Choose the levels manually\n",
    "t2_avg.plot(ax=ax, origin='upper', aspect='equal', transform=ccrs.PlateCarree(), \n",
    "            levels=[240, 260, 280, 285, 290, 294, 298, 302]) \n",
    "ax.coastlines();"
   ]
  },
  {
   "cell_type": "markdown",
   "metadata": {},
   "source": [
    "**Q: Where are the warmest temperature on Earth? The coldest? Note the places on Earth where the meridional gradients are strongest. What are the common features of the eastern boundaries of the major oceans?**"
   ]
  },
  {
   "cell_type": "markdown",
   "metadata": {},
   "source": [
    "** E: make a \"different\" plot of the temperature in Celsius you did before. Add a title and the unit to the colorbar. By comparing the minimum and maximum value of t2_avg_c, determine why the automatic colorbar levels were chosen this way by the plot function. Choose a detailed set of discrete data levels and plot it.**"
   ]
  },
  {
   "cell_type": "code",
   "execution_count": null,
   "metadata": {},
   "outputs": [],
   "source": [
    "# \"Better\" plot of the temperature in Celsius"
   ]
  },
  {
   "cell_type": "markdown",
   "metadata": {},
   "source": [
    "## What next?"
   ]
  },
  {
   "cell_type": "markdown",
   "metadata": {},
   "source": [
    "We have learned how to compute some standard statistics from a NetCDF dataset. Now we will apply what we learned in the following notebook:\n",
    "\n",
    "    $ cp /scratch/c707/c7071047/teaching/Exercises/02_Exercises_ERA-Interim_Temperature.ipynb ~/climate_exercises/"
   ]
  },
  {
   "cell_type": "code",
   "execution_count": null,
   "metadata": {},
   "outputs": [],
   "source": []
  }
 ],
 "metadata": {
  "kernelspec": {
   "display_name": "Python 3",
   "language": "python",
   "name": "python3"
  },
  "language_info": {
   "codemirror_mode": {
    "name": "ipython",
    "version": 3
   },
   "file_extension": ".py",
   "mimetype": "text/x-python",
   "name": "python",
   "nbconvert_exporter": "python",
   "pygments_lexer": "ipython3",
   "version": "3.4.3"
  }
 },
 "nbformat": 4,
 "nbformat_minor": 0
}
