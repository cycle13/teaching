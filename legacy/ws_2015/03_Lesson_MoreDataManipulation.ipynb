{
 "cells": [
  {
   "cell_type": "markdown",
   "metadata": {},
   "source": [
    "# 03: More tools for statistical and climatological analysis"
   ]
  },
  {
   "cell_type": "markdown",
   "metadata": {},
   "source": [
    "With exercise 00 we learned to use the jupyter notebook and learned the very basics of python. In exercise 01 we've seen that we can do some statistics and plots without knowing much about the details of the python language. Finally, we've applied what we learned in exercise 02.\n",
    "\n",
    "Today's lesson will also be organised in two units. This notebook will introduce some new tools, while the next notebook (``04_Exercises_Precipitation.ipynb``) will help you to apply them on your own."
   ]
  },
  {
   "cell_type": "markdown",
   "metadata": {},
   "source": [
    "## Import the packages and read the temperature data"
   ]
  },
  {
   "cell_type": "markdown",
   "metadata": {},
   "source": [
    "This did not change:"
   ]
  },
  {
   "cell_type": "code",
   "execution_count": null,
   "metadata": {},
   "outputs": [],
   "source": [
    "# Define the tools we are going to need today\n",
    "%matplotlib inline\n",
    "import matplotlib.pyplot as plt  # plotting library\n",
    "import numpy as np  # numerical library\n",
    "import xray  # NetCDF library\n",
    "import cartopy  # Plotting libary\n",
    "import cartopy.crs as ccrs  # Projections\n",
    "# Some defaults\n",
    "plt.rcParams['figure.figsize'] = (14, 5)  # Default plot size\n",
    "np.set_printoptions(threshold=20)  # avoid to print very large arrays on screen\n",
    "# The commands below are not important\n",
    "import warnings\n",
    "warnings.filterwarnings('ignore')"
   ]
  },
  {
   "cell_type": "markdown",
   "metadata": {},
   "source": [
    "**New data**: I have prepared new NetCDF files for the temperature and the invariant field. You will find them on OLAT. You won't see much difference between the files, but I had a good reason to change them. Reading the data is as easy as it was before:"
   ]
  },
  {
   "cell_type": "code",
   "execution_count": null,
   "metadata": {},
   "outputs": [],
   "source": [
    "netcdf = xray.open_dataset('ERA-Int-Monthly-2mTemp_new.nc')\n",
    "t2_var = netcdf.t2m"
   ]
  },
  {
   "cell_type": "markdown",
   "metadata": {},
   "source": [
    "We will convert the temperature to degree Celsius:"
   ]
  },
  {
   "cell_type": "code",
   "execution_count": null,
   "metadata": {},
   "outputs": [],
   "source": [
    "t2_var = t2_var - 273.15"
   ]
  },
  {
   "cell_type": "markdown",
   "metadata": {},
   "source": [
    "## \"Real\" average temperature of the Earth"
   ]
  },
  {
   "cell_type": "markdown",
   "metadata": {},
   "source": [
    "As you remember, t2_var is a multidimensional array:"
   ]
  },
  {
   "cell_type": "code",
   "execution_count": null,
   "metadata": {},
   "outputs": [],
   "source": [
    "print(t2_var.dims)"
   ]
  },
  {
   "cell_type": "markdown",
   "metadata": {},
   "source": [
    "We have learned how to average this 3D array over time:"
   ]
  },
  {
   "cell_type": "code",
   "execution_count": null,
   "metadata": {},
   "outputs": [],
   "source": [
    "t2_avg = t2_var.mean(dim='time')\n",
    "t2_avg"
   ]
  },
  {
   "cell_type": "markdown",
   "metadata": {},
   "source": [
    "or how to compute the total average:"
   ]
  },
  {
   "cell_type": "code",
   "execution_count": null,
   "metadata": {},
   "outputs": [],
   "source": [
    "print(t2_avg.mean())"
   ]
  },
  {
   "cell_type": "markdown",
   "metadata": {},
   "source": [
    "Which, as we have discussed in exercise 01, is definitely **not** the average temperature of the Earth. This is because the area of the grid points of the longitude, latitude grid are not constant: they are smaller at high latitudes."
   ]
  },
  {
   "cell_type": "markdown",
   "metadata": {},
   "source": [
    "### Create our own DataArray to do a weighted average"
   ]
  },
  {
   "cell_type": "markdown",
   "metadata": {},
   "source": [
    "With the following commands I am creating a DataArray which is containing the area of each grid point on a sphere. This three commands are the \"compressed\" version of an explanation provided in the Notebook \"Appendix_A_Surface_of_Gridpoints\". The most interested students may want to have a look at it, but for now we just use the few commands I prepared:"
   ]
  },
  {
   "cell_type": "code",
   "execution_count": null,
   "metadata": {},
   "outputs": [],
   "source": [
    "corner_lats = np.deg2rad(np.clip(np.arange(242) * 0.75 - 90.375, -90, 90))\n",
    "area_segment = 2 * np.pi * 6371**2 * np.abs(np.sin(corner_lats[1:]) - np.sin(corner_lats[:-1])) / 480\n",
    "area_grid = (t2_avg * 0 + 1) * xray.DataArray(area_segment, [('latitude', t2_avg.latitude)])"
   ]
  },
  {
   "cell_type": "markdown",
   "metadata": {},
   "source": [
    "**E: \"Explore\" the variable area_grid. Plot it on a map (as we did with temperature). What is the probable unit of this variable? Write a simple test to see if this variable is indeed the real surface area or the ERA-Interim grid points** (Earth's radius: 6371 km)"
   ]
  },
  {
   "cell_type": "code",
   "execution_count": null,
   "metadata": {},
   "outputs": [],
   "source": [
    "# Your answer here"
   ]
  },
  {
   "cell_type": "markdown",
   "metadata": {},
   "source": [
    "### Weighted average"
   ]
  },
  {
   "cell_type": "markdown",
   "metadata": {},
   "source": [
    "To compute the average temperature of the Earth we have to \"weight\" each temperature value by it's relative contribution to the total temperature. The easiest way to do this is to define an array of weights, which has the following properties: it has the same dimensions as ``area_grid``, each value is proportional the the area of the grid point and the sum of its elements is 1."
   ]
  },
  {
   "cell_type": "markdown",
   "metadata": {},
   "source": [
    "**E: use the variable \"area_grid\" to compute a variable named \"weight\" which has the properties mentioned above.** ([hint](http://xray.readthedocs.org/en/stable/generated/xray.DataArray.sum.html))"
   ]
  },
  {
   "cell_type": "code",
   "execution_count": null,
   "metadata": {},
   "outputs": [],
   "source": [
    "# Your answer here"
   ]
  },
  {
   "cell_type": "markdown",
   "metadata": {},
   "source": [
    "**E: compute a variable \"weighted_t2_avg\" by multiplying \"t2_avg\" with \"weight\". Compute the sum of its elements.**"
   ]
  },
  {
   "cell_type": "code",
   "execution_count": null,
   "metadata": {},
   "outputs": [],
   "source": [
    "# Your answer here"
   ]
  },
  {
   "cell_type": "markdown",
   "metadata": {},
   "source": [
    "**Q: What is the result of our computations? Is it now closer to our expectations?**"
   ]
  },
  {
   "cell_type": "code",
   "execution_count": null,
   "metadata": {},
   "outputs": [],
   "source": [
    "# Your answer here"
   ]
  },
  {
   "cell_type": "markdown",
   "metadata": {},
   "source": [
    "## Working with time series "
   ]
  },
  {
   "cell_type": "markdown",
   "metadata": {},
   "source": [
    "We start by multiplying our 3-dimensional ``t2_var`` with the 2-dimensional ``weight`` variable:"
   ]
  },
  {
   "cell_type": "code",
   "execution_count": null,
   "metadata": {},
   "outputs": [],
   "source": [
    "weighted_2d_var = weight * t2_var"
   ]
  },
  {
   "cell_type": "markdown",
   "metadata": {},
   "source": [
    "We then sum this weighted variable over the dimensions 'longitude' and 'latitude', then we plot the result:"
   ]
  },
  {
   "cell_type": "code",
   "execution_count": null,
   "metadata": {},
   "outputs": [],
   "source": [
    "t2_avg_ts = weighted_2d_var.sum(dim='longitude').sum(dim='latitude')\n",
    "t2_avg_ts.plot();"
   ]
  },
  {
   "cell_type": "markdown",
   "metadata": {},
   "source": [
    "**Q: what is \"t2_avg_ts\"? Are you surprised by what you see? Try to find an explanation for the strong periodic variations.**"
   ]
  },
  {
   "cell_type": "code",
   "execution_count": null,
   "metadata": {},
   "outputs": [],
   "source": [
    "# Your answer here"
   ]
  },
  {
   "cell_type": "markdown",
   "metadata": {},
   "source": [
    "### Annual cycle "
   ]
  },
  {
   "cell_type": "markdown",
   "metadata": {},
   "source": [
    "xray makes it very easy to compute the standard statistics of time series. For example, let's see what the following commands will do:"
   ]
  },
  {
   "cell_type": "code",
   "execution_count": null,
   "metadata": {},
   "outputs": [],
   "source": [
    "t2_cycle_ts = t2_avg_ts.groupby('time.month').mean(dim='time')"
   ]
  },
  {
   "cell_type": "markdown",
   "metadata": {},
   "source": [
    "**E: \"explore\" the variable \"t2_cycle_ts\". Plot it. What are we looking at? What could be the reasons for these variations?**"
   ]
  },
  {
   "cell_type": "code",
   "execution_count": null,
   "metadata": {},
   "outputs": [],
   "source": [
    "# Your answer here"
   ]
  },
  {
   "cell_type": "markdown",
   "metadata": {},
   "source": [
    "### Annual average"
   ]
  },
  {
   "cell_type": "code",
   "execution_count": null,
   "metadata": {},
   "outputs": [],
   "source": [
    "t2_annual_ts = t2_avg_ts.resample(dim='time', freq='A')\n",
    "t2_annual_ts.plot()"
   ]
  },
  {
   "cell_type": "markdown",
   "metadata": {},
   "source": [
    "**E: \"explore\" the variable \"t2_annual_ts\". Plot it. What are we looking at?**"
   ]
  },
  {
   "cell_type": "code",
   "execution_count": null,
   "metadata": {},
   "outputs": [],
   "source": [
    "# Your answer here"
   ]
  },
  {
   "cell_type": "markdown",
   "metadata": {},
   "source": [
    "**E: compute the standard deviation, min and max of this time serie. What can you say about the variability of the air temperature at the surface of the Earth?**"
   ]
  },
  {
   "cell_type": "code",
   "execution_count": null,
   "metadata": {},
   "outputs": [],
   "source": [
    "# Your answer here"
   ]
  },
  {
   "cell_type": "markdown",
   "metadata": {},
   "source": [
    "## Selecting specific areas of our data"
   ]
  },
  {
   "cell_type": "markdown",
   "metadata": {},
   "source": [
    "We are now getting back to the map of average temperature:"
   ]
  },
  {
   "cell_type": "code",
   "execution_count": null,
   "metadata": {},
   "outputs": [],
   "source": [
    "ax = plt.axes(projection=ccrs.PlateCarree()) # Note that I changed the projection\n",
    "t2_avg.plot(ax=ax, origin='upper', aspect='equal', transform=ccrs.PlateCarree()) \n",
    "ax.gridlines()  # What does this command do?\n",
    "ax.coastlines();"
   ]
  },
  {
   "cell_type": "markdown",
   "metadata": {},
   "source": [
    "We are now learning how to \"select\" parts of the data for a specific analysis. One more time, xray provides us with tools that are very intuitive: "
   ]
  },
  {
   "cell_type": "code",
   "execution_count": null,
   "metadata": {},
   "outputs": [],
   "source": [
    "sel_t2 = t2_avg.sel(longitude=slice(-20, 20))"
   ]
  },
  {
   "cell_type": "markdown",
   "metadata": {},
   "source": [
    "The best way to understand what we've done is simply to plot it:"
   ]
  },
  {
   "cell_type": "code",
   "execution_count": null,
   "metadata": {},
   "outputs": [],
   "source": [
    "ax = plt.axes(projection=ccrs.PlateCarree()) # Note that I changed the projection\n",
    "sel_t2.plot(ax=ax, origin='upper', aspect='equal', transform=ccrs.PlateCarree()) \n",
    "ax.add_feature(cartopy.feature.BORDERS); # What does this command do? \n",
    "ax.coastlines();"
   ]
  },
  {
   "cell_type": "markdown",
   "metadata": {},
   "source": [
    "**E: create a new \"sel_t2\" variable which is a subset of t2_avg between the longitudes (-20, 60) and the latitudes (40, -40). Plot the result.** (*hint: yes, I wrote (40, -40) and not (-40, 40)*)"
   ]
  },
  {
   "cell_type": "code",
   "execution_count": null,
   "metadata": {},
   "outputs": [],
   "source": [
    "sel_t2 = t2_avg.sel(longitude=slice(-20, 60), latitude=slice(40, -40))\n",
    "ax = plt.axes(projection=ccrs.PlateCarree()) # Note that I changed the projection\n",
    "sel_t2.plot(ax=ax, origin='upper', aspect='equal', transform=ccrs.PlateCarree()) \n",
    "ax.add_feature(cartopy.feature.BORDERS); # What does this command do? \n",
    "ax.coastlines();"
   ]
  },
  {
   "cell_type": "markdown",
   "metadata": {},
   "source": [
    "## Dimensional juggling!"
   ]
  },
  {
   "cell_type": "markdown",
   "metadata": {},
   "source": [
    "Now that we know how to work with time series and how to select part of our data, maybe we could combine both methods? Let's get back to our orginal 3D temperature data. Remember?"
   ]
  },
  {
   "cell_type": "code",
   "execution_count": null,
   "metadata": {},
   "outputs": [],
   "source": [
    "t2_var.dims"
   ]
  },
  {
   "cell_type": "markdown",
   "metadata": {},
   "source": [
    "If I ask xray to plot this data, it won't really know what to do with all these dimensions, so it gets back to a default solution:"
   ]
  },
  {
   "cell_type": "code",
   "execution_count": null,
   "metadata": {},
   "outputs": [],
   "source": [
    "t2_var.plot();"
   ]
  },
  {
   "cell_type": "markdown",
   "metadata": {},
   "source": [
    "**Q: what are we looking at? Explain what you see.**"
   ]
  },
  {
   "cell_type": "markdown",
   "metadata": {},
   "source": [
    "Now, we can note that the selection methods we applied earlier can *also* be applied to our 3 dimensional array! Let's try it:"
   ]
  },
  {
   "cell_type": "code",
   "execution_count": null,
   "metadata": {},
   "outputs": [],
   "source": [
    "sel_t2 = t2_var.sel(longitude=slice(-20, 60), latitude=slice(40, -40))"
   ]
  },
  {
   "cell_type": "markdown",
   "metadata": {},
   "source": [
    "**E: Explore sel_t2. What are its dimensions, its coordinates?**"
   ]
  },
  {
   "cell_type": "code",
   "execution_count": null,
   "metadata": {},
   "outputs": [],
   "source": [
    "# your answer here"
   ]
  },
  {
   "cell_type": "markdown",
   "metadata": {},
   "source": [
    "By the way, if there is a time dimension: shouldn't the time aggregation methods also be applicable to our variable?"
   ]
  },
  {
   "cell_type": "code",
   "execution_count": null,
   "metadata": {},
   "outputs": [],
   "source": [
    "sel_t2_cycle = sel_t2.groupby('time.month').mean(dim='time')"
   ]
  },
  {
   "cell_type": "markdown",
   "metadata": {},
   "source": [
    "**E: Explore sel_t2_cycle. What are its dimensions, its coordinates?**"
   ]
  },
  {
   "cell_type": "code",
   "execution_count": null,
   "metadata": {},
   "outputs": [],
   "source": [
    "# your answer here"
   ]
  },
  {
   "cell_type": "markdown",
   "metadata": {},
   "source": [
    "Let's continue to play around:"
   ]
  },
  {
   "cell_type": "code",
   "execution_count": null,
   "metadata": {},
   "outputs": [],
   "source": [
    "sel_t2_cycle_lonavg = sel_t2_cycle.mean(dim='longitude')"
   ]
  },
  {
   "cell_type": "markdown",
   "metadata": {},
   "source": [
    "**E: Explore sel_t2_cycle_lonavg. What are its dimensions, its coordinates? Try out the command: \"sel_t2_cycle_lonavg.T\" What did it change?**"
   ]
  },
  {
   "cell_type": "code",
   "execution_count": null,
   "metadata": {},
   "outputs": [],
   "source": [
    "# your answer here"
   ]
  },
  {
   "cell_type": "markdown",
   "metadata": {},
   "source": [
    "OK. Let's try to plot it:"
   ]
  },
  {
   "cell_type": "code",
   "execution_count": null,
   "metadata": {},
   "outputs": [],
   "source": [
    "sel_t2_cycle_lonavg.T.plot();"
   ]
  },
  {
   "cell_type": "markdown",
   "metadata": {},
   "source": [
    "The plot above is called a [Hovmöller](https://en.wikipedia.org/wiki/Hovm%C3%B6ller_diagram), often used in climatology. The default procedure to plot this data is probably not the best for this kind of plot. Here's another posibility to plot it:"
   ]
  },
  {
   "cell_type": "code",
   "execution_count": null,
   "metadata": {},
   "outputs": [],
   "source": [
    "xray.plot.contourf(sel_t2_cycle_lonavg.T, levels=np.linspace(10, 30, 11));\n",
    "plt.title('Hovmöller plot of the monthly average of temperature 1970-2014 over Africa (20°E, 60°W)');"
   ]
  },
  {
   "cell_type": "markdown",
   "metadata": {},
   "source": [
    "**Q: Desbribe the plot.**"
   ]
  },
  {
   "cell_type": "code",
   "execution_count": null,
   "metadata": {},
   "outputs": [],
   "source": [
    "# your answer here"
   ]
  },
  {
   "cell_type": "markdown",
   "metadata": {},
   "source": [
    "## Selection based on a condition"
   ]
  },
  {
   "cell_type": "markdown",
   "metadata": {},
   "source": [
    "What if we are interested into air temperature on land only, and want to remove the oceans from our analyses? For this we are going to have to \"mask out\" the oceans grid points. First, we will need to open the Invariant file: "
   ]
  },
  {
   "cell_type": "code",
   "execution_count": null,
   "metadata": {},
   "outputs": [],
   "source": [
    "nc_inv = xray.open_dataset('ERA-Int-Invariant_new.nc')\n",
    "nc_inv"
   ]
  },
  {
   "cell_type": "markdown",
   "metadata": {},
   "source": [
    "We remember from Exercise 02 that the variable \"lsm\" contains the landmask from ERA-Interim."
   ]
  },
  {
   "cell_type": "code",
   "execution_count": null,
   "metadata": {},
   "outputs": [],
   "source": [
    "ax = plt.axes(projection=ccrs.Robinson())\n",
    "nc_inv.lsm.plot(ax=ax, origin='upper', aspect='equal', transform=ccrs.PlateCarree()) \n",
    "ax.gridlines()\n",
    "ax.coastlines();"
   ]
  },
  {
   "cell_type": "markdown",
   "metadata": {},
   "source": [
    "OK. So \"1\" is land, \"0\" is ocean. We are going to use this information to mask out the values from the ocean:"
   ]
  },
  {
   "cell_type": "code",
   "execution_count": null,
   "metadata": {},
   "outputs": [],
   "source": [
    "masked_t2_avg = t2_avg.where(nc_inv.lsm == 1)"
   ]
  },
  {
   "cell_type": "markdown",
   "metadata": {},
   "source": [
    "What did we just do? We applied a filter to select the values only [where](http://xray.readthedocs.org/en/stable/generated/xray.DataArray.where.html#xray.DataArray.where) a certain condition is met. Here the variable \"lsm\" should be equal to zero."
   ]
  },
  {
   "cell_type": "markdown",
   "metadata": {},
   "source": [
    "**E: Plot the variable \"masked_t2_avg\". Compute the average temperature on land from this data. But bee careful! Shouldnt this array also be weighted? Repeat the operation with all oceans grid points. Compare the two values.**"
   ]
  },
  {
   "cell_type": "code",
   "execution_count": null,
   "metadata": {},
   "outputs": [],
   "source": [
    "# your answer here"
   ]
  },
  {
   "cell_type": "markdown",
   "metadata": {},
   "source": [
    "**E: Now repeat the \"dimensionnal juggling\" operations above but with oceans masked. Do the Hovmöller plot for Africa, but with all ocean grid points masked.**"
   ]
  },
  {
   "cell_type": "code",
   "execution_count": null,
   "metadata": {},
   "outputs": [],
   "source": []
  }
 ],
 "metadata": {
  "kernelspec": {
   "display_name": "Python 3",
   "language": "python",
   "name": "python3"
  },
  "language_info": {
   "codemirror_mode": {
    "name": "ipython",
    "version": 3
   },
   "file_extension": ".py",
   "mimetype": "text/x-python",
   "name": "python",
   "nbconvert_exporter": "python",
   "pygments_lexer": "ipython3",
   "version": "3.5.2"
  }
 },
 "nbformat": 4,
 "nbformat_minor": 0
}
