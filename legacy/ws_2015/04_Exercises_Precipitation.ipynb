{
 "cells": [
  {
   "cell_type": "markdown",
   "metadata": {},
   "source": [
    "# 04 - Exercises with precipitation data"
   ]
  },
  {
   "cell_type": "markdown",
   "metadata": {},
   "source": [
    "In this exercise we are going to apply the tools and methods presented in Lesson 03 in order to learn something about global precipitation and its variability."
   ]
  },
  {
   "cell_type": "markdown",
   "metadata": {},
   "source": [
    "## 01. Importing the modules"
   ]
  },
  {
   "cell_type": "markdown",
   "metadata": {},
   "source": [
    "This one is simple. I'll do it for you:"
   ]
  },
  {
   "cell_type": "code",
   "execution_count": null,
   "metadata": {},
   "outputs": [],
   "source": [
    "# Define the tools we are going to need today\n",
    "%matplotlib inline\n",
    "import matplotlib.pyplot as plt  # plotting library\n",
    "import numpy as np  # numerical library\n",
    "import xray  # NetCDF library\n",
    "import cartopy  # Plotting libary\n",
    "import cartopy.crs as ccrs  # Projections\n",
    "# Some defaults\n",
    "plt.rcParams['figure.figsize'] = (14, 5)  # Default plot size\n",
    "np.set_printoptions(threshold=20)  # avoid to print very large arrays on screen\n",
    "# The commands below are not important\n",
    "import warnings\n",
    "warnings.filterwarnings('ignore')"
   ]
  },
  {
   "cell_type": "markdown",
   "metadata": {},
   "source": [
    "## 02. Precipitation data file"
   ]
  },
  {
   "cell_type": "markdown",
   "metadata": {},
   "source": [
    "Get the new precipitation data file (``ERA-Int-Monthly-P.nc``) from OLAT or from the scratch directory (``/scratch/c707/c7071047/data``). Open the file and explore it. \n",
    "\n",
    "**Q: what variable(s) does it contain? What are the units?**"
   ]
  },
  {
   "cell_type": "code",
   "execution_count": null,
   "metadata": {},
   "outputs": [],
   "source": [
    "# your answer here"
   ]
  },
  {
   "cell_type": "markdown",
   "metadata": {},
   "source": [
    "**E: compute the average total annual precipitation (average precipitation over a year) and store it in a variable called \"annual_prcp\". Plot it.**\n",
    "\n",
    "**Q: where is the wettest place on Earth? Where is is generally dry? Are the colormap and the chosen scale appropriate for the representation of precipitation data? If not, why not? Try to set a new keyword argument to the plot: \"vmax=5\". What does that change?**"
   ]
  },
  {
   "cell_type": "code",
   "execution_count": null,
   "metadata": {},
   "outputs": [],
   "source": [
    "# your answer here"
   ]
  },
  {
   "cell_type": "markdown",
   "metadata": {},
   "source": [
    "**E: make a new plot of \"annual_prcp\", this time with a new colormap ('YlGnBu') and with the following discrete levels specified: [0.05, 0.2, 0.5, 0.7, 1., 1.5, 2., 3., 5.]. Now have a look at the patterns again.**\n",
    "\n",
    "**Q: using your knowledge from the lecture, try to answer questions such as:**\n",
    "- why are the oceans (mostly) dryer than land in the subtropics?\n",
    "- this was not covered in the lecture, but why is there only one large desert (in Africa) while other continents at the same latitute are rather wet?\n",
    "- why are the eastern subtropical oceans dryer than in their western part? Do all three oceans have similar patterns for precipitation?\n",
    "- where does it fall more than 3000 mm precipitation per year? And where does is fall more than 5000 mm precipitation a year? Is it easy to find that out? \n",
    "- Note that it could be easy to use the \".where()\" function to highlight these areas easily. Can you come up with a plot highlighing the areas with more than 5m precipitation per year??\n",
    "- find the \"deserts\" of the world where there is less than 50 mm precipitation a year. Explain their presence."
   ]
  },
  {
   "cell_type": "code",
   "execution_count": null,
   "metadata": {},
   "outputs": [],
   "source": [
    "# your answer here"
   ]
  },
  {
   "cell_type": "markdown",
   "metadata": {},
   "source": [
    "## 03. Global precipitation time series"
   ]
  },
  {
   "cell_type": "markdown",
   "metadata": {},
   "source": [
    "For the exercises we are going to need the weight variable again. Let me compute the area of each ERA-Interim grid point for you again:"
   ]
  },
  {
   "cell_type": "code",
   "execution_count": null,
   "metadata": {},
   "outputs": [],
   "source": [
    "corner_lats = np.deg2rad(np.clip(np.arange(242) * 0.75 - 90.375, -90, 90))\n",
    "area_segment = 2 * np.pi * 6371**2 * np.abs(np.sin(corner_lats[1:]) - np.sin(corner_lats[:-1])) / 480\n",
    "area_grid = (annual_prcp * 0 + 1) * xray.DataArray(area_segment, [('latitude', annual_prcp.latitude)])"
   ]
  },
  {
   "cell_type": "markdown",
   "metadata": {},
   "source": [
    "**E: Compute the average precipitation over the planet. Compute the monthly time series of precipitation averaged over the planet and store it in a variable called \"prcp_ts\". Plot it.** hint: you can recall Lesson_03 (\"Working with time series\") to help you out.\n",
    "\n",
    "**Q: how does precipitation vary at the yearly and monthly scale? Compare it to the variability of temperature that we studied in Lesson_03.**"
   ]
  },
  {
   "cell_type": "code",
   "execution_count": null,
   "metadata": {},
   "outputs": [],
   "source": [
    "# your answer here"
   ]
  },
  {
   "cell_type": "markdown",
   "metadata": {},
   "source": [
    "Note that you can select a specific period of time by writing:"
   ]
  },
  {
   "cell_type": "code",
   "execution_count": null,
   "metadata": {},
   "outputs": [],
   "source": [
    "prcp_ts.sel(time=slice('1996', '2000')).plot();"
   ]
  },
  {
   "cell_type": "markdown",
   "metadata": {},
   "source": [
    "**E: try to select some other periods of time.** Note that it is also possible to select periods with their month, try for example: ``prcp_ts.sel(time=slice('1996/02', '1997/01')).plot()``.\n",
    "\n",
    "**Q: Can you distinguish a repeating cycle? At which month does precipitation tend to be smaller?**"
   ]
  },
  {
   "cell_type": "code",
   "execution_count": null,
   "metadata": {},
   "outputs": [],
   "source": [
    "# your answer here"
   ]
  },
  {
   "cell_type": "markdown",
   "metadata": {},
   "source": [
    "## 04. Precipitation annual cycle"
   ]
  },
  {
   "cell_type": "markdown",
   "metadata": {},
   "source": [
    "**E: Compute the annual cycle of precipitation and store it in a variable called \"prcp_cycle\". I expect a variable of dimensions (month: 12, latitude: 241, longitude: 480).** Hint: remember the ``.groupby()`` command we learned in Lesson_03 (\"Dimensional juggling\")."
   ]
  },
  {
   "cell_type": "code",
   "execution_count": null,
   "metadata": {},
   "outputs": [],
   "source": [
    "# your answer here"
   ]
  },
  {
   "cell_type": "markdown",
   "metadata": {},
   "source": [
    "**E: now make a Hovmöller diagram of prcp_cycle, with the months on the x-axis and the latitude on the y-axis. Use the .plot.contourf() with appropriate levels as we did in Lesson_03.**\n",
    "\n",
    "**Q: Is the Hovmöller plot consistent with the annual cycle of precipitation we have observed in the time series? Describe the major features of the plot.**"
   ]
  },
  {
   "cell_type": "code",
   "execution_count": null,
   "metadata": {},
   "outputs": [],
   "source": [
    "# your answer here"
   ]
  },
  {
   "cell_type": "markdown",
   "metadata": {},
   "source": [
    "**E: now make a variable \"trop_prcp_cycle\", where you selected the area of \"prcp_cycle\" between the latitudes 23.5 and -23.5. Plot trop_prcp_cycle as a Hovmöller diagramm like before.**"
   ]
  },
  {
   "cell_type": "code",
   "execution_count": null,
   "metadata": {},
   "outputs": [],
   "source": [
    "# your answer here"
   ]
  },
  {
   "cell_type": "markdown",
   "metadata": {},
   "source": [
    "**E: make a Hovmöller diagram of \"trop_prcp_cycle\" where you selected areas over land only. Make another Hovmöller diagram where you selected areas over ocean only.**\n",
    "\n",
    "**Q: compare the two plots. Where/when is the maximum precipitation over land? Over the oceans? Can you provide a tentative explanation for the frequent mimimum of precipitation in February?**"
   ]
  },
  {
   "cell_type": "code",
   "execution_count": null,
   "metadata": {},
   "outputs": [],
   "source": [
    "# your answer here"
   ]
  },
  {
   "cell_type": "markdown",
   "metadata": {},
   "source": [
    "**E: plot a map of \"sel_prcp_cycle\" for the months of February and August.**\n",
    "\n",
    "**Q: Compare the two plots.**"
   ]
  },
  {
   "cell_type": "code",
   "execution_count": null,
   "metadata": {},
   "outputs": [],
   "source": [
    "# your answer here"
   ]
  },
  {
   "cell_type": "markdown",
   "metadata": {},
   "source": [
    "## 05. Precipitation variability"
   ]
  },
  {
   "cell_type": "markdown",
   "metadata": {},
   "source": [
    "**E: compute a variable \"prcp_per_year\" which is a resampling of the original monthly precipitation maps at a yearly frequency. I expect prcp_per_year to be of dimensions (time: 36, latitude: 241, longitude: 480) and of units m per year.** Hint: remember that units are m per month! With the keyword \"how='sum' I can resample annual sums instead of annual averages."
   ]
  },
  {
   "cell_type": "code",
   "execution_count": null,
   "metadata": {},
   "outputs": [],
   "source": [
    "# your answer here"
   ]
  },
  {
   "cell_type": "markdown",
   "metadata": {},
   "source": [
    "**E: plot the standard deviation of prcp_per_year over time.**\n",
    "\n",
    "**Q: Compare the plot to the annual average precipitation plot we made at the beginning of the exercise. Is the standard deviation a good measure of the variations of precipitation at a specific place? Discuss.**"
   ]
  },
  {
   "cell_type": "code",
   "execution_count": null,
   "metadata": {},
   "outputs": [],
   "source": [
    "# your answer here"
   ]
  },
  {
   "cell_type": "markdown",
   "metadata": {},
   "source": [
    "**E: compute a variable \"prcp_1998\" which is the total precipitation for the year 1998. Plot it on a map.** Hint: use the function ``.sel()`` to select the correct year out of the ``prcp_annual`` variable."
   ]
  },
  {
   "cell_type": "code",
   "execution_count": null,
   "metadata": {},
   "outputs": [],
   "source": [
    "# your answer here"
   ]
  },
  {
   "cell_type": "markdown",
   "metadata": {},
   "source": [
    "**E: compute and plot the anomaly of total precipitation during the year 1998.** Hint: the anomaly of precipitation for a specific year is defined as the difference between the precipitation for this year and the average of precipitation over the entire period. \n",
    "\n",
    "**Q: describe what you see.**"
   ]
  },
  {
   "cell_type": "code",
   "execution_count": null,
   "metadata": {},
   "outputs": [],
   "source": [
    "# your answer here"
   ]
  }
 ],
 "metadata": {
  "kernelspec": {
   "display_name": "Python 3",
   "language": "python",
   "name": "python3"
  },
  "language_info": {
   "codemirror_mode": {
    "name": "ipython",
    "version": 3
   },
   "file_extension": ".py",
   "mimetype": "text/x-python",
   "name": "python",
   "nbconvert_exporter": "python",
   "pygments_lexer": "ipython3",
   "version": "3.4.3"
  }
 },
 "nbformat": 4,
 "nbformat_minor": 0
}
