{
 "cells": [
  {
   "cell_type": "markdown",
   "metadata": {},
   "source": [
    "# Lesson 05: wind flow, 4D data, numerical derivatives"
   ]
  },
  {
   "cell_type": "markdown",
   "metadata": {},
   "source": [
    "In this exercise we will learn to apply new plotting functions and learn a bit more about the underlying details of the tools we are using."
   ]
  },
  {
   "cell_type": "markdown",
   "metadata": {},
   "source": [
    "## Import the packages"
   ]
  },
  {
   "cell_type": "markdown",
   "metadata": {},
   "source": [
    "This did not change:"
   ]
  },
  {
   "cell_type": "code",
   "execution_count": null,
   "metadata": {},
   "outputs": [],
   "source": [
    "# Define the tools we are going to need today\n",
    "%matplotlib inline\n",
    "import matplotlib.pyplot as plt  # plotting library\n",
    "import numpy as np  # numerical library\n",
    "import xray  # NetCDF library\n",
    "import cartopy  # Plotting libary\n",
    "import cartopy.crs as ccrs  # Projections\n",
    "# Some defaults\n",
    "plt.rcParams['figure.figsize'] = (14, 5)  # Default plot size\n",
    "np.set_printoptions(threshold=20)  # avoid to print very large arrays on screen\n",
    "# The commands below are not important\n",
    "import warnings\n",
    "warnings.filterwarnings('ignore')"
   ]
  },
  {
   "cell_type": "markdown",
   "metadata": {},
   "source": [
    "## Read the data"
   ]
  },
  {
   "cell_type": "markdown",
   "metadata": {},
   "source": [
    "Today we are going to use a new data file, ``ERA-Int-MonthlyAvg-4D-UVWZ.nc``. As always you will find it on OLAT or in the scratch directory(``/scratch/c707/c7071047/data``). Open the file and explore it.\n",
    "\n",
    "**Q: what are the dimensions of this data? What is new/different in comparison to the previous files? What are the variables available in the file, what are their units? What is the variable \"level\"?**"
   ]
  },
  {
   "cell_type": "code",
   "execution_count": null,
   "metadata": {},
   "outputs": [],
   "source": [
    "netcdf = xray.open_dataset('ERA-Int-MonthlyAvg-4D-UVWZ.nc')"
   ]
  },
  {
   "cell_type": "markdown",
   "metadata": {},
   "source": [
    "## Plotting wind fields"
   ]
  },
  {
   "cell_type": "markdown",
   "metadata": {},
   "source": [
    "We are now reading the u and v windfields at the 1000hPa level for the month of January:"
   ]
  },
  {
   "cell_type": "code",
   "execution_count": null,
   "metadata": {},
   "outputs": [],
   "source": [
    "u = netcdf.u.sel(level=1000, month=1).copy()\n",
    "v = netcdf.v.sel(level=1000, month=1).copy()"
   ]
  },
  {
   "cell_type": "markdown",
   "metadata": {},
   "source": [
    "### Quiver plots "
   ]
  },
  {
   "cell_type": "markdown",
   "metadata": {},
   "source": [
    "One traditional way to plot the wind data is as vector arrows. We can use a function called [quiver()](http://matplotlib.org/api/pyplot_api.html?highlight=quiver#matplotlib.pyplot.quiver) for that:"
   ]
  },
  {
   "cell_type": "code",
   "execution_count": null,
   "metadata": {},
   "outputs": [],
   "source": [
    "ax = plt.axes(projection=ccrs.PlateCarree())\n",
    "pu, pv = u[::9,::9], v[::9,::9]  # we will discuss what this line does in the cells below\n",
    "qv = ax.quiver(pu.longitude, pu.latitude, pu, pv, transform=ccrs.PlateCarree())\n",
    "ax.coastlines();"
   ]
  },
  {
   "cell_type": "markdown",
   "metadata": {},
   "source": [
    "Note the presence of the line ``pu, pv = u[::9,::9], v[::9,::9]``. Let's explain it in detail. the ``::9`` is the Numpy way to index each 9th element of an array. It is called [slicing](http://docs.scipy.org/doc/numpy-1.10.0/reference/arrays.indexing.html#basic-slicing-and-indexing) in the numpy jargon. Let's try slicing on a simpler array:"
   ]
  },
  {
   "cell_type": "code",
   "execution_count": null,
   "metadata": {},
   "outputs": [],
   "source": [
    "a = np.arange(11)\n",
    "print(a)"
   ]
  },
  {
   "cell_type": "markdown",
   "metadata": {},
   "source": [
    "**E: try and explain the following commands:**\n",
    "- a[:]\n",
    "- a[2:]\n",
    "- a[:-1]\n",
    "- a[2:5]\n",
    "- a[::-1]\n",
    "- a[::2]\n",
    "- a[::-2]"
   ]
  },
  {
   "cell_type": "code",
   "execution_count": null,
   "metadata": {},
   "outputs": [],
   "source": [
    "# your answer here"
   ]
  },
  {
   "cell_type": "markdown",
   "metadata": {},
   "source": [
    "Ok, so that was slincing in one dimensions. Slicing also works in N-dimensions. For example:"
   ]
  },
  {
   "cell_type": "code",
   "execution_count": null,
   "metadata": {},
   "outputs": [],
   "source": [
    "a = np.arange(4*5).reshape((4, 5))\n",
    "print(a)"
   ]
  },
  {
   "cell_type": "markdown",
   "metadata": {},
   "source": [
    "**E: try and explain the following commands:**\n",
    "- a[:, ::-1]\n",
    "- a[::2, ::2]\n",
    "- a[::2, ::3]"
   ]
  },
  {
   "cell_type": "code",
   "execution_count": null,
   "metadata": {},
   "outputs": [],
   "source": [
    "# your answer here"
   ]
  },
  {
   "cell_type": "markdown",
   "metadata": {},
   "source": [
    "Ok, that was slicing in two dimensions, so we now better understand what ``u[::9,::9]`` means. But what was about that comma in between? This is simply what people call \"syntaxic sugar\", a nice and easy way to write one line in two: "
   ]
  },
  {
   "cell_type": "code",
   "execution_count": null,
   "metadata": {},
   "outputs": [],
   "source": [
    "a, b = 12, 'Hello'\n",
    "print(a)\n",
    "print(b)"
   ]
  },
  {
   "cell_type": "markdown",
   "metadata": {},
   "source": [
    "This kind of shortcuts should be used only if:\n",
    "- the lines of code are easy\n",
    "- the two variables are somehow related (for example u and v winds)\n",
    "\n",
    "If you abuse of this kind of \"one-liners\", people reading your code will hate you. "
   ]
  },
  {
   "cell_type": "markdown",
   "metadata": {},
   "source": [
    "**E: reproduce the quiver plot but with other slices. For example 5 or 15. What happens if you do no slicing at all?**"
   ]
  },
  {
   "cell_type": "code",
   "execution_count": null,
   "metadata": {},
   "outputs": [],
   "source": [
    "# your answer here"
   ]
  },
  {
   "cell_type": "markdown",
   "metadata": {},
   "source": [
    "**E: compute the wind speed out of u and v. Plot the wind speed as a shaded color plot (as we did for temperature and precipitation) and plot the wind arrows on top of it.**"
   ]
  },
  {
   "cell_type": "code",
   "execution_count": null,
   "metadata": {},
   "outputs": [],
   "source": [
    "# your answer here"
   ]
  },
  {
   "cell_type": "markdown",
   "metadata": {},
   "source": [
    "### Streamlines "
   ]
  },
  {
   "cell_type": "markdown",
   "metadata": {},
   "source": [
    "Another way to plot wind data are the so called [streamlines](http://matplotlib.org/api/pyplot_api.html?highlight=streamplot#matplotlib.pyplot.streamplot):"
   ]
  },
  {
   "cell_type": "code",
   "execution_count": null,
   "metadata": {},
   "outputs": [],
   "source": [
    "ax = plt.axes(projection=ccrs.PlateCarree())\n",
    "ax.streamplot(u.longitude, u.latitude, u.values, v.values, transform=ccrs.PlateCarree(), \n",
    "              density=4)\n",
    "ax.coastlines();"
   ]
  },
  {
   "cell_type": "markdown",
   "metadata": {},
   "source": [
    "*Note: if this is too slow for your taste, you can slice your data like we did for the quiver plot, this will produce the plot faster*\n",
    "\n",
    "A problem with streamlines is that they provide no information about the strength of the flow. It is possible to display this information with colors: "
   ]
  },
  {
   "cell_type": "code",
   "execution_count": null,
   "metadata": {},
   "outputs": [],
   "source": [
    "ws = (u**2 + v**2)**0.5\n",
    "ax = plt.axes(projection=ccrs.PlateCarree())\n",
    "strm = ax.streamplot(u.longitude, u.latitude, u.values, v.values, transform=ccrs.PlateCarree(),\n",
    "              density=4, color=ws.values, cmap=plt.get_cmap('cool'))\n",
    "plt.colorbar(strm.lines)\n",
    "ax.coastlines()\n",
    "ax.gridlines(draw_labels=True);  # what is this line doing?"
   ]
  },
  {
   "cell_type": "markdown",
   "metadata": {},
   "source": [
    "**E: plot the wind streamlines for the month of july. Discuss the differences in the flow. Where it the ITCZ located for both months? Are there other strong differences?**"
   ]
  },
  {
   "cell_type": "code",
   "execution_count": null,
   "metadata": {},
   "outputs": [],
   "source": [
    "# your answer here"
   ]
  },
  {
   "cell_type": "markdown",
   "metadata": {},
   "source": [
    "## Upper atmosphere data "
   ]
  },
  {
   "cell_type": "markdown",
   "metadata": {},
   "source": [
    "We are going to analyse further plots of the upper troposphere atmospheric circulation in exercise 06. In today's lesson we are just going to note that it can be really easy to make zonal plots of the vertical structure of the atmopshere:"
   ]
  },
  {
   "cell_type": "code",
   "execution_count": null,
   "metadata": {},
   "outputs": [],
   "source": [
    "u_all = netcdf.u.sel(month=1).copy()\n",
    "u_all = u_all.mean(dim='longitude')"
   ]
  },
  {
   "cell_type": "code",
   "execution_count": null,
   "metadata": {},
   "outputs": [],
   "source": [
    "u_all.plot();"
   ]
  },
  {
   "cell_type": "markdown",
   "metadata": {},
   "source": [
    "Ugh. This is not soooo easy as I thought. Here's how to make it a bit better:"
   ]
  },
  {
   "cell_type": "code",
   "execution_count": null,
   "metadata": {},
   "outputs": [],
   "source": [
    "u_all.name = 'U-wind (m s-1)'\n",
    "u_all.plot.contourf(levels=np.linspace(-45, 45, 19));\n",
    "plt.ylim([1000, 50]);\n",
    "plt.ylabel('Pressure (hPa)');"
   ]
  },
  {
   "cell_type": "markdown",
   "metadata": {},
   "source": [
    "This linear representation of the atmosphere is often preferred and looks familiar. However, to represent more acurately the real altitude of the winds, a logarithmic scale might be better:"
   ]
  },
  {
   "cell_type": "code",
   "execution_count": null,
   "metadata": {},
   "outputs": [],
   "source": [
    "u_all.plot.contourf(levels=np.linspace(-45, 45, 19));\n",
    "plt.ylim([1000, 50])\n",
    "plt.yscale('log')\n",
    "plt.ylabel('Pressure (hPa)');"
   ]
  },
  {
   "cell_type": "markdown",
   "metadata": {},
   "source": [
    "With a logarithmic scale the importance of the westerly winds for most parts of the atmosphere is clearly visible."
   ]
  },
  {
   "cell_type": "markdown",
   "metadata": {},
   "source": [
    "## Some details you need to know before going on"
   ]
  },
  {
   "cell_type": "markdown",
   "metadata": {},
   "source": [
    "I hope that after mesing around with python a couple of hours you are now convinced that it is a very intuitive language. In particular, the creators of python put a lot of efforts in the *readability* of it syntax, which is appreciated by more and more scientists worldwide. The simplicity with which we produced rather complex analyses is the best proof of its success.\n",
    "\n",
    "When analyses become a bit more complex we cannot afford to ignore too many details about the internals of the libraries and functions we are using. The next couple of cells are going to explain a little bit what is happening \"under the hood\" when we analyse our data."
   ]
  },
  {
   "cell_type": "markdown",
   "metadata": {},
   "source": [
    "#### Some details about netcdf files"
   ]
  },
  {
   "cell_type": "markdown",
   "metadata": {},
   "source": [
    "We are going to start with the very begining again:"
   ]
  },
  {
   "cell_type": "code",
   "execution_count": null,
   "metadata": {},
   "outputs": [],
   "source": [
    "netcdf = xray.open_dataset('ERA-Int-MonthlyAvg-4D-UVWZ.nc')"
   ]
  },
  {
   "cell_type": "markdown",
   "metadata": {},
   "source": [
    "The ``netcdf`` variable is a link to a file on disk. Being able to \"explore\" it, listing its variables and printing them does not mean that the data has been *read* out of the file. This is a very usefull property of the netcdf tool: without this property it would be impossible to open large data files that do not fit in memory. Even more interesting, \"reading\" a variable will *not* read the data out of the file:"
   ]
  },
  {
   "cell_type": "code",
   "execution_count": null,
   "metadata": {},
   "outputs": [],
   "source": [
    "z = netcdf.z\n",
    "z"
   ]
  },
  {
   "cell_type": "markdown",
   "metadata": {},
   "source": [
    "See what is printed out: ``[20822400 values with dtype=float64]``. In other words, the data has not yet been read. It is going to be read only if really needed:"
   ]
  },
  {
   "cell_type": "code",
   "execution_count": null,
   "metadata": {},
   "outputs": [],
   "source": [
    "z = z.sel(month=1, level=500)\n",
    "z"
   ]
  },
  {
   "cell_type": "markdown",
   "metadata": {},
   "source": [
    "Still not read. But if I compute something:"
   ]
  },
  {
   "cell_type": "code",
   "execution_count": null,
   "metadata": {},
   "outputs": [],
   "source": [
    "z = z / 9.81\n",
    "z"
   ]
  },
  {
   "cell_type": "markdown",
   "metadata": {},
   "source": [
    "Now it was necessary to read the data in order to do the required computation."
   ]
  },
  {
   "cell_type": "markdown",
   "metadata": {},
   "source": [
    "#### Some details about the type of variables we are using "
   ]
  },
  {
   "cell_type": "markdown",
   "metadata": {},
   "source": [
    "Python has a built-in function which says the type of a variable:"
   ]
  },
  {
   "cell_type": "code",
   "execution_count": null,
   "metadata": {},
   "outputs": [],
   "source": [
    "type(1)"
   ]
  },
  {
   "cell_type": "code",
   "execution_count": null,
   "metadata": {},
   "outputs": [],
   "source": [
    "type(3.14)"
   ]
  },
  {
   "cell_type": "code",
   "execution_count": null,
   "metadata": {},
   "outputs": [],
   "source": [
    "type(z)"
   ]
  },
  {
   "cell_type": "code",
   "execution_count": null,
   "metadata": {},
   "outputs": [],
   "source": [
    "a = np.arange(10)\n",
    "type(a)"
   ]
  },
  {
   "cell_type": "markdown",
   "metadata": {},
   "source": [
    "These are many details, but very often reading the first and the last word of the variable type provides enough information: \n",
    "- \"z\" is a variable of type \"DataArray\" provided by the \"xray\" library. \n",
    "- \"a\" is a variable of type \"ndarray\" provided by the \"numpy\" library.\n",
    "\n",
    "Both xray and numpy are python ``libraries``. Both are open-source packages (see [here](https://github.com/numpy/numpy) and [here](https://github.com/xray/xray)). Xray is younger than Numpy and builds upon it (xray needs numpy to work). Xray's DataArray are very similar to numpy arrays but they are more powerful. Under the hood, xray's DataArray are nothing more then a numpy ndarray. Let's see:"
   ]
  },
  {
   "cell_type": "code",
   "execution_count": null,
   "metadata": {},
   "outputs": [],
   "source": [
    "type(z.values)"
   ]
  },
  {
   "cell_type": "markdown",
   "metadata": {},
   "source": [
    "So the data we are working with is internally stored in a numpy array. The reason for us to use xray on top of numpy is because xray is more user friendly. Try to plot a numpy array for example:"
   ]
  },
  {
   "cell_type": "code",
   "execution_count": null,
   "metadata": {},
   "outputs": [],
   "source": [
    "z_array = z.values"
   ]
  },
  {
   "cell_type": "code",
   "execution_count": null,
   "metadata": {},
   "outputs": [],
   "source": [
    "z_array.plot()"
   ]
  },
  {
   "cell_type": "markdown",
   "metadata": {},
   "source": [
    "Or try to select some slices of longitude:"
   ]
  },
  {
   "cell_type": "code",
   "execution_count": null,
   "metadata": {},
   "outputs": [],
   "source": [
    "z_array.sel(longitude=slice(20, 90))"
   ]
  },
  {
   "cell_type": "markdown",
   "metadata": {},
   "source": [
    "Numpy arrays are only indexable through indices:"
   ]
  },
  {
   "cell_type": "code",
   "execution_count": null,
   "metadata": {},
   "outputs": [],
   "source": [
    "z_array.shape"
   ]
  },
  {
   "cell_type": "code",
   "execution_count": null,
   "metadata": {},
   "outputs": [],
   "source": [
    "z_array[12:14, 34:36]"
   ]
  },
  {
   "cell_type": "markdown",
   "metadata": {},
   "source": [
    "Which is much less \"friendly\" than the selection by dimension and coordinate names offered by xray. Xray adds names (\"labels\") and coordinates to multi-dimenional data.\n",
    "\n",
    "The reason why I explained these differences between xray and numpy is that sometimes we have to leave xray and go back to numpy functions for certain computations, as we shall see below. "
   ]
  },
  {
   "cell_type": "markdown",
   "metadata": {},
   "source": [
    "## Numerical derivatives of gridded data "
   ]
  },
  {
   "cell_type": "markdown",
   "metadata": {},
   "source": [
    "In this lesson we are going to learn how to compute the derivative of a meteorological field. One of the easiest formulas available to us is the geostrophic wind equation. We will compute geostrophic winds out of the geopotential field."
   ]
  },
  {
   "cell_type": "markdown",
   "metadata": {},
   "source": [
    "The geostrophic equation can be expressed in pressure coordinates as:\n",
    "\n",
    "$$u_g = -\\frac{g}{f} \\frac{\\partial z}{\\partial y}$$\n",
    "\n",
    "$$v_g = \\frac{g}{f} \\frac{\\partial z}{\\partial x}$$\n",
    "\n",
    "with $u_g$, $v_g$ the geostrophic wind components and z the geopotential (in m).\n"
   ]
  },
  {
   "cell_type": "markdown",
   "metadata": {},
   "source": [
    "First we need to compute the corolis parameter $f = 2  \\Omega \\sin \\varphi$:"
   ]
  },
  {
   "cell_type": "code",
   "execution_count": null,
   "metadata": {},
   "outputs": [],
   "source": [
    "f = 2. * 7.292115e-5 * np.sin(np.deg2rad(u.latitude))"
   ]
  },
  {
   "cell_type": "markdown",
   "metadata": {},
   "source": [
    "**Q: what is the type of f? Plot it.**"
   ]
  },
  {
   "cell_type": "code",
   "execution_count": null,
   "metadata": {},
   "outputs": [],
   "source": [
    "# your answer here"
   ]
  },
  {
   "cell_type": "markdown",
   "metadata": {},
   "source": [
    "To avoid some mathematical singularities we are going to mask out the areas of the globe where trigonometry becomes too close to zero: "
   ]
  },
  {
   "cell_type": "code",
   "execution_count": null,
   "metadata": {},
   "outputs": [],
   "source": [
    "f = f.where((np.abs(u.latitude) > 5) & (np.abs(u.latitude) < 85))"
   ]
  },
  {
   "cell_type": "markdown",
   "metadata": {},
   "source": [
    "#### Gradient of a 2d field"
   ]
  },
  {
   "cell_type": "markdown",
   "metadata": {},
   "source": [
    "Computing the [gradient of discrete data](https://en.wikipedia.org/wiki/Finite_difference_method) is something computers know how to do. For the details of the algorithm you can refer to other courses in numerical methods. Here we are going to use the function [gradient()](http://docs.scipy.org/doc/numpy-1.10.1/reference/generated/numpy.gradient.html) provided by numpy:"
   ]
  },
  {
   "cell_type": "code",
   "execution_count": null,
   "metadata": {},
   "outputs": [],
   "source": [
    "z = netcdf.z.sel(month=1, level=500) / 9.81"
   ]
  },
  {
   "cell_type": "code",
   "execution_count": null,
   "metadata": {},
   "outputs": [],
   "source": [
    "grad_y, grad_x = np.gradient(z, -np.deg2rad(.75), np.deg2rad(.75))"
   ]
  },
  {
   "cell_type": "markdown",
   "metadata": {},
   "source": [
    "**Q: read the documentation of the np.gradient function. Explain why I needed to provide -np.deg2rad(.75) and np.deg2rad(.75) as arguments. What is the type of grad_y and grad_x? Why are they returned by the function in that order? What is their shape?**"
   ]
  },
  {
   "cell_type": "markdown",
   "metadata": {},
   "source": [
    "Because np.gradient() is not giving us xray DataArray variables. We are going to use a trick to convert them back: "
   ]
  },
  {
   "cell_type": "code",
   "execution_count": null,
   "metadata": {},
   "outputs": [],
   "source": [
    "grad_x = z*0 + grad_x\n",
    "grad_y = z*0 + grad_y"
   ]
  },
  {
   "cell_type": "markdown",
   "metadata": {},
   "source": [
    "There are other ways to do what we just did above, but this is clearly the easiest (and therefore: the best).\n",
    "\n",
    "**Q: can you try to explain how the conversion occured? Now plot the variables grad_x and grad_y**"
   ]
  },
  {
   "cell_type": "code",
   "execution_count": null,
   "metadata": {},
   "outputs": [],
   "source": [
    "# Your answer here"
   ]
  },
  {
   "cell_type": "markdown",
   "metadata": {},
   "source": [
    "Before moving foreward I have to draw your attention towards a certain detail. The equations of geostrophic winds described above are provided in *cartesian* (x, y) coordinates. We just computed the gradient in *spherical* (lon, lat) coordinates. Once again, we have to remember that the Earth is not flat and take this effect into account:\n",
    "\n",
    "$$\\frac{\\partial}{\\partial x} = \\frac{1}{R \\cos \\varphi}\\frac{\\partial}{\\partial\\lambda}$$\n",
    "\n",
    "$$\\frac{\\partial}{\\partial y} = \\frac{1}{R}\\frac{\\partial}{\\partial\\varphi}$$\n",
    "\n",
    "with $\\lambda$, $\\varphi$ the longitude and latitude and R the Earth' radius. We apply the formulas and define a factor for the spherical derivatives:"
   ]
  },
  {
   "cell_type": "code",
   "execution_count": null,
   "metadata": {},
   "outputs": [],
   "source": [
    "dx = 1 / (6371000 * np.cos(np.deg2rad(z.latitude)))\n",
    "dy = 1 / (6371000)"
   ]
  },
  {
   "cell_type": "markdown",
   "metadata": {},
   "source": [
    "Now we are ready to compute the geostrophic winds:"
   ]
  },
  {
   "cell_type": "code",
   "execution_count": null,
   "metadata": {},
   "outputs": [],
   "source": [
    "g = 9.81"
   ]
  },
  {
   "cell_type": "code",
   "execution_count": null,
   "metadata": {},
   "outputs": [],
   "source": [
    "ug = - g / f * dy * grad_y\n",
    "vg = g / f * dx * grad_x"
   ]
  },
  {
   "cell_type": "code",
   "execution_count": null,
   "metadata": {},
   "outputs": [],
   "source": [
    "ws = (ug**2 + vg**2)**0.5\n",
    "ax = plt.axes(projection=ccrs.PlateCarree())\n",
    "strm = ax.streamplot(ug.longitude, ug.latitude, ug.values, vg.values, transform=ccrs.PlateCarree(),\n",
    "              density=4, color=ws.values, cmap=plt.get_cmap('cool'))\n",
    "plt.colorbar(strm.lines)\n",
    "ax.coastlines()\n",
    "ax.gridlines(draw_labels=True);"
   ]
  },
  {
   "cell_type": "markdown",
   "metadata": {},
   "source": [
    "**E: compare our computed geostrophic wind with the \"real\" wind from the reanalysis data at the same level and month. Are there large differences? Where are the wind speed differences largest? What are the possible reasons for these differences?** Hint: you can plot the wind speed differences on a map too."
   ]
  },
  {
   "cell_type": "code",
   "execution_count": null,
   "metadata": {},
   "outputs": [],
   "source": [
    "# your answer here"
   ]
  },
  {
   "cell_type": "markdown",
   "metadata": {},
   "source": [
    "## What next?"
   ]
  },
  {
   "cell_type": "markdown",
   "metadata": {},
   "source": [
    "For those who have't finished the exercises 04 you can go back to them. Otherwise go to exercise 6."
   ]
  },
  {
   "cell_type": "code",
   "execution_count": null,
   "metadata": {},
   "outputs": [],
   "source": []
  }
 ],
 "metadata": {
  "kernelspec": {
   "display_name": "Python 3",
   "language": "python",
   "name": "python3"
  },
  "language_info": {
   "codemirror_mode": {
    "name": "ipython",
    "version": 3
   },
   "file_extension": ".py",
   "mimetype": "text/x-python",
   "name": "python",
   "nbconvert_exporter": "python",
   "pygments_lexer": "ipython3",
   "version": "3.5.2"
  }
 },
 "nbformat": 4,
 "nbformat_minor": 0
}
