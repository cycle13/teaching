{
 "cells": [
  {
   "cell_type": "markdown",
   "metadata": {},
   "source": [
    "# Appendix A: step by step to the generation of the lon-lat surface area array"
   ]
  },
  {
   "cell_type": "markdown",
   "metadata": {},
   "source": [
    "## Import the packages and read the temperature data"
   ]
  },
  {
   "cell_type": "code",
   "execution_count": null,
   "metadata": {},
   "outputs": [],
   "source": [
    "# Define the tools we are going to need today\n",
    "%matplotlib inline\n",
    "import matplotlib.pyplot as plt  # plotting library\n",
    "import numpy as np  # numerical library\n",
    "import xray  # NetCDF library\n",
    "import cartopy  # Plotting libary\n",
    "import cartopy.crs as ccrs  # Projections\n",
    "# Some defaults\n",
    "plt.rcParams['figure.figsize'] = (14, 5)  # Default plot size\n",
    "np.set_printoptions(threshold=20)  # avoid to print very large arrays on screen\n",
    "# The commands below are not important\n",
    "import warnings\n",
    "warnings.filterwarnings('ignore')"
   ]
  },
  {
   "cell_type": "markdown",
   "metadata": {},
   "source": [
    "We will now read the temperature variable as we did last time:"
   ]
  },
  {
   "cell_type": "code",
   "execution_count": null,
   "metadata": {},
   "outputs": [],
   "source": [
    "netcdf = xray.open_dataset('ERA-Int-Monthly-2mTemp.nc')\n",
    "t2_var = netcdf.t2m"
   ]
  },
  {
   "cell_type": "markdown",
   "metadata": {},
   "source": [
    "## \"Real\" average temperature of the Earth"
   ]
  },
  {
   "cell_type": "markdown",
   "metadata": {},
   "source": [
    "As you remember, t2_var is a multidimensional array:"
   ]
  },
  {
   "cell_type": "code",
   "execution_count": null,
   "metadata": {},
   "outputs": [],
   "source": [
    "print(t2_var.dims)"
   ]
  },
  {
   "cell_type": "markdown",
   "metadata": {},
   "source": [
    "We have learned how to average this 3D array over time:"
   ]
  },
  {
   "cell_type": "code",
   "execution_count": null,
   "metadata": {},
   "outputs": [],
   "source": [
    "t2_avg = t2_var.mean(dim='time')\n",
    "t2_avg"
   ]
  },
  {
   "cell_type": "markdown",
   "metadata": {},
   "source": [
    "or how to compute the total average:"
   ]
  },
  {
   "cell_type": "code",
   "execution_count": null,
   "metadata": {},
   "outputs": [],
   "source": [
    "print(t2_avg.mean())"
   ]
  },
  {
   "cell_type": "markdown",
   "metadata": {},
   "source": [
    "Which, as we have discussed in exercise 01, is definitely **not** the average temperature of the Earth. We are now computing a \"weight grid\" in order to take into account that the Earth is round. This quite cumbersome (but necessary) task will help us to learn a bit more about DataArrays and python."
   ]
  },
  {
   "cell_type": "markdown",
   "metadata": {},
   "source": [
    "### Create our own DataArray to do a weighted average"
   ]
  },
  {
   "cell_type": "markdown",
   "metadata": {},
   "source": [
    "First we have to define our objective: **creating a ``area`` array with dimensions ``('latitude', 'longitude')`` representing the surface area of the grid point.** Let's begin by noting that the area of a [spherical segment](https://en.wikipedia.org/wiki/Spherical_segment) between the latitudes $\\varphi_1$ and $\\varphi_2$ is:\n",
    "\n",
    "$$A_S = 2 \\pi R^2 \\left| \\sin \\varphi_2 - \\sin \\varphi_1 \\right| $$\n",
    "\n",
    "With R being the radius of the Earth (6371 km)."
   ]
  },
  {
   "cell_type": "markdown",
   "metadata": {},
   "source": [
    "### Area of spherical segments "
   ]
  },
  {
   "cell_type": "markdown",
   "metadata": {},
   "source": [
    "OK. So now we are going to compute the latitudes $\\varphi_1$ and $\\varphi_2$, which are located *in between* our data coordinates. Our latitude coordinates are:"
   ]
  },
  {
   "cell_type": "code",
   "execution_count": null,
   "metadata": {},
   "outputs": [],
   "source": [
    "t2_avg.latitude"
   ]
  },
  {
   "cell_type": "markdown",
   "metadata": {},
   "source": [
    "But these are located in the *center* of the grid points. We need the border of those grid points: [90., 89.625, 88.875], etc. There are several ways to do this, I use the following method. First, I will use the function [np.arange](http://docs.scipy.org/doc/numpy-1.10.1/reference/generated/numpy.arange.html) in order to make an increasing array of 242 elements (as long as the latitude array + 1 element. Yes, to compute the area of **one** spherical segment, one needs **two** latitude values):"
   ]
  },
  {
   "cell_type": "code",
   "execution_count": null,
   "metadata": {},
   "outputs": [],
   "source": [
    "corner_lats = np.arange(242)\n",
    "corner_lats"
   ]
  },
  {
   "cell_type": "markdown",
   "metadata": {},
   "source": [
    "Then I convert it to latitudes:"
   ]
  },
  {
   "cell_type": "code",
   "execution_count": null,
   "metadata": {},
   "outputs": [],
   "source": [
    "corner_lats = corner_lats * 0.75 - 90.375\n",
    "corner_lats"
   ]
  },
  {
   "cell_type": "markdown",
   "metadata": {},
   "source": [
    "Ok, this looks good up to the poles, where the grid points should actually be half ones. For these two I will simply use the [np.clip](http://docs.scipy.org/doc/numpy/reference/generated/numpy.clip.html) function:"
   ]
  },
  {
   "cell_type": "code",
   "execution_count": null,
   "metadata": {},
   "outputs": [],
   "source": [
    "corner_lats = np.clip(corner_lats, -90, 90)\n",
    "corner_lats"
   ]
  },
  {
   "cell_type": "markdown",
   "metadata": {},
   "source": [
    "Perfect! Now I can compute the area of the spherical segment for each of my latitudes. But first, I won't forget to convert my latitudes from degrees to radians (trigonometry does not know about \"degrees\"):"
   ]
  },
  {
   "cell_type": "code",
   "execution_count": null,
   "metadata": {},
   "outputs": [],
   "source": [
    "corner_lats_deg = np.deg2rad(corner_lats)"
   ]
  },
  {
   "cell_type": "code",
   "execution_count": null,
   "metadata": {},
   "outputs": [],
   "source": [
    "area_segment = 2 * np.pi * 6371**2 * np.abs(np.sin(corner_lats_deg[1:]) - np.sin(corner_lats_deg[:-1]))"
   ]
  },
  {
   "cell_type": "markdown",
   "metadata": {},
   "source": [
    "OK, I admit, these are a lot of new commands at one time. \"``np.pi``\", \"``np.abs``\", and \"``np.sin``\" are self-explaining (or easily googled). \"``**2``\" is like Matlab's \"``.^2``\". Maybe a little less intuitive is the last part of the equation. What did I do?\n",
    "\n",
    "**E: try it out! print the value of ``corner_lats[1:]`` and corner_lats[:-1]. What is the length of our new array ``area_segment``?** (hint: python built-in function ``len()``)"
   ]
  },
  {
   "cell_type": "code",
   "execution_count": null,
   "metadata": {},
   "outputs": [],
   "source": [
    "# You're answer here"
   ]
  },
  {
   "cell_type": "markdown",
   "metadata": {},
   "source": [
    "**Q: can you think of an easy test to see if our computed segments are right?**"
   ]
  },
  {
   "cell_type": "code",
   "execution_count": null,
   "metadata": {},
   "outputs": [],
   "source": [
    "# You're answer here"
   ]
  },
  {
   "cell_type": "markdown",
   "metadata": {},
   "source": [
    "### Back to the sphere "
   ]
  },
  {
   "cell_type": "markdown",
   "metadata": {},
   "source": [
    "Now we have an array of 241 elements, each element being the area of a spherical segment on the sphere. We still need a bit of work to get to our 2D array of dimensions (241, 480). To do this there are dozens of possibilities and I struggled to pick the easiest to explain. I chose to use xray to help us out. As you have noticed, xray is \"dimensions aware\". This simply means that once we have defined the dimension and coordinates of a DataArray, xray knows what to do with it. \n",
    "\n",
    "First we will create an new DataArray of dimenstions (241, 480) full with ones. This is most easily done with a simple trick:  "
   ]
  },
  {
   "cell_type": "code",
   "execution_count": null,
   "metadata": {},
   "outputs": [],
   "source": [
    "area_grid = t2_avg * 0 + 1\n",
    "area_grid"
   ]
  },
  {
   "cell_type": "markdown",
   "metadata": {},
   "source": [
    "We are now telling xray that our array ``area_segment`` has the same latitude coordinates as our temperature array:"
   ]
  },
  {
   "cell_type": "code",
   "execution_count": null,
   "metadata": {},
   "outputs": [],
   "source": [
    "area_segment_xray = \n",
    "area_segment_xray"
   ]
  },
  {
   "cell_type": "markdown",
   "metadata": {},
   "source": [
    "When we multiply the two, xray knows what to do:"
   ]
  },
  {
   "cell_type": "code",
   "execution_count": null,
   "metadata": {},
   "outputs": [],
   "source": [
    "area_grid = area_grid * area_segment_xray"
   ]
  },
  {
   "cell_type": "code",
   "execution_count": null,
   "metadata": {},
   "outputs": [],
   "source": [
    "area_grid.plot();"
   ]
  },
  {
   "cell_type": "markdown",
   "metadata": {},
   "source": [
    "OK! Now a last important detail: each pixel contains the area of an *entire* spherical segment! We simply have to divide this value by the number of longitude points to get the result we are looking for:"
   ]
  },
  {
   "cell_type": "code",
   "execution_count": null,
   "metadata": {},
   "outputs": [],
   "source": [
    "area_grid = area_grid / 480"
   ]
  },
  {
   "cell_type": "markdown",
   "metadata": {},
   "source": [
    "### Final test"
   ]
  },
  {
   "cell_type": "markdown",
   "metadata": {},
   "source": [
    "To see if everything went well, we simply need to check that the sum of our pixels is indeed equal to the area of the Earth:"
   ]
  },
  {
   "cell_type": "code",
   "execution_count": null,
   "metadata": {},
   "outputs": [],
   "source": [
    "print(\"Our area: \", area_grid.sum().values)\n",
    "print(\"Earth area: \", 4 * np.pi * 6371**2)"
   ]
  },
  {
   "cell_type": "code",
   "execution_count": null,
   "metadata": {},
   "outputs": [],
   "source": []
  }
 ],
 "metadata": {
  "kernelspec": {
   "display_name": "Python 3",
   "language": "python",
   "name": "python3"
  },
  "language_info": {
   "codemirror_mode": {
    "name": "ipython",
    "version": 3
   },
   "file_extension": ".py",
   "mimetype": "text/x-python",
   "name": "python",
   "nbconvert_exporter": "python",
   "pygments_lexer": "ipython3",
   "version": "3.4.3"
  }
 },
 "nbformat": 4,
 "nbformat_minor": 0
}
