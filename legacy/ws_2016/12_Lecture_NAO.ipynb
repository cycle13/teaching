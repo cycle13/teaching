{
 "cells": [
  {
   "cell_type": "markdown",
   "metadata": {
    "deletable": true,
    "editable": true
   },
   "source": [
    "# 12: Integrated lecture: the North Atlantic Oscillation"
   ]
  },
  {
   "cell_type": "markdown",
   "metadata": {
    "deletable": true,
    "editable": true
   },
   "source": [
    "We reproduce some of the analyses seen in the following publication: \n",
    "- Hurrell, J. W., Kushnir, Y., Ottersen, G. and Visbeck, M.: An Overview of the North Atlantic Oscillation, North Atl. Oscil. Clim. Significance Environ. Impact, 1–35, doi:10.1029/134GM01, 2003.\n",
    "\n",
    "... but using our own tools and data!"
   ]
  },
  {
   "cell_type": "markdown",
   "metadata": {
    "deletable": true,
    "editable": true
   },
   "source": [
    "## Import the packages"
   ]
  },
  {
   "cell_type": "code",
   "execution_count": null,
   "metadata": {
    "deletable": true,
    "editable": true
   },
   "outputs": [],
   "source": [
    "# Display the plots in the notebook:\n",
    "%matplotlib inline\n",
    "# Import the tools we are going to need today:\n",
    "import matplotlib.pyplot as plt  # plotting library\n",
    "import numpy as np  # numerical library\n",
    "import xarray as xr  # netCDF library\n",
    "import cartopy  # Map projections libary\n",
    "import cartopy.crs as ccrs  # Projections list\n",
    "import pandas as pd  # new package! this is the package at the base of xarray\n",
    "from eofs.xarray import Eof  # new package! http://ajdawson.github.io/eofs/index.html\n",
    "# Some defaults:\n",
    "plt.rcParams['figure.figsize'] = (12, 5)  # Default plot size\n",
    "np.set_printoptions(threshold=20)  # avoid to print very large arrays on screen\n",
    "# The commands below are to ignore certain warnings.\n",
    "import warnings\n",
    "warnings.filterwarnings('ignore', category=RuntimeWarning)\n",
    "import matplotlib.path as mpath\n",
    "theta = np.linspace(0, 2*np.pi, 100)\n",
    "map_circle = mpath.Path(np.vstack([np.sin(theta), np.cos(theta)]).T * 0.5 + [0.5, 0.5])"
   ]
  },
  {
   "cell_type": "markdown",
   "metadata": {
    "deletable": true,
    "editable": true
   },
   "source": [
    "#### Useful functions"
   ]
  },
  {
   "cell_type": "code",
   "execution_count": null,
   "metadata": {
    "deletable": true,
    "editable": true
   },
   "outputs": [],
   "source": [
    "def prepare_plot_coast():\n",
    "    \"\"\"This function returns prepared axes for the polar plot.\n",
    "    \n",
    "    Usage:\n",
    "        fig, ax = prepare_plot_grey()\n",
    "    \"\"\"\n",
    "    fig = plt.figure(figsize=(9, 7))\n",
    "    ax = plt.axes(projection=ccrs.NorthPolarStereo())\n",
    "    ax.set_extent([-180, 180, 20, 90], ccrs.PlateCarree())\n",
    "    ax.set_boundary(map_circle, transform=ax.transAxes)\n",
    "    ax.coastlines(); ax.gridlines();\n",
    "    return fig, ax"
   ]
  },
  {
   "cell_type": "code",
   "execution_count": null,
   "metadata": {
    "deletable": true,
    "editable": true
   },
   "outputs": [],
   "source": [
    "def prepare_plot_grey():\n",
    "    \"\"\"This function returns prepared axes for the polar plot.\n",
    "    \n",
    "    Usage:\n",
    "        fig, ax = prepare_plot_coast()\n",
    "    \"\"\"\n",
    "    fig = plt.figure(figsize=(9, 7))\n",
    "    ax = plt.axes(projection=ccrs.NorthPolarStereo())\n",
    "    ax.set_extent([-180, 180, 20, 90], ccrs.PlateCarree())\n",
    "    ax.set_boundary(map_circle, transform=ax.transAxes)\n",
    "    ax.add_feature(cartopy.feature.LAND, zorder=0, facecolor='lightgrey', edgecolor='lightgrey')\n",
    "    ax.gridlines();\n",
    "    return fig, ax"
   ]
  },
  {
   "cell_type": "code",
   "execution_count": null,
   "metadata": {
    "deletable": true,
    "editable": true
   },
   "outputs": [],
   "source": [
    "def correlation_map(da, ref_ts):\n",
    "    \"\"\"This function computes a one-point correlation map\"\"\"\n",
    "    # make an empty array that we will fill\n",
    "    cor_map = da[0, ...] * 0.\n",
    "    # loop over lats and lons\n",
    "    for j in np.arange(len(da.latitude)):\n",
    "        for i in np.arange(len(da.longitude)):\n",
    "            # we use the .values attribute because this is much faster\n",
    "            cor_map.values[j, i] = np.corrcoef(da.values[:, j, i], ref_ts.values)[0, 1]\n",
    "    return cor_map"
   ]
  },
  {
   "cell_type": "markdown",
   "metadata": {
    "deletable": true,
    "editable": true
   },
   "source": [
    "## Fig. 01: Seasonal SLP"
   ]
  },
  {
   "cell_type": "code",
   "execution_count": null,
   "metadata": {
    "deletable": true,
    "editable": true
   },
   "outputs": [],
   "source": [
    "slp = xr.open_dataset('ERA-Int-Monthly-SLP.nc').sel(latitude=slice(90, 20)).msl / 100."
   ]
  },
  {
   "cell_type": "code",
   "execution_count": null,
   "metadata": {
    "deletable": true,
    "editable": true
   },
   "outputs": [],
   "source": [
    "# seasonal averages\n",
    "slp_sa = slp.groupby('time.season').mean(dim='time')"
   ]
  },
  {
   "cell_type": "code",
   "execution_count": null,
   "metadata": {
    "deletable": true,
    "editable": true
   },
   "outputs": [],
   "source": [
    "fig, ax = prepare_plot_coast()\n",
    "cs = slp_sa.sel(season='DJF').plot.contourf(ax=ax, transform=ccrs.PlateCarree(),\n",
    "                                            levels=np.arange(990, 1030, 4), cmap='RdBu')"
   ]
  },
  {
   "cell_type": "code",
   "execution_count": null,
   "metadata": {
    "deletable": true,
    "editable": true
   },
   "outputs": [],
   "source": [
    "fig, ax = prepare_plot_coast()\n",
    "cs = slp_sa.sel(season='JJA').plot.contourf(ax=ax, transform=ccrs.PlateCarree(),\n",
    "                                            levels=np.arange(990, 1030, 4), cmap='RdBu', extend='both')"
   ]
  },
  {
   "cell_type": "markdown",
   "metadata": {
    "deletable": true,
    "editable": true
   },
   "source": [
    "## Fig. 02: Seasonal surface winds"
   ]
  },
  {
   "cell_type": "code",
   "execution_count": null,
   "metadata": {
    "deletable": true,
    "editable": true
   },
   "outputs": [],
   "source": [
    "ds = xr.open_dataset('ERA-Int-Monthly-UVSLP.nc').sel(latitude=slice(90, 20))\n",
    "# seasonal averages\n",
    "u_sa = ds.u10.groupby('time.season').mean(dim='time')\n",
    "v_sa = ds.v10.groupby('time.season').mean(dim='time')"
   ]
  },
  {
   "cell_type": "code",
   "execution_count": null,
   "metadata": {
    "deletable": true,
    "editable": true
   },
   "outputs": [],
   "source": [
    "fig, ax = prepare_plot_grey()\n",
    "pu, pv = u_sa.sel(season='DJF')[15::5,::12], v_sa.sel(season='DJF')[15::5,::12]\n",
    "qv = ax.quiver(pu.longitude, pu.latitude, pu.values, pv.values, transform=ccrs.PlateCarree(),\n",
    "               scale=150, width=0.003)\n",
    "plt.title('DJF');"
   ]
  },
  {
   "cell_type": "code",
   "execution_count": null,
   "metadata": {
    "deletable": true,
    "editable": true
   },
   "outputs": [],
   "source": [
    "fig, ax = prepare_plot_grey()\n",
    "pu, pv = u_sa.sel(season='JJA')[15::5,::12], v_sa.sel(season='JJA')[15::5,::12]\n",
    "qv = ax.quiver(pu.longitude, pu.latitude, pu.values, pv.values, transform=ccrs.PlateCarree(),\n",
    "               scale=150, width=0.003)\n",
    "plt.title('JJA');"
   ]
  },
  {
   "cell_type": "markdown",
   "metadata": {
    "deletable": true,
    "editable": true
   },
   "source": [
    "## Fig 3: Mean 500 hPa geopotential height"
   ]
  },
  {
   "cell_type": "code",
   "execution_count": null,
   "metadata": {
    "deletable": true,
    "editable": true
   },
   "outputs": [],
   "source": [
    "geop = xr.open_dataset('ERA-Int-Monthly-500hPa-UVZ.nc').sel(latitude=slice(90, 20)).z / 9.8\n",
    "# seasonal averages\n",
    "geop_sa = geop.groupby('time.season').mean(dim='time')"
   ]
  },
  {
   "cell_type": "code",
   "execution_count": null,
   "metadata": {
    "deletable": true,
    "editable": true
   },
   "outputs": [],
   "source": [
    "# zonal anomaly\n",
    "geop_za = geop_sa - geop_sa.mean(dim='longitude')"
   ]
  },
  {
   "cell_type": "code",
   "execution_count": null,
   "metadata": {
    "deletable": true,
    "editable": true
   },
   "outputs": [],
   "source": [
    "fig, ax = prepare_plot_coast()\n",
    "cs = geop_za.sel(season='DJF').plot.contourf(ax=ax, transform=ccrs.PlateCarree(), \n",
    "                                             levels=np.linspace(-160, 160, 9))"
   ]
  },
  {
   "cell_type": "code",
   "execution_count": null,
   "metadata": {
    "deletable": true,
    "editable": true
   },
   "outputs": [],
   "source": [
    "fig, ax = prepare_plot_coast()\n",
    "cs = geop_za.sel(season='JJA').plot.contourf(ax=ax, transform=ccrs.PlateCarree(), \n",
    "                                             levels=np.linspace(-160, 160, 9), extend='both')"
   ]
  },
  {
   "cell_type": "markdown",
   "metadata": {
    "deletable": true,
    "editable": true
   },
   "source": [
    "## Fig 5: One-Point Correlation"
   ]
  },
  {
   "cell_type": "code",
   "execution_count": null,
   "metadata": {
    "deletable": true,
    "editable": true
   },
   "outputs": [],
   "source": [
    "# seasonal ts\n",
    "geop_djf = geop.where(geop['time.season'] == 'DJF')\n",
    "geop_djf = geop_djf.rolling(min_periods=3, center=True, time=3).mean()\n",
    "geop_djf = geop_djf.groupby('time.year').mean('time')[1:, ...]"
   ]
  },
  {
   "cell_type": "code",
   "execution_count": null,
   "metadata": {
    "deletable": true,
    "editable": true
   },
   "outputs": [],
   "source": [
    "# take the reference geop\n",
    "geop_ts = geop_djf.sel(latitude=65, longitude=-30, method='nearest')\n",
    "cor_map = correlation_map(geop_djf, geop_ts)"
   ]
  },
  {
   "cell_type": "code",
   "execution_count": null,
   "metadata": {
    "deletable": true,
    "editable": true
   },
   "outputs": [],
   "source": [
    "fig, ax = prepare_plot_coast()\n",
    "cs = cor_map.plot.contourf(ax=ax, transform=ccrs.PlateCarree(), \n",
    "                           levels=np.linspace(-0.8, 0.8, 9), extend='both')\n",
    "plt.title('One point correlation map (ref 65°N, 30°W)');"
   ]
  },
  {
   "cell_type": "markdown",
   "metadata": {
    "deletable": true,
    "editable": true
   },
   "source": [
    "## Fig. 06: EOF analysis "
   ]
  },
  {
   "cell_type": "code",
   "execution_count": null,
   "metadata": {
    "deletable": true,
    "editable": true
   },
   "outputs": [],
   "source": [
    "# seasonal ts\n",
    "slp_djf = slp.where(slp['time.season'] == 'DJF')\n",
    "slp_djf = slp_djf.rolling(min_periods=3, center=True, time=3).mean()\n",
    "slp_djf = slp_djf.groupby('time.year').mean('time')[1:, ...]\n",
    "# rename the time coordinate so that eofs is happy\n",
    "slp_djf = slp_djf.rename({'year':'time'})\n",
    "# compute anomalies by removing the time-mean.\n",
    "slp_djf_a = slp_djf - slp_djf.mean(dim='time')"
   ]
  },
  {
   "cell_type": "code",
   "execution_count": null,
   "metadata": {
    "deletable": true,
    "editable": true
   },
   "outputs": [],
   "source": [
    "# Atlantic sector\n",
    "slp_djf_a_as = slp_djf_a.sel(longitude=slice(-90, 40), latitude=slice(70, 20))\n",
    "# wgts\n",
    "wgts = slp_djf_a_as.isel(time=0) * 0. + np.sqrt(np.cos(np.deg2rad(slp_djf_a_as.latitude)).clip(0., 1.))\n",
    "# solve the EOF\n",
    "solver = Eof(slp_djf_a_as, weights=wgts)"
   ]
  },
  {
   "cell_type": "code",
   "execution_count": null,
   "metadata": {
    "deletable": true,
    "editable": true
   },
   "outputs": [],
   "source": [
    "# Retrieve the 3 first leading PCs\n",
    "pcs = solver.pcs(npcs=3, pcscaling=1)\n",
    "# Get the variance fraction accounted for each EOF\n",
    "variances = solver.varianceFraction()"
   ]
  },
  {
   "cell_type": "code",
   "execution_count": null,
   "metadata": {
    "deletable": true,
    "editable": true
   },
   "outputs": [],
   "source": [
    "# the maps in fig 6 are the regressions to the leading PC. We can do correlation instead:\n",
    "cor_map = correlation_map(slp_djf, pcs.sel(mode=0))"
   ]
  },
  {
   "cell_type": "code",
   "execution_count": null,
   "metadata": {
    "deletable": true,
    "editable": true
   },
   "outputs": [],
   "source": [
    "fig, ax = prepare_plot_coast()\n",
    "cs = cor_map.plot.contourf(ax=ax, transform=ccrs.PlateCarree(), \n",
    "                           levels=np.linspace(-0.8, 0.8, 9), extend='both')\n",
    "plt.title('EOF1 DJF (explained variance: {:2.1f}%)'.format(variances[0].values*100));"
   ]
  },
  {
   "cell_type": "markdown",
   "metadata": {
    "deletable": true,
    "editable": true
   },
   "source": [
    "## Figs 07, 13, 16: composite anomalies"
   ]
  },
  {
   "cell_type": "markdown",
   "metadata": {
    "deletable": true,
    "editable": true
   },
   "source": [
    "###  Definitions"
   ]
  },
  {
   "cell_type": "code",
   "execution_count": null,
   "metadata": {
    "deletable": true,
    "editable": true
   },
   "outputs": [],
   "source": [
    "pcs.sel(mode=0).plot();"
   ]
  },
  {
   "cell_type": "code",
   "execution_count": null,
   "metadata": {
    "deletable": true,
    "editable": true
   },
   "outputs": [],
   "source": [
    "pc = pcs.sel(mode=0)\n",
    "yrs_naop = pc.where(pc > 1).dropna(dim='time').time.values\n",
    "yrs_naon = pc.where(pc <-1).dropna(dim='time').time.values\n",
    "print('Years with NAO+:', yrs_naop)\n",
    "print('Years with NAO-:', yrs_naon)"
   ]
  },
  {
   "cell_type": "markdown",
   "metadata": {
    "deletable": true,
    "editable": true
   },
   "source": [
    "### Surface winds "
   ]
  },
  {
   "cell_type": "code",
   "execution_count": null,
   "metadata": {
    "deletable": true,
    "editable": true
   },
   "outputs": [],
   "source": [
    "ds = xr.open_dataset('ERA-Int-Monthly-UVSLP.nc').sel(latitude=slice(90, 20))\n",
    "# seasonal ts\n",
    "ds = ds.where(ds['time.season'] == 'DJF')\n",
    "u_dfj = ds.u10.rolling(min_periods=3, center=True, time=3).mean()\n",
    "u_dfj = u_dfj.groupby('time.year').mean('time')[1:, ...]\n",
    "v_dfj = ds.v10.rolling(min_periods=3, center=True, time=3).mean()\n",
    "v_dfj = v_dfj.groupby('time.year').mean('time')[1:, ...]"
   ]
  },
  {
   "cell_type": "code",
   "execution_count": null,
   "metadata": {
    "deletable": true,
    "editable": true
   },
   "outputs": [],
   "source": [
    "# composites\n",
    "u_naop = u_dfj.sel(year=yrs_naop).mean(dim='year')\n",
    "v_naop = v_dfj.sel(year=yrs_naop).mean(dim='year')\n",
    "u_naon = u_dfj.sel(year=yrs_naon).mean(dim='year')\n",
    "v_naon = v_dfj.sel(year=yrs_naon).mean(dim='year')\n",
    "u_compo = u_naop - u_naon\n",
    "v_compo = v_naop - v_naon"
   ]
  },
  {
   "cell_type": "code",
   "execution_count": null,
   "metadata": {
    "deletable": true,
    "editable": true
   },
   "outputs": [],
   "source": [
    "fig, ax = prepare_plot_grey()\n",
    "pu, pv = u_compo[15::5,::12], v_compo[15::5,::12]\n",
    "qv = ax.quiver(pu.longitude, pu.latitude, pu.values, pv.values, transform=ccrs.PlateCarree(),\n",
    "               scale=150, width=0.003)\n",
    "plt.title('NAO+ minus NAO-: surface winds  (DJF)');"
   ]
  },
  {
   "cell_type": "markdown",
   "metadata": {
    "deletable": true,
    "editable": true
   },
   "source": [
    "### Surface temp "
   ]
  },
  {
   "cell_type": "code",
   "execution_count": null,
   "metadata": {
    "deletable": true,
    "editable": true
   },
   "outputs": [],
   "source": [
    "ds = xr.open_dataset('ERA-Int-Monthly-2mTemp.nc').sel(latitude=slice(90, 20))\n",
    "# seasonal ts\n",
    "ds = ds.where(ds['time.season'] == 'DJF')\n",
    "t_dfj = ds.t2m.rolling(min_periods=3, center=True, time=3).mean()\n",
    "t_dfj = t_dfj.groupby('time.year').mean('time')[1:, ...]\n",
    "# composites\n",
    "t_naop = t_dfj.sel(year=yrs_naop).mean(dim='year')\n",
    "t_naon = t_dfj.sel(year=yrs_naon).mean(dim='year')\n",
    "t_compo = t_naop - t_naon"
   ]
  },
  {
   "cell_type": "code",
   "execution_count": null,
   "metadata": {
    "deletable": true,
    "editable": true
   },
   "outputs": [],
   "source": [
    "fig, ax = prepare_plot_coast()\n",
    "t_compo.plot.contourf(ax=ax, transform=ccrs.PlateCarree(), levels=np.linspace(-8, 8, 17))\n",
    "plt.title('NAO+ minus NAO-: 2m Temp  (DJF)');"
   ]
  },
  {
   "cell_type": "markdown",
   "metadata": {
    "deletable": true,
    "editable": true
   },
   "source": [
    "### Precipitation"
   ]
  },
  {
   "cell_type": "code",
   "execution_count": null,
   "metadata": {
    "deletable": true,
    "editable": true
   },
   "outputs": [],
   "source": [
    "ds = xr.open_dataset('ERA-Int-Monthly-P.nc').sel(latitude=slice(90, 20))\n",
    "# seasonal ts\n",
    "ds = ds.where(ds['time.season'] == 'DJF')\n",
    "p_dfj = ds.tp.rolling(min_periods=3, center=True, time=3).mean()\n",
    "p_dfj = p_dfj.groupby('time.year').mean('time')[1:, ...]\n",
    "# composites\n",
    "p_naop = p_dfj.sel(year=yrs_naop).mean(dim='year')\n",
    "p_naon = p_dfj.sel(year=yrs_naon).mean(dim='year')\n",
    "p_compo = p_naop - p_naon"
   ]
  },
  {
   "cell_type": "code",
   "execution_count": null,
   "metadata": {
    "deletable": true,
    "editable": true
   },
   "outputs": [],
   "source": [
    "ax = plt.axes(projection=ccrs.PlateCarree())\n",
    "p_compo.plot.contourf(ax=ax, transform=ccrs.PlateCarree(), levels=np.linspace(-4, 4, 9), \n",
    "                      cbar_kwargs={'label':'mm d $^{-1}$'})\n",
    "ax.set_extent([-90, 80, 20, 80], ccrs.PlateCarree())\n",
    "ax.coastlines();\n",
    "plt.title('NAO+ minus NAO-: precipitation  (DJF)');"
   ]
  },
  {
   "cell_type": "markdown",
   "metadata": {
    "deletable": true,
    "editable": true
   },
   "source": [
    "## Summary "
   ]
  },
  {
   "cell_type": "markdown",
   "metadata": {
    "deletable": true,
    "editable": true
   },
   "source": [
    "Plots from:\n",
    "- Wanner, H., Brönnimann, S., Casty, C., et al. (2001): North Atlantic oscillation - Concepts and studies. Surv. Geophys., 22(1984):321–382."
   ]
  },
  {
   "cell_type": "markdown",
   "metadata": {
    "deletable": true,
    "editable": true
   },
   "source": [
    "**NAO+**\n",
    "\n",
    "<img src=\"https://dl.dropboxusercontent.com/u/20930277/do_not_delete/wanner_etal_01_naoplus.jpg\" width=\"80%\"  align=\"left\">"
   ]
  },
  {
   "cell_type": "markdown",
   "metadata": {
    "deletable": true,
    "editable": true
   },
   "source": [
    "**NAO-**\n",
    "\n",
    "<img src=\"https://dl.dropboxusercontent.com/u/20930277/do_not_delete/wanner_etal_01_naominus.jpg\" width=\"80%\"  align=\"left\">"
   ]
  },
  {
   "cell_type": "code",
   "execution_count": null,
   "metadata": {
    "deletable": true,
    "editable": true
   },
   "outputs": [],
   "source": []
  }
 ],
 "metadata": {
  "kernelspec": {
   "display_name": "Python 3",
   "language": "python",
   "name": "python3"
  },
  "language_info": {
   "codemirror_mode": {
    "name": "ipython",
    "version": 3
   },
   "file_extension": ".py",
   "mimetype": "text/x-python",
   "name": "python",
   "nbconvert_exporter": "python",
   "pygments_lexer": "ipython3",
   "version": "3.5.2"
  }
 },
 "nbformat": 4,
 "nbformat_minor": 0
}
