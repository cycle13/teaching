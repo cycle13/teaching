{
 "cells": [
  {
   "cell_type": "markdown",
   "metadata": {},
   "source": [
    "# Annex : integration with loops instead of cumtrapz"
   ]
  },
  {
   "cell_type": "markdown",
   "metadata": {},
   "source": [
    "In lesson 07 we used ``cumtrapz`` to compute the streamfunction: \n",
    "\n",
    "$$ \\Psi (\\varphi, p) = \\frac{2 \\pi R \\cos \\varphi}{g} \\int_{p_{trop}}^{p} [v(\\varphi, p)] dp $$"
   ]
  },
  {
   "cell_type": "markdown",
   "metadata": {},
   "source": [
    "This example shows that it is possible to use for loops to achieve the same results. While I think that the cumtrap method is more elegant, the loops might help to undertand better what's going on."
   ]
  },
  {
   "cell_type": "code",
   "execution_count": null,
   "metadata": {},
   "outputs": [],
   "source": [
    "# Display the plots in the notebook:\n",
    "%matplotlib inline\n",
    "# Import the tools we are going to need today:\n",
    "import matplotlib.pyplot as plt  # plotting library\n",
    "import numpy as np  # numerical library\n",
    "import xarray as xr  # netCDF library\n",
    "import cartopy  # Map projections libary\n",
    "import cartopy.crs as ccrs  # Projections list\n",
    "# Some defaults:\n",
    "plt.rcParams['figure.figsize'] = (12, 5)  # Default plot size\n",
    "np.set_printoptions(threshold=20)  # avoid to print very large arrays on screen"
   ]
  },
  {
   "cell_type": "markdown",
   "metadata": {},
   "source": [
    "## For loops in python "
   ]
  },
  {
   "cell_type": "markdown",
   "metadata": {},
   "source": [
    "Until today we have not used a single for loop for our exercises. This is because numpy is made to work with multi-dimensional arrays without having to apply operations over array elements. For today's lesson however we will need one for loop, and you will also need them in your future work if you choose python as your language of choice (which I strongly recommend of course). "
   ]
  },
  {
   "cell_type": "markdown",
   "metadata": {},
   "source": [
    "For loops are a bit different (and better) in python than in Matlab. It is best explained with an example:"
   ]
  },
  {
   "cell_type": "code",
   "execution_count": null,
   "metadata": {},
   "outputs": [],
   "source": [
    "alist = [1, 2, 'three', 4, 'end']\n",
    "for element in alist:\n",
    "    print(element)"
   ]
  },
  {
   "cell_type": "markdown",
   "metadata": {},
   "source": [
    "In python loops, there is no index (the famous \"i\" in many programming languages). The \"i\" is not necessary because python's `for` loop is executed *over the elements* of the list. Some languages implement this syntax under the name \"foreach\" (\"for each element in list: do something\").\n",
    "\n",
    "Note the blank spaces before \"print()\". In python the spacing (it's called \"[indentation](http://www.python-course.eu/python3_blocks.php)\") is important!\n",
    "\n",
    "Let's study a couple of further examples:"
   ]
  },
  {
   "cell_type": "code",
   "execution_count": null,
   "metadata": {},
   "outputs": [],
   "source": [
    "text = 'Hello!'\n",
    "for letter in text:\n",
    "    print(letter)"
   ]
  },
  {
   "cell_type": "code",
   "execution_count": null,
   "metadata": {},
   "outputs": [],
   "source": [
    "for i in range(5):\n",
    "    print(i)"
   ]
  },
  {
   "cell_type": "code",
   "execution_count": null,
   "metadata": {},
   "outputs": [],
   "source": [
    "for i in range(len(text)):\n",
    "    print(text[i])"
   ]
  },
  {
   "cell_type": "markdown",
   "metadata": {},
   "source": [
    "Python for loops can also work like Matlab ones, with an \"i\". But most of the times, the \"i\" index is not necessary. If you think you need an \"i\", it is *probable* that you could also do it without it.\n",
    "\n",
    "Now lets have a look at a 2D array:"
   ]
  },
  {
   "cell_type": "code",
   "execution_count": null,
   "metadata": {},
   "outputs": [],
   "source": [
    "a = np.array([[1,2,3,4], [5,6,7,8], [9,10,11,12]])\n",
    "print(a)"
   ]
  },
  {
   "cell_type": "code",
   "execution_count": null,
   "metadata": {},
   "outputs": [],
   "source": [
    "print(a.shape)"
   ]
  },
  {
   "cell_type": "markdown",
   "metadata": {},
   "source": [
    "The array \"a\" has three rows and 4 columns. What will the following do?"
   ]
  },
  {
   "cell_type": "code",
   "execution_count": null,
   "metadata": {},
   "outputs": [],
   "source": [
    "for row in a:\n",
    "    print(row)"
   ]
  },
  {
   "cell_type": "markdown",
   "metadata": {},
   "source": [
    "And the following?"
   ]
  },
  {
   "cell_type": "code",
   "execution_count": null,
   "metadata": {},
   "outputs": [],
   "source": [
    "for row in a:\n",
    "    for column in row:\n",
    "        print(column)"
   ]
  },
  {
   "cell_type": "markdown",
   "metadata": {},
   "source": [
    "What will the following do?"
   ]
  },
  {
   "cell_type": "code",
   "execution_count": null,
   "metadata": {},
   "outputs": [],
   "source": [
    "for i, row in enumerate(a):\n",
    "    print(i, row, a[i])"
   ]
  },
  {
   "cell_type": "markdown",
   "metadata": {},
   "source": [
    "We will now compute the cumulative sum of all elements of a row in a:"
   ]
  },
  {
   "cell_type": "code",
   "execution_count": null,
   "metadata": {},
   "outputs": [],
   "source": [
    "for i, row in enumerate(a):\n",
    "    a[i] = np.cumsum(row)\n",
    "a"
   ]
  },
  {
   "cell_type": "markdown",
   "metadata": {},
   "source": [
    "OK, that's enough for loops for today. Let's go back to our reanaysis data."
   ]
  },
  {
   "cell_type": "markdown",
   "metadata": {},
   "source": [
    "## Read the data"
   ]
  },
  {
   "cell_type": "markdown",
   "metadata": {},
   "source": [
    "Today we are going to use the upper-level atmospheric data we used last week: ``ERA-Int-MonthlyAvg-4D-UVWZ.nc``"
   ]
  },
  {
   "cell_type": "code",
   "execution_count": null,
   "metadata": {},
   "outputs": [],
   "source": [
    "ds = xr.open_dataset('ERA-Int-MonthlyAvg-4D-UVWZ.nc')"
   ]
  },
  {
   "cell_type": "code",
   "execution_count": null,
   "metadata": {},
   "outputs": [],
   "source": [
    "v = ds.v.mean(dim=['month', 'longitude'])\n",
    "w = - ds.w.mean(dim=['month', 'longitude'])"
   ]
  },
  {
   "cell_type": "markdown",
   "metadata": {},
   "source": [
    "First we are going to prepare a container for $\\Psi$, where we will put the results of our computations:"
   ]
  },
  {
   "cell_type": "code",
   "execution_count": null,
   "metadata": {},
   "outputs": [],
   "source": [
    "psi_data = v * 0  # psi_data is of the same dimensions as v: (level, latitude)"
   ]
  },
  {
   "cell_type": "markdown",
   "metadata": {},
   "source": [
    "We have to integrate up to level $p$ for each level in the original data. This is why we could need a for loop. Here as an example:"
   ]
  },
  {
   "cell_type": "code",
   "execution_count": null,
   "metadata": {},
   "outputs": [],
   "source": [
    "for p in psi_data.level.values:\n",
    "    print('We will integrate from level 50 to level: {}'.format(p))"
   ]
  },
  {
   "cell_type": "markdown",
   "metadata": {},
   "source": [
    "For each levels we will select only the data we need for the integration, compute it, and then store it in our container variable:"
   ]
  },
  {
   "cell_type": "code",
   "execution_count": null,
   "metadata": {},
   "outputs": [],
   "source": [
    "for p in psi_data.level.values:\n",
    "    # select parts of v we want to integrate\n",
    "    sel_v = v.sel(level=slice(50, p))\n",
    "    # the z coordinates of [v] for the integral:\n",
    "    zcoords = sel_v.level * 100  # note the \"* 100\" to convert hPa into SI units!\n",
    "    # integrate the v values over the atmospheric column (axis=0), with the pressure coordinates sel_v.level\n",
    "    integral = np.trapz(sel_v, zcoords, axis=0)\n",
    "    # store the results (\".loc[p]\" is equivalent to \".sel(level=p)\")\n",
    "    psi_data.loc[p] = integral"
   ]
  },
  {
   "cell_type": "markdown",
   "metadata": {},
   "source": [
    "The loop above might be a bit complicated to understand. Don't hesitate to ask me for more details!"
   ]
  },
  {
   "cell_type": "markdown",
   "metadata": {},
   "source": [
    "Finally, we need to compute the factor $ \\frac{2 \\pi R \\cos \\varphi}{g} $ and multiply it to our integral:"
   ]
  },
  {
   "cell_type": "code",
   "execution_count": null,
   "metadata": {},
   "outputs": [],
   "source": [
    "fac = 2 * np.pi * 6371000 * np.cos(np.deg2rad(v.latitude)) / 9.81\n",
    "psi = psi_data * fac\n",
    "# Convert to Sverdrups:\n",
    "psi = psi / 1e9\n",
    "psi.name = '10$^9$ kg s$^{-1}$'"
   ]
  },
  {
   "cell_type": "markdown",
   "metadata": {},
   "source": [
    "All done! Let's plot the result:"
   ]
  },
  {
   "cell_type": "code",
   "execution_count": null,
   "metadata": {},
   "outputs": [],
   "source": [
    "psi.plot.contourf(levels=np.linspace(-100, 100, 21), extend='both')\n",
    "plt.title('Stream function of the meridional overturning circulation -- annual average')\n",
    "plt.ylim([1000, 50]);"
   ]
  },
  {
   "cell_type": "code",
   "execution_count": null,
   "metadata": {},
   "outputs": [],
   "source": []
  }
 ],
 "metadata": {
  "kernelspec": {
   "display_name": "Python 3",
   "language": "python",
   "name": "python3"
  },
  "language_info": {
   "codemirror_mode": {
    "name": "ipython",
    "version": 3
   },
   "file_extension": ".py",
   "mimetype": "text/x-python",
   "name": "python",
   "nbconvert_exporter": "python",
   "pygments_lexer": "ipython3",
   "version": "3.5.2"
  }
 },
 "nbformat": 4,
 "nbformat_minor": 0
}
