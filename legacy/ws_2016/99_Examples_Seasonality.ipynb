{
 "cells": [
  {
   "cell_type": "markdown",
   "metadata": {
    "deletable": true,
    "editable": true
   },
   "source": [
    "# Precipitation seasonality and variability"
   ]
  },
  {
   "cell_type": "code",
   "execution_count": null,
   "metadata": {
    "deletable": true,
    "editable": true
   },
   "outputs": [],
   "source": [
    "%matplotlib inline\n",
    "import matplotlib.pyplot as plt  # plotting library\n",
    "import numpy as np  # numerical library\n",
    "import xarray as xr  # NetCDF library\n",
    "import cartopy  # Plotting libary\n",
    "import cartopy.crs as ccrs  # Projections\n",
    "np.set_printoptions(threshold=20)  # avoid to print very large arrays on screen\n",
    "# The commands below are not important\n",
    "import warnings\n",
    "warnings.filterwarnings('ignore')"
   ]
  },
  {
   "cell_type": "code",
   "execution_count": null,
   "metadata": {
    "deletable": true,
    "editable": true
   },
   "outputs": [],
   "source": [
    "# Some defaults\n",
    "plt.rcParams['figure.figsize'] = (14, 5)  # Default plot size"
   ]
  },
  {
   "cell_type": "markdown",
   "metadata": {
    "deletable": true,
    "editable": true
   },
   "source": [
    "## Precipitation data "
   ]
  },
  {
   "cell_type": "code",
   "execution_count": null,
   "metadata": {
    "deletable": true,
    "editable": true
   },
   "outputs": [],
   "source": [
    "netcdf = xr.open_dataset('ERA-Int-Monthly-P.nc')"
   ]
  },
  {
   "cell_type": "markdown",
   "metadata": {
    "deletable": true,
    "editable": true
   },
   "source": [
    "## Seasonality index "
   ]
  },
  {
   "cell_type": "markdown",
   "metadata": {
    "deletable": true,
    "editable": true
   },
   "source": [
    "The seasonality index by Walsh and Lawler (1981) is a convenient way to visualize the regions where precipitation tends to be seasonally concentrated:\n",
    "\n",
    "$$ SI = \\frac{1}{P_A}  \\sum_{i=1}^{12} \\lvert P_i - \\frac{P_A}{12} \\rvert$$"
   ]
  },
  {
   "cell_type": "markdown",
   "metadata": {
    "deletable": true,
    "editable": true
   },
   "source": [
    "It can be interpreted as follows:\n",
    "\n",
    "    < 0.19         Precipitation  spread  throughout  the  year\n",
    "    0.20-0.39      Precipitation  spread  throughout  the  year,  but  with  a  definite  wetter  season\n",
    "    0.40-0.59      Rather  seasonal  with  a  short  drier  season\n",
    "    0.60-0.79      Seasonal\n",
    "    0.80-0.99      Markedly  seasonal  with  a  long  dry  season\n",
    "    1.00-1.19      Most  precipitation in 3  months\n",
    "    > 1.20         Extreme  seasonality,  with  almost  all  precipitation  in  1–2  months"
   ]
  },
  {
   "cell_type": "markdown",
   "metadata": {
    "deletable": true,
    "editable": true
   },
   "source": [
    "**Compute it:**"
   ]
  },
  {
   "cell_type": "code",
   "execution_count": null,
   "metadata": {
    "deletable": true,
    "editable": true
   },
   "outputs": [],
   "source": [
    "prcp_cycle = netcdf.tp.copy().groupby('time.month').mean(dim='time')\n",
    "r = prcp_cycle.sum(dim='month')\n",
    "si = 1 / r * (np.abs(prcp_cycle - r/12.)).sum(dim='month')\n",
    "si.name = ''"
   ]
  },
  {
   "cell_type": "code",
   "execution_count": null,
   "metadata": {
    "deletable": true,
    "editable": true
   },
   "outputs": [],
   "source": [
    "levels = [0.2, 0.4, 0.6, 0.8, 1, 1.2]\n",
    "ax = plt.axes(projection=ccrs.Robinson())\n",
    "si.plot(ax=ax, transform=ccrs.PlateCarree(), cmap=plt.get_cmap('BuPu'), levels=levels) \n",
    "plt.title(\"Walsh and Lawler seasonality index for ERA-Int precipitation 1979-2014\")\n",
    "ax.coastlines();"
   ]
  },
  {
   "cell_type": "markdown",
   "metadata": {
    "deletable": true,
    "editable": true
   },
   "source": [
    "## Inter-annual variability "
   ]
  },
  {
   "cell_type": "markdown",
   "metadata": {
    "deletable": true,
    "editable": true
   },
   "source": [
    "Annual precipitation time serie:"
   ]
  },
  {
   "cell_type": "code",
   "execution_count": null,
   "metadata": {
    "deletable": true,
    "editable": true
   },
   "outputs": [],
   "source": [
    "prcp_a = netcdf.tp.copy().resample(dim='time', freq='AS', how='sum')"
   ]
  },
  {
   "cell_type": "markdown",
   "metadata": {
    "deletable": true,
    "editable": true
   },
   "source": [
    "Annual average precipitation:"
   ]
  },
  {
   "cell_type": "code",
   "execution_count": null,
   "metadata": {
    "deletable": true,
    "editable": true
   },
   "outputs": [],
   "source": [
    "prcp_a_tot = prcp_a.mean(dim='time')\n",
    "prcp_a_tot.name = 'm yr-1'"
   ]
  },
  {
   "cell_type": "markdown",
   "metadata": {
    "deletable": true,
    "editable": true
   },
   "source": [
    "Standard deviation of annual precipitation:"
   ]
  },
  {
   "cell_type": "code",
   "execution_count": null,
   "metadata": {
    "deletable": true,
    "editable": true
   },
   "outputs": [],
   "source": [
    "prcp_a_std = prcp_a.std(dim='time')\n",
    "prcp_a_std.name = 'm yr-1'"
   ]
  },
  {
   "cell_type": "code",
   "execution_count": null,
   "metadata": {
    "deletable": true,
    "editable": true
   },
   "outputs": [],
   "source": [
    "ax = plt.axes(projection=ccrs.Robinson())\n",
    "prcp_a_std.plot(ax=ax, origin='upper', aspect='equal', transform=ccrs.PlateCarree(), cmap=plt.get_cmap('BuPu'), vmax=1) \n",
    "plt.title(\"Standard deviation of annual precipitation\")\n",
    "ax.coastlines();"
   ]
  },
  {
   "cell_type": "markdown",
   "metadata": {
    "deletable": true,
    "editable": true
   },
   "source": [
    "**Relation between standard deviation and total precipitation:**"
   ]
  },
  {
   "cell_type": "code",
   "execution_count": null,
   "metadata": {
    "deletable": true,
    "editable": true
   },
   "outputs": [],
   "source": [
    "f, ax = plt.subplots(1, figsize=(5, 5))\n",
    "ax.scatter(prcp_a_tot, prcp_a_std);\n",
    "ax.set_ylim([0, 4])\n",
    "ax.set_xlim([0, 12])\n",
    "ax.set_xlabel('Total annual precipitation (m yr-1)')\n",
    "ax.set_ylabel('StdDev annual precipitation (m yr-1)');"
   ]
  },
  {
   "cell_type": "markdown",
   "metadata": {
    "deletable": true,
    "editable": true
   },
   "source": [
    "The **coefficient of variation** is therefore a better measure of variability:\n",
    "\n",
    "$$ c_v = \\frac{ \\sigma}{\\mu} $$"
   ]
  },
  {
   "cell_type": "code",
   "execution_count": null,
   "metadata": {
    "deletable": true,
    "editable": true
   },
   "outputs": [],
   "source": [
    "cv = prcp_a_std / prcp_a_tot\n",
    "cv.name = ''"
   ]
  },
  {
   "cell_type": "code",
   "execution_count": null,
   "metadata": {
    "deletable": true,
    "editable": true
   },
   "outputs": [],
   "source": [
    "ax = plt.axes(projection=ccrs.Robinson())\n",
    "cv.plot(ax=ax, origin='upper', aspect='equal', transform=ccrs.PlateCarree(), cmap=plt.get_cmap('BuPu'), vmax=0.5) \n",
    "plt.title(\"Coefficient of variation of annual precipitation\")\n",
    "ax.coastlines();"
   ]
  },
  {
   "cell_type": "markdown",
   "metadata": {
    "deletable": true,
    "editable": true
   },
   "source": [
    "**Relation between coefficient of variation and total precipitation:**"
   ]
  },
  {
   "cell_type": "code",
   "execution_count": null,
   "metadata": {
    "deletable": true,
    "editable": true
   },
   "outputs": [],
   "source": [
    "f, ax = plt.subplots(1, figsize=(5, 5))\n",
    "ax.scatter(prcp_a_tot, cv);\n",
    "ax.set_ylim([0, 4])\n",
    "ax.set_xlim([0, 12])\n",
    "ax.set_xlabel('Total annual precipitation (m yr-1)')\n",
    "ax.set_ylabel('Coefficient of variation (-)');"
   ]
  },
  {
   "cell_type": "code",
   "execution_count": null,
   "metadata": {
    "deletable": true,
    "editable": true
   },
   "outputs": [],
   "source": []
  }
 ],
 "metadata": {
  "kernelspec": {
   "display_name": "Python 3",
   "language": "python",
   "name": "python3"
  },
  "language_info": {
   "codemirror_mode": {
    "name": "ipython",
    "version": 3
   },
   "file_extension": ".py",
   "mimetype": "text/x-python",
   "name": "python",
   "nbconvert_exporter": "python",
   "pygments_lexer": "ipython3",
   "version": "3.5.2"
  }
 },
 "nbformat": 4,
 "nbformat_minor": 0
}
