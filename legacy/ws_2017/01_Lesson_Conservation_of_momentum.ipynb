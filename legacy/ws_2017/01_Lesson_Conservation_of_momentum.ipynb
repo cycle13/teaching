{
 "cells": [
  {
   "cell_type": "markdown",
   "metadata": {},
   "source": [
    "# Conservation of angular momentum and Hadley circulation"
   ]
  },
  {
   "cell_type": "markdown",
   "metadata": {},
   "source": [
    "In this short lesson, we are going to show that the circulation as imagined by Hadley in 1735 is not physically reasonable."
   ]
  },
  {
   "cell_type": "code",
   "execution_count": null,
   "metadata": {
    "collapsed": true
   },
   "outputs": [],
   "source": [
    "# This is to display the plots in the notebook \n",
    "%matplotlib inline\n",
    "# These are the modules we need\n",
    "import numpy as np\n",
    "import matplotlib.pyplot as plt"
   ]
  },
  {
   "cell_type": "markdown",
   "metadata": {},
   "source": [
    "### Introduction "
   ]
  },
  {
   "cell_type": "markdown",
   "metadata": {},
   "source": [
    "Because of the differential heating over the globe, Hadley already knew in 1735 that some kind of energy transport must occur from the equator to the poles. He described a circulation cell that would extend all the way to the poles as shown below:"
   ]
  },
  {
   "cell_type": "markdown",
   "metadata": {},
   "source": [
    "<img src=\"http://www.seas.harvard.edu/climate/eli/research/equable/images/extended%20hadley%20cell.png\" width=\"40%\"  align=\"left\">"
   ]
  },
  {
   "cell_type": "markdown",
   "metadata": {},
   "source": [
    "With very simple arguments of momentum conservation, we are going to show that this is not physically reasonable."
   ]
  },
  {
   "cell_type": "markdown",
   "metadata": {},
   "source": [
    "###  Conservation of momentum"
   ]
  },
  {
   "cell_type": "markdown",
   "metadata": {},
   "source": [
    "<img src=\"http://fabienmaussion.info/images/teaching/for_lectures/lecture_momentum.jpg\" width=\"30%\"  align=\"left\">"
   ]
  },
  {
   "cell_type": "markdown",
   "metadata": {},
   "source": [
    "Angular momentum of the air parcel: \n",
    "    \n",
    "$A = \\Omega r^2 + u r$ \n",
    "\n",
    "since $r = a \\cos \\varphi$:\n",
    "\n",
    "$A = \\Omega a^2 \\cos^2 \\varphi + u a \\cos \\varphi$\n",
    "\n",
    "If the parcel is not moving at the equator then $u = 0$ and $A_{Eq} = \\Omega a^2$\n",
    "\n",
    "Then, conservation of momentum implies:\n",
    "\n",
    "$A = A_{Eq} = \\Omega a^2 = \\Omega a^2 \\cos^2 \\varphi + u a \\cos \\varphi$ at any $ \\varphi$.\n",
    "\n",
    "A little bit of mathematics imply:\n",
    "\n",
    "**$u(\\varphi) = \\Omega a \\frac{\\sin^2 \\varphi }{\\cos \\varphi }$**\n",
    "\n"
   ]
  },
  {
   "cell_type": "markdown",
   "metadata": {},
   "source": [
    "### Zonal velocity for a parcel that would move from the equator to the pole whilst conserving angular momentum"
   ]
  },
  {
   "cell_type": "markdown",
   "metadata": {},
   "source": [
    "We ar now going to compute the zonal velocity of a parcel as it moves poleward:"
   ]
  },
  {
   "cell_type": "code",
   "execution_count": null,
   "metadata": {
    "collapsed": true
   },
   "outputs": [],
   "source": [
    "# constants\n",
    "radius = 6371000.  # m\n",
    "angular_vel = 7.27e-5  # s-1"
   ]
  },
  {
   "cell_type": "code",
   "execution_count": null,
   "metadata": {},
   "outputs": [],
   "source": [
    "# latitudes at which we want to compute the zonal velocity\n",
    "phi = np.linspace(0, np.pi/4, 100)"
   ]
  },
  {
   "cell_type": "code",
   "execution_count": null,
   "metadata": {
    "collapsed": true
   },
   "outputs": [],
   "source": [
    "# zonal velocity\n",
    "zonal_velocity = angular_vel * radius * np.sin(phi)**2 / np.cos(phi)"
   ]
  },
  {
   "cell_type": "code",
   "execution_count": null,
   "metadata": {},
   "outputs": [],
   "source": [
    "# zonal velocity\n",
    "plt.plot(np.rad2deg(phi), zonal_velocity);\n",
    "plt.ylabel('Zonal velocity (m s$^{-1}$)')\n",
    "plt.xlabel('Latitude (°)');"
   ]
  },
  {
   "cell_type": "markdown",
   "metadata": {
    "collapsed": true
   },
   "source": [
    "**Q: Compare the values computed here with the typical values of the velocity of the subtropical jet stream in the atmosphere. At which approx. latitude does the wind speed become unrealistic? Discuss the validity of both the assumption made by Hadley in 1735 and the assumption we made for these calculations (that angular momentum is conserved by the air parcel).**"
   ]
  },
  {
   "cell_type": "code",
   "execution_count": null,
   "metadata": {
    "collapsed": true
   },
   "outputs": [],
   "source": [
    "# your answer here"
   ]
  },
  {
   "cell_type": "markdown",
   "metadata": {},
   "source": [
    "# What next? "
   ]
  },
  {
   "cell_type": "markdown",
   "metadata": {},
   "source": [
    "**Copy the next exercise to your directory and open it**:\n",
    "\n",
    "      $ cp /scratch/c707/c7071047/teaching/ws_2017/02_Exercises_Simple_cloud_effects.ipynb ~/exercises/\n",
    "\n",
    "**Or** just download it from OLAT into your folder.\n",
    "\n",
    "**Or** you can download it from github::\n",
    "\n",
    "    $ wget https://raw.githubusercontent.com/fmaussion/teaching/master/ws_2017/02_Exercises_Simple_cloud_effects.ipynb ~/exercises/"
   ]
  },
  {
   "cell_type": "code",
   "execution_count": null,
   "metadata": {
    "collapsed": true
   },
   "outputs": [],
   "source": []
  }
 ],
 "metadata": {
  "kernelspec": {
   "display_name": "Python 3",
   "language": "python",
   "name": "python3"
  },
  "language_info": {
   "codemirror_mode": {
    "name": "ipython",
    "version": 3
   },
   "file_extension": ".py",
   "mimetype": "text/x-python",
   "name": "python",
   "nbconvert_exporter": "python",
   "pygments_lexer": "ipython3",
   "version": "3.5.2"
  }
 },
 "nbformat": 4,
 "nbformat_minor": 1
}
