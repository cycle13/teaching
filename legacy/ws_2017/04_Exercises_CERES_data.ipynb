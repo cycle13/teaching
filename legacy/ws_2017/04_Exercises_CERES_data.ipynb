{
 "cells": [
  {
   "cell_type": "markdown",
   "metadata": {},
   "source": [
    "# 04: CERES data (exercises)"
   ]
  },
  {
   "cell_type": "markdown",
   "metadata": {},
   "source": [
    "To solve the following exercises you can copy and paste code from the previous notebook.\n",
    "\n",
    "The code modifications required to solve the exercises are minimal (e.g. changing the name of a function, add a small computation...): \n",
    "\n",
    "Don't think too \"complicated\"!"
   ]
  },
  {
   "cell_type": "markdown",
   "metadata": {},
   "source": [
    "## Importing the modules"
   ]
  },
  {
   "cell_type": "markdown",
   "metadata": {},
   "source": [
    "This one is easy. I'll do it for you:"
   ]
  },
  {
   "cell_type": "code",
   "execution_count": null,
   "metadata": {
    "collapsed": true
   },
   "outputs": [],
   "source": [
    "# Display the plots in the notebook:\n",
    "%matplotlib inline\n",
    "# Import the tools we are going to need today:\n",
    "import matplotlib.pyplot as plt  # plotting library\n",
    "import numpy as np  # numerical library\n",
    "import xarray as xr  # netCDF library\n",
    "import cartopy  # Map projections libary\n",
    "import cartopy.crs as ccrs  # Projections list\n",
    "# Some defaults:\n",
    "plt.rcParams['figure.figsize'] = (12, 5)  # Default plot size\n",
    "np.set_printoptions(threshold=20)  # avoid to print very large arrays on screen\n",
    "# The commands below are to ignore certain warnings.\n",
    "import warnings\n",
    "warnings.filterwarnings('ignore')"
   ]
  },
  {
   "cell_type": "markdown",
   "metadata": {},
   "source": [
    "## TOA fluxes "
   ]
  },
  {
   "cell_type": "markdown",
   "metadata": {},
   "source": [
    "Read the TOA dataset we used during the lesson. Do you remember all variables it contains?"
   ]
  },
  {
   "cell_type": "code",
   "execution_count": null,
   "metadata": {
    "collapsed": true
   },
   "outputs": [],
   "source": [
    "ds = xr.open_dataset('CERES_EBAF-TOA_Ed2.8_Avg-2001-2014.nc')"
   ]
  },
  {
   "cell_type": "code",
   "execution_count": null,
   "metadata": {},
   "outputs": [],
   "source": [
    "ds"
   ]
  },
  {
   "cell_type": "markdown",
   "metadata": {},
   "source": [
    "### Albedo "
   ]
  },
  {
   "cell_type": "markdown",
   "metadata": {},
   "source": [
    "Compute the the climatological mean of clear-sky planetary albedo $\\overline{\\alpha_{clr}}$ and plot it on a map. Analyse the plot."
   ]
  },
  {
   "cell_type": "code",
   "execution_count": null,
   "metadata": {
    "collapsed": true
   },
   "outputs": [],
   "source": [
    "# your answer here"
   ]
  },
  {
   "cell_type": "markdown",
   "metadata": {},
   "source": [
    "Repeat the operation with all-sky planetary albedo $\\overline{\\alpha_{all}}$. Where are the largest differences? Can you plot the difference between the two on a map, too?"
   ]
  },
  {
   "cell_type": "code",
   "execution_count": null,
   "metadata": {
    "collapsed": true
   },
   "outputs": [],
   "source": [
    "# your answer here"
   ]
  },
  {
   "cell_type": "markdown",
   "metadata": {},
   "source": [
    "Now plot the zonal, climatological means $\\left[ \\overline{\\alpha_{all}} \\right]$ and $\\left[ \\overline{\\alpha_{clr}} \\right]$ on the same plot. Add a legend to it!"
   ]
  },
  {
   "cell_type": "code",
   "execution_count": null,
   "metadata": {},
   "outputs": [],
   "source": [
    "# your answer here"
   ]
  },
  {
   "cell_type": "markdown",
   "metadata": {},
   "source": [
    "Compute the global average of $\\alpha_{all}$ and $\\alpha_{clr}$ (remember to weight according to latitude!). Compare the values you obtain with the ones we mentioned in the lecture."
   ]
  },
  {
   "cell_type": "code",
   "execution_count": null,
   "metadata": {},
   "outputs": [],
   "source": [
    "# your answer here"
   ]
  },
  {
   "cell_type": "markdown",
   "metadata": {},
   "source": [
    "### Longwave outgoing radiation "
   ]
  },
  {
   "cell_type": "markdown",
   "metadata": {},
   "source": [
    "Repeat the operations above with $LW_{all} $ and  $LW_{clr}$ (i.e.: maps of $\\overline{LW_{all}}$, $\\overline{LW_{clr}}$, line plots of $\\left[ \\overline{LW_{all}} \\right]$, $\\left[ \\overline{LW_{clr}} \\right]$). What is the global effect of clouds on outgoing longwave radiation?"
   ]
  },
  {
   "cell_type": "code",
   "execution_count": null,
   "metadata": {},
   "outputs": [],
   "source": [
    "# your answer here"
   ]
  },
  {
   "cell_type": "markdown",
   "metadata": {},
   "source": [
    "## Surface fluxes "
   ]
  },
  {
   "cell_type": "markdown",
   "metadata": {},
   "source": [
    "Now open the [EBAF-Surface](http://ceres.larc.nasa.gov/products.php?product=EBAF-Surface) dataset (``'/scratch/c707/c7071047/data/CERES_EBAF-Surface_Ed2.8_Avg-2001-2014.nc'``), also available on OLAT or [here](https://www.dropbox.com/s/szji2yteblt5wd9/CERES_EBAF-Surface_Ed2.8_Avg-2001-2014.nc)."
   ]
  },
  {
   "cell_type": "markdown",
   "metadata": {},
   "source": [
    "### Surface albedo "
   ]
  },
  {
   "cell_type": "markdown",
   "metadata": {},
   "source": [
    "Compute the all-sky surface albedo $\\overline{\\alpha_{s}}$. Plot it on a map."
   ]
  },
  {
   "cell_type": "code",
   "execution_count": null,
   "metadata": {
    "collapsed": true
   },
   "outputs": [],
   "source": [
    "# your answer here"
   ]
  },
  {
   "cell_type": "markdown",
   "metadata": {},
   "source": [
    " Compute the global average of $\\alpha_{s}$, and compare it to the value obtained for the clear-sky planetary albedo $\\alpha_{clr}$. Can you explain the difference between the two?"
   ]
  },
  {
   "cell_type": "code",
   "execution_count": null,
   "metadata": {
    "collapsed": true
   },
   "outputs": [],
   "source": [
    "# your answer here"
   ]
  },
  {
   "cell_type": "markdown",
   "metadata": {},
   "source": [
    "### Surface energy balance"
   ]
  },
  {
   "cell_type": "markdown",
   "metadata": {},
   "source": [
    "Now compute the net surface energy intake $\\overline{SEB} =  \\overline{SW_{in}} - \\overline{SW_{out}} + \\overline{LW_{in}} - \\overline{LW_{out}}$. Plot it on a map and analyse your results. Where does the surface gain most energy? Is the net radiative energy a gain or a loss for the surface of the globe?"
   ]
  },
  {
   "cell_type": "code",
   "execution_count": null,
   "metadata": {
    "collapsed": true
   },
   "outputs": [],
   "source": [
    "# your answer here"
   ]
  },
  {
   "cell_type": "markdown",
   "metadata": {},
   "source": [
    "Compute the global averages of each term and compare them to the values we discussed in the lecture. For reference, here is the figure again:\n",
    "\n",
    "<img src=\"http://www.skepticalscience.com/pics/Figure1.png\" width=\"50%\"  align=\"left\">"
   ]
  },
  {
   "cell_type": "code",
   "execution_count": null,
   "metadata": {
    "collapsed": true
   },
   "outputs": [],
   "source": [
    "# your answer here"
   ]
  },
  {
   "cell_type": "markdown",
   "metadata": {},
   "source": [
    "Discuss the processes that will counter balance this net radiative energy imbalance, in the oceans and on land. "
   ]
  },
  {
   "cell_type": "code",
   "execution_count": null,
   "metadata": {
    "collapsed": true
   },
   "outputs": [],
   "source": []
  }
 ],
 "metadata": {
  "kernelspec": {
   "display_name": "Python 3",
   "language": "python",
   "name": "python3"
  },
  "language_info": {
   "codemirror_mode": {
    "name": "ipython",
    "version": 3
   },
   "file_extension": ".py",
   "mimetype": "text/x-python",
   "name": "python",
   "nbconvert_exporter": "python",
   "pygments_lexer": "ipython3",
   "version": "3.5.2"
  }
 },
 "nbformat": 4,
 "nbformat_minor": 1
}
