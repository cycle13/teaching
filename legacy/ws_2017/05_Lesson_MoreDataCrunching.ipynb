{
 "cells": [
  {
   "cell_type": "markdown",
   "metadata": {},
   "source": [
    "# Lesson: more tools for statistical and climatological analysis"
   ]
  },
  {
   "cell_type": "markdown",
   "metadata": {},
   "source": [
    "Last week we learned how to open a NetCDF file (a data format which is very common in atmospheric applications), select variables, do simple statistics on them, and plot them. Today we are going to introduce some more data-crunching tools and we are going to learn how to make our plots more precise and informative."
   ]
  },
  {
   "cell_type": "markdown",
   "metadata": {},
   "source": [
    "## Temperature data  "
   ]
  },
  {
   "cell_type": "markdown",
   "metadata": {},
   "source": [
    "Let's open the ERA-Interim 2m air temperature file (``ERA-Int-Monthly-2mTemp.nc``):"
   ]
  },
  {
   "cell_type": "code",
   "execution_count": null,
   "metadata": {},
   "outputs": [],
   "source": [
    "# Display the plots in the notebook:\n",
    "%matplotlib inline\n",
    "# Import the tools we are going to need today:\n",
    "import matplotlib.pyplot as plt  # plotting library\n",
    "import numpy as np  # numerical library\n",
    "import xarray as xr  # netCDF library\n",
    "import cartopy  # Map projections libary\n",
    "import cartopy.crs as ccrs  # Projections list\n",
    "# Some defaults:\n",
    "plt.rcParams['figure.figsize'] = (12, 5)  # Default plot size\n",
    "np.set_printoptions(threshold=20)  # avoid to print very large arrays on screen\n",
    "# The commands below are to ignore certain warnings.\n",
    "import warnings\n",
    "warnings.filterwarnings('ignore')"
   ]
  },
  {
   "cell_type": "code",
   "execution_count": null,
   "metadata": {},
   "outputs": [],
   "source": [
    "ds = xr.open_dataset('./data/ERA-Int-Monthly-2mTemp.nc')\n",
    "print(ds)"
   ]
  },
  {
   "cell_type": "markdown",
   "metadata": {},
   "source": [
    "**Q: do you recall what ERA-Interim data is? Use your favorite search engine to get some basic information about it. What institution provides the data? Which time period is it available for? Where could you get the data if you need it for your upcoming thesis?**\n",
    "\n",
    "**Try to explain in a few sentences how you think that the ``t2m`` variable available in this NetCDF file was generated. Is it OK to call these data \"observations\"? Why not? Reanalysis data often plays the role of \"observations\" when they are used to evaluate the output of climate models. Can you tell why?**"
   ]
  },
  {
   "cell_type": "code",
   "execution_count": null,
   "metadata": {},
   "outputs": [],
   "source": [
    "# your answer here"
   ]
  },
  {
   "cell_type": "markdown",
   "metadata": {},
   "source": [
    "When we do ``print(ds)``, as so-called \"string representation\" of the dataset is printed in the cell output. It contains enough information to answer the following questions:\n",
    "- **what are the dimensions of the t2m variable?**\n",
    "- **what is the spatial resolution of the ERA-Interim dataset?**\n",
    "- **what is its temporal resolution?**\n",
    "- **what it the data type of the various variables and coordinates available in the dataset? What are the differences between each data type?**"
   ]
  },
  {
   "cell_type": "code",
   "execution_count": null,
   "metadata": {},
   "outputs": [],
   "source": [
    "# your answer here"
   ]
  },
  {
   "cell_type": "markdown",
   "metadata": {},
   "source": [
    "## More control on plots"
   ]
  },
  {
   "cell_type": "markdown",
   "metadata": {},
   "source": [
    "Let's compute the time average of the air temperature:"
   ]
  },
  {
   "cell_type": "code",
   "execution_count": null,
   "metadata": {},
   "outputs": [],
   "source": [
    "t2_tavg = ds.t2m.mean(dim='time')\n",
    "ax = plt.axes(projection=ccrs.Robinson())\n",
    "t2_tavg.plot(ax=ax, transform=ccrs.PlateCarree()) \n",
    "ax.coastlines(); ax.gridlines(); "
   ]
  },
  {
   "cell_type": "markdown",
   "metadata": {},
   "source": [
    "### Discrete levels"
   ]
  },
  {
   "cell_type": "markdown",
   "metadata": {},
   "source": [
    "Smooth color tables like the above are nice and appealing, but the human eye is not trained to see such small differences in colors. For example. it would be quite difficult to tell which temperature does the coast of Peru have (above 280K? or below?). Sometimes, discrete levels are the way to go:  "
   ]
  },
  {
   "cell_type": "code",
   "execution_count": null,
   "metadata": {},
   "outputs": [],
   "source": [
    "ax = plt.axes(projection=ccrs.Robinson())\n",
    "t2_tavg.plot(ax=ax, transform=ccrs.PlateCarree(), levels=[240, 260, 280, 285, 290, 295, 300]) \n",
    "ax.coastlines(); ax.gridlines(); "
   ]
  },
  {
   "cell_type": "markdown",
   "metadata": {},
   "source": [
    "**Q: in which range can we place the temperature off the coast of Peru? If your eye still doesn't make the difference, how can we still be sure?**\n",
    "**E: make a new plot, but this time set ``levels=12``.**"
   ]
  },
  {
   "cell_type": "code",
   "execution_count": null,
   "metadata": {},
   "outputs": [],
   "source": [
    "# your answer here"
   ]
  },
  {
   "cell_type": "markdown",
   "metadata": {},
   "source": [
    "### Color tables"
   ]
  },
  {
   "cell_type": "markdown",
   "metadata": {},
   "source": [
    "**E: make a new variable called ``t2c_tavg``, which is t2_tavg converted to degrees celsius. Plot it.**"
   ]
  },
  {
   "cell_type": "code",
   "execution_count": null,
   "metadata": {},
   "outputs": [],
   "source": [
    "t2c_tavg = t2_tavg - 273.15\n",
    "ax = plt.axes(projection=ccrs.Robinson())\n",
    "t2c_tavg.plot(ax=ax, transform=ccrs.PlateCarree()) \n",
    "ax.coastlines(); ax.gridlines(); "
   ]
  },
  {
   "cell_type": "markdown",
   "metadata": {},
   "source": [
    "What happened to our plot? Note the location of the 0 on the colorbar and the automated choice of a new colorscale. Note also that the data range is mostly dictated by very cold temperatures in Antarctica. These automated choices are not allways meaningfull. Let's play around a little bit:"
   ]
  },
  {
   "cell_type": "code",
   "execution_count": null,
   "metadata": {},
   "outputs": [],
   "source": [
    "ax = plt.axes(projection=ccrs.Robinson())\n",
    "t2c_tavg.plot(ax=ax, transform=ccrs.PlateCarree(), cmap='inferno', center=False, \n",
    "              vmin=-40, vmax=20, levels=7, cbar_kwargs={'label':'°C'}) \n",
    "ax.set_title('Average annual 2m air temperature, ERA-Interim 1979-2014')\n",
    "ax.coastlines(); ax.gridlines(); "
   ]
  },
  {
   "cell_type": "markdown",
   "metadata": {},
   "source": [
    "**E: try to understand the role of each keyword by trying to use each of them separately. If you're still unsure, a look at xarray's [documentation](http://xarray.pydata.org/en/stable/generated/xarray.plot.pcolormesh.html) might be helpful.**\n",
    "\n",
    "Note: the list of matplotlib's color tables can be found [here](http://www.matplotlib.org/examples/color/colormaps_reference.html)."
   ]
  },
  {
   "cell_type": "code",
   "execution_count": null,
   "metadata": {},
   "outputs": [],
   "source": [
    "# your playground here"
   ]
  },
  {
   "cell_type": "markdown",
   "metadata": {},
   "source": [
    "## Working with time series"
   ]
  },
  {
   "cell_type": "markdown",
   "metadata": {},
   "source": [
    "**E: print the dataset's time coordinate. Which period do the data cover?**"
   ]
  },
  {
   "cell_type": "code",
   "execution_count": null,
   "metadata": {},
   "outputs": [],
   "source": [
    "# your answer here"
   ]
  },
  {
   "cell_type": "markdown",
   "metadata": {},
   "source": [
    "The selection tools we learned about last week also apply to time series. They are quite clever and very flexible:"
   ]
  },
  {
   "cell_type": "code",
   "execution_count": null,
   "metadata": {},
   "outputs": [],
   "source": [
    "t2 = ds.t2m\n",
    "t2.sel(time='2008')"
   ]
  },
  {
   "cell_type": "markdown",
   "metadata": {},
   "source": [
    "**Q: what did we just do? Does that make sense to you? Try to understand the ouptut of the following commands:**\n",
    "- t2.sel(time='2008-02')\n",
    "- t2.sel(time='2008/02')\n",
    "- t2.sel(time=slice('2008', '2012'))"
   ]
  },
  {
   "cell_type": "code",
   "execution_count": null,
   "metadata": {},
   "outputs": [],
   "source": [
    "# Your answer here"
   ]
  },
  {
   "cell_type": "markdown",
   "metadata": {},
   "source": [
    "### Time series of globally averaged fields "
   ]
  },
  {
   "cell_type": "markdown",
   "metadata": {},
   "source": [
    "If you remember last week, you should understand well what the following command will do:"
   ]
  },
  {
   "cell_type": "code",
   "execution_count": null,
   "metadata": {},
   "outputs": [],
   "source": [
    "ts_t2_c = t2.mean(dim=['longitude','latitude']) - 273.15  # convert into Celsius\n",
    "ts_t2_c.plot();"
   ]
  },
  {
   "cell_type": "markdown",
   "metadata": {},
   "source": [
    "Logically, the global average temperature on Earth would be: "
   ]
  },
  {
   "cell_type": "code",
   "execution_count": null,
   "metadata": {},
   "outputs": [],
   "source": [
    "ts_t2_c.mean(dim='time')"
   ]
  },
  {
   "cell_type": "markdown",
   "metadata": {},
   "source": [
    "But... wait? This is way colder than expected! (**Q: do you remember what is the average air temperature at the Earth surface?**). Indeed, we forgot to take the latitudinal effect into account.\n",
    "\n",
    "Let's use a little bit of xarray magic to get things sorted. First, we can recall that averaging zonally (over the longitudes) is authorized, since all meridional slices have the same weight:"
   ]
  },
  {
   "cell_type": "code",
   "execution_count": null,
   "metadata": {},
   "outputs": [],
   "source": [
    "zonal_mean_t2_c = t2.mean(dim='longitude') - 273.15  # convert into Celsius"
   ]
  },
  {
   "cell_type": "markdown",
   "metadata": {},
   "source": [
    "**Q: what are the new dimensions of ``zonal_mean_t2_c``?**"
   ]
  },
  {
   "cell_type": "markdown",
   "metadata": {},
   "source": [
    "So far so good. Now we are going to compute our latitudinal weight like last week:"
   ]
  },
  {
   "cell_type": "code",
   "execution_count": null,
   "metadata": {},
   "outputs": [],
   "source": [
    "weight = np.cos(np.deg2rad(ds.latitude))\n",
    "weight = weight / weight.sum()"
   ]
  },
  {
   "cell_type": "markdown",
   "metadata": {},
   "source": [
    "Last week we used this weight to multiply it with an array of the same length (a zonal average without temporal dimension). Today we will use a  bit of magic, called \"broadcasting\" in the numpy jargon:"
   ]
  },
  {
   "cell_type": "code",
   "execution_count": null,
   "metadata": {},
   "outputs": [],
   "source": [
    "weighted_zonal_mean_t2_c = zonal_mean_t2_c * weight"
   ]
  },
  {
   "cell_type": "markdown",
   "metadata": {},
   "source": [
    "What did we just do? We multiplied a 2d array with a 1d array. This operation is not defined a priori, but xarray decided for us that what we *really* wanted to do is to multiply this 1d array with all 432 time slices we have in our array. Xarray knows how to do this because both our arrays have a matching dimension and associated coordinate variable. Thanks to this little trick, making a weighted average in 2 dimensions is as easy as it is in 1 dimension: "
   ]
  },
  {
   "cell_type": "code",
   "execution_count": null,
   "metadata": {},
   "outputs": [],
   "source": [
    "weighted_ts_t2_c = weighted_zonal_mean_t2_c.sum(dim='latitude')"
   ]
  },
  {
   "cell_type": "markdown",
   "metadata": {},
   "source": [
    "**E: make a plot of this time series and compute its average. Does the global average now better fits to what we said in the lecture? If not, why?**"
   ]
  },
  {
   "cell_type": "code",
   "execution_count": null,
   "metadata": {},
   "outputs": [],
   "source": [
    "# your answer here"
   ]
  },
  {
   "cell_type": "markdown",
   "metadata": {},
   "source": [
    "Note that the operations above were only valid because averaging is a linear operation, i.e. commutative. For any field $A$, the equality $\\left[ \\overline{A} \\right] = \\overline{\\left[A \\right]}$ is always true."
   ]
  },
  {
   "cell_type": "markdown",
   "metadata": {},
   "source": [
    "### Resample time series data"
   ]
  },
  {
   "cell_type": "markdown",
   "metadata": {},
   "source": [
    "Resampling is the operation of changing the *sampling* of the data, i.e. the frequency at which it is sampled. One of the most meaningful way to resample is to do an average, for example over the year:"
   ]
  },
  {
   "cell_type": "code",
   "execution_count": null,
   "metadata": {},
   "outputs": [],
   "source": [
    "tsa_t2_c = weighted_ts_t2_c.resample(dim='time', freq='AS')"
   ]
  },
  {
   "cell_type": "markdown",
   "metadata": {},
   "source": [
    "**E: check that ``tsa_t2_c`` is what you think it is. What could the ``'AS'`` mean? Try ``'A'`` for a change, and note the difference.**\n",
    "\n",
    "Note that averaging is [not the only way](http://xarray.pydata.org/en/stable/generated/xarray.Dataset.resample.html) available to resample data. **Try ``how='std'`` and  ``how='max'``, too.**"
   ]
  },
  {
   "cell_type": "code",
   "execution_count": null,
   "metadata": {},
   "outputs": [],
   "source": [
    "# your answer here"
   ]
  },
  {
   "cell_type": "markdown",
   "metadata": {},
   "source": [
    "**E: describe the features of the yearly average plot. Does it surprise you, or is it the way you thought it would be? Compute the standard deviation of this time series (tip: .std())** "
   ]
  },
  {
   "cell_type": "code",
   "execution_count": null,
   "metadata": {},
   "outputs": [],
   "source": [
    "# your answer here"
   ]
  },
  {
   "cell_type": "markdown",
   "metadata": {},
   "source": [
    "### Compute the monthly climatographies (or annual cycle)"
   ]
  },
  {
   "cell_type": "markdown",
   "metadata": {},
   "source": [
    "Another way to look at time series data is to average them according to the time of year to study the annual cycle. This is done with the ``.groupby()`` method:"
   ]
  },
  {
   "cell_type": "code",
   "execution_count": null,
   "metadata": {},
   "outputs": [],
   "source": [
    "tsm_t2_c = weighted_ts_t2_c.groupby('time.month').mean()"
   ]
  },
  {
   "cell_type": "markdown",
   "metadata": {},
   "source": [
    "**E: check that ``tsm_t2_c`` is what you think it is. What is the new dimension of the data? Plot it. Can you explain what you see?**"
   ]
  },
  {
   "cell_type": "code",
   "execution_count": null,
   "metadata": {},
   "outputs": [],
   "source": [
    "# your answer here"
   ]
  },
  {
   "cell_type": "markdown",
   "metadata": {},
   "source": [
    "### Averages and anomalies "
   ]
  },
  {
   "cell_type": "markdown",
   "metadata": {},
   "source": [
    "A very common way to decompose time-series is to normalize them. Let $A$ be any field, function of time $t$. Then:\n",
    "\n",
    "$$A(t) = \\overline{A} + A'(t)$$\n",
    "\n",
    "Where $A'$ is called the fluctuating component of $A$, $A'(t)$ being the anomaly of $A$ at the time $t$. Often the variable t is omitted from the notation, i.e. one writes $A = \\overline{A} + A'$"
   ]
  },
  {
   "cell_type": "markdown",
   "metadata": {},
   "source": [
    "**E: compute the temperature anomaly for the year 1997 with respect to the 1979-2014 average.**"
   ]
  },
  {
   "cell_type": "code",
   "execution_count": null,
   "metadata": {},
   "outputs": [],
   "source": [
    "# your answer here"
   ]
  },
  {
   "cell_type": "markdown",
   "metadata": {},
   "source": [
    "**E: by noting that the functions applied to 1d data above also apply to 3d data, compute the temperature anomaly for the month of January 2010 with respect to the 1979-2014 January average.**"
   ]
  },
  {
   "cell_type": "code",
   "execution_count": null,
   "metadata": {},
   "outputs": [],
   "source": [
    "# your answer here"
   ]
  },
  {
   "cell_type": "markdown",
   "metadata": {
    "collapsed": true
   },
   "source": [
    "## Selecting specific areas of our data"
   ]
  },
  {
   "cell_type": "markdown",
   "metadata": {},
   "source": [
    "As for the time above, one can select slices out of the data:"
   ]
  },
  {
   "cell_type": "code",
   "execution_count": null,
   "metadata": {},
   "outputs": [],
   "source": [
    "t2c_reg = t2c_tavg.sel(longitude=slice(-20, 20))"
   ]
  },
  {
   "cell_type": "code",
   "execution_count": null,
   "metadata": {},
   "outputs": [],
   "source": [
    "ax = plt.axes(projection=ccrs.PlateCarree()) # Note that I changed the projection\n",
    "t2c_reg.plot(ax=ax, transform=ccrs.PlateCarree()) \n",
    "ax.add_feature(cartopy.feature.BORDERS); # What does this command do? \n",
    "ax.coastlines();"
   ]
  },
  {
   "cell_type": "markdown",
   "metadata": {},
   "source": [
    "**E: create a new \"t2c_reg\" variable which is a subset of t2c_tavg between the longitudes (-20, 60) and the latitudes (40, -40). Plot the result.** (*hint: yes, I wrote (40, -40) and not (-40, 40)*)"
   ]
  },
  {
   "cell_type": "code",
   "execution_count": null,
   "metadata": {},
   "outputs": [],
   "source": [
    "# your answer here"
   ]
  },
  {
   "cell_type": "markdown",
   "metadata": {},
   "source": [
    "### Selection based on a condition"
   ]
  },
  {
   "cell_type": "markdown",
   "metadata": {},
   "source": [
    "What if we are interested into air temperature on land only, and want to remove the oceans from our analyses? For this we are going to have to \"mask out\" the oceans grid points. First, we will need to open the \"invariant: file: "
   ]
  },
  {
   "cell_type": "code",
   "execution_count": null,
   "metadata": {},
   "outputs": [],
   "source": [
    "nc_inv = xr.open_dataset('./data/ERA-Int-Invariant.nc')\n",
    "nc_inv"
   ]
  },
  {
   "cell_type": "markdown",
   "metadata": {},
   "source": [
    "**E: explore this new data file (variables, units). Plot the two variables.**"
   ]
  },
  {
   "cell_type": "code",
   "execution_count": null,
   "metadata": {},
   "outputs": [],
   "source": [
    "# your answer here"
   ]
  },
  {
   "cell_type": "markdown",
   "metadata": {},
   "source": [
    "OK, so \"1\" is land, \"0\" is ocean. We are going to use this information to mask out the values from the ocean:"
   ]
  },
  {
   "cell_type": "code",
   "execution_count": null,
   "metadata": {},
   "outputs": [],
   "source": [
    "masked_t2_avg = t2c_tavg.where(nc_inv.lsm == 1)"
   ]
  },
  {
   "cell_type": "markdown",
   "metadata": {},
   "source": [
    "**E: Plot this new variable. Compute its zonal average and plot it!**"
   ]
  },
  {
   "cell_type": "code",
   "execution_count": null,
   "metadata": {},
   "outputs": [],
   "source": [
    "# your answer here"
   ]
  },
  {
   "cell_type": "markdown",
   "metadata": {},
   "source": [
    "## Dimensional juggling! "
   ]
  },
  {
   "cell_type": "markdown",
   "metadata": {},
   "source": [
    "I am now going to apply a series of commands to our data. Let's see if you can follow each step:"
   ]
  },
  {
   "cell_type": "code",
   "execution_count": null,
   "metadata": {},
   "outputs": [],
   "source": [
    "t2_m_reg = ds.t2m.sel(longitude=slice(-20, 60), latitude=slice(40, -40)).groupby('time.month').mean(dim='time') - 273.15\n",
    "t2_m_reg_z = t2_m_reg.mean(dim='longitude')\n",
    "t2_m_reg_z.T.plot();"
   ]
  },
  {
   "cell_type": "markdown",
   "metadata": {},
   "source": [
    "Can you follow what I did? If not, decompose each step and see if you can follow the operations one by one.\n",
    "\n",
    "The plot above is called a [Hovmöller](https://en.wikipedia.org/wiki/Hovm%C3%B6ller_diagram), used very often in climatology. **Q: Can you describe its features?**\n",
    "\n",
    "\n",
    "*Note that the first line of code above is considered \"bad practice\" by programmers: lines that are too long are difficult to read and they are more likely to contain bugs. It is therefore NOT recommended to follow this example.* "
   ]
  },
  {
   "cell_type": "markdown",
   "metadata": {},
   "source": [
    "## Contour plots"
   ]
  },
  {
   "cell_type": "markdown",
   "metadata": {},
   "source": [
    "Reconsider the Africa plot and the Hovmöller plot above. Both are quite \"pixellized\" (the first one because at regional scale, the coarse spatial resolution of ERA-Interim data becomes visible). Xarray's method of choice to display 2d data is to represent it as if it was an \"image\". It's ok most of the time, but sometimes you'd like to plot more contoured data. For example: "
   ]
  },
  {
   "cell_type": "code",
   "execution_count": null,
   "metadata": {},
   "outputs": [],
   "source": [
    "t2_m_reg_z.T.plot.contourf(levels=np.linspace(10, 30, 11));"
   ]
  },
  {
   "cell_type": "markdown",
   "metadata": {
    "collapsed": true
   },
   "source": [
    "## What next? "
   ]
  },
  {
   "cell_type": "markdown",
   "metadata": {},
   "source": [
    "You can go directly to exercise 06! "
   ]
  },
  {
   "cell_type": "code",
   "execution_count": null,
   "metadata": {},
   "outputs": [],
   "source": []
  }
 ],
 "metadata": {
  "kernelspec": {
   "display_name": "Python 3",
   "language": "python",
   "name": "python3"
  },
  "language_info": {
   "codemirror_mode": {
    "name": "ipython",
    "version": 3
   },
   "file_extension": ".py",
   "mimetype": "text/x-python",
   "name": "python",
   "nbconvert_exporter": "python",
   "pygments_lexer": "ipython3",
   "version": "3.5.2"
  }
 },
 "nbformat": 4,
 "nbformat_minor": 1
}
