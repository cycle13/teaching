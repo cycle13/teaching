{
 "cells": [
  {
   "cell_type": "markdown",
   "metadata": {},
   "source": [
    "# 06 Exercises: temperature and precipitation data"
   ]
  },
  {
   "cell_type": "code",
   "execution_count": null,
   "metadata": {},
   "outputs": [],
   "source": [
    "# Display the plots in the notebook:\n",
    "%matplotlib inline\n",
    "# Import the tools we are going to need today:\n",
    "import matplotlib.pyplot as plt  # plotting library\n",
    "import numpy as np  # numerical library\n",
    "import xarray as xr  # netCDF library\n",
    "import cartopy  # Map projections libary\n",
    "import cartopy.crs as ccrs  # Projections list\n",
    "# Some defaults:\n",
    "plt.rcParams['figure.figsize'] = (12, 5)  # Default plot size\n",
    "np.set_printoptions(threshold=20)  # avoid to print very large arrays on screen\n",
    "# The commands below are to ignore certain warnings.\n",
    "import warnings\n",
    "warnings.filterwarnings('ignore')"
   ]
  },
  {
   "cell_type": "markdown",
   "metadata": {},
   "source": [
    "Do do this excercise you'll need the files:\n",
    "- ERA-Int-Invariant.nc\n",
    "- ERA-Int-Monthly-2mTemp.nc\n",
    "- ERA-Int-Monthly-P.nc\n",
    "\n",
    "As usual, they are in the scratch folder (``/scratch/c707/c7071047/data/``) or on OLAT."
   ]
  },
  {
   "cell_type": "markdown",
   "metadata": {},
   "source": [
    "## Temperature"
   ]
  },
  {
   "cell_type": "markdown",
   "metadata": {},
   "source": [
    "**Compute the mean temperature $\\overline{T}$. Plot it.**"
   ]
  },
  {
   "cell_type": "code",
   "execution_count": null,
   "metadata": {},
   "outputs": [],
   "source": []
  },
  {
   "cell_type": "markdown",
   "metadata": {},
   "source": [
    "**Compute the standard deviation of the temperature over the time dimension ([hint](http://xarray.pydata.org/en/stable/generated/xarray.Dataset.std.html)). Where is the variability of monthly temperature highest? Note the latitudinal differences. Is the variability higher over land or over oceans? Why do you think that variability is so high in Siberia?**"
   ]
  },
  {
   "cell_type": "code",
   "execution_count": null,
   "metadata": {},
   "outputs": [],
   "source": []
  },
  {
   "cell_type": "markdown",
   "metadata": {},
   "source": [
    "**Compute the maximum and minimum temperatures (in °C) over the time dimension. Plot them. What is the coldest month that ever happened since 1979? What is the coldest month in the tropics? Are there much meridional differences in the tropics?**"
   ]
  },
  {
   "cell_type": "code",
   "execution_count": null,
   "metadata": {},
   "outputs": [],
   "source": []
  },
  {
   "cell_type": "markdown",
   "metadata": {},
   "source": [
    "**Compute the difference between the warmest and the coldest month. Plot it. Compare it to the standard deviation map. Are there significant differences?**"
   ]
  },
  {
   "cell_type": "code",
   "execution_count": null,
   "metadata": {},
   "outputs": [],
   "source": []
  },
  {
   "cell_type": "markdown",
   "metadata": {},
   "source": [
    "**Compute the zonal mean temperature $\\overline{\\left[ T \\right]}$. Plot it. At what latitudes is the zonal average temperature equal to 0°C? Describe the differences between North and South. Can you explain them easily? Repeat the operation with the standard deviation instead of the temporal mean.**"
   ]
  },
  {
   "cell_type": "code",
   "execution_count": null,
   "metadata": {},
   "outputs": [],
   "source": []
  },
  {
   "cell_type": "markdown",
   "metadata": {},
   "source": [
    "Similarly to the decomposition in time, geophysical fields can also be decomposed zonally:\n",
    "\n",
    "$$A = \\left[ A \\right] + A^{*}$$\n",
    "\n",
    "Where $\\left[ A \\right]$ is the zonal average and $A^{*}$ the departure from the zonal average.\n",
    "\n",
    "**Verify that for any field A:**\n",
    "1. $\\overline{A^{*}} = \\overline{A} - \\left[ \\overline{A} \\right]$  \n",
    "2. $A = \\left[ \\overline{A} \\right] + \\left[ A' \\right] + \\overline{A^{*}} + A'^{*}$ "
   ]
  },
  {
   "cell_type": "markdown",
   "metadata": {},
   "source": [
    "**Compute $\\overline{T^{*}}$ (use eq. 1 above), and plot it on a map.**\n",
    "\n",
    "\n",
    "Note that western Europe is much warmer than northern America and continental Russia. Explain the major patterns of these diffences. Can they all be explained easily? "
   ]
  },
  {
   "cell_type": "code",
   "execution_count": null,
   "metadata": {},
   "outputs": [],
   "source": []
  },
  {
   "cell_type": "markdown",
   "metadata": {},
   "source": [
    "**Compute $\\overline{T_{SeaLevel}}$, which is the average temperature corrected for the effect of altitude (assume a vertical gradient of 6.5 K km$^{-1}$), and plot it on a map.**"
   ]
  },
  {
   "cell_type": "code",
   "execution_count": null,
   "metadata": {},
   "outputs": [],
   "source": []
  },
  {
   "cell_type": "markdown",
   "metadata": {},
   "source": [
    "**Now compute $\\overline{T_{SeaLevel}^{*}}$, and plot it on a map. Discuss.**"
   ]
  },
  {
   "cell_type": "code",
   "execution_count": null,
   "metadata": {},
   "outputs": [],
   "source": []
  },
  {
   "cell_type": "markdown",
   "metadata": {},
   "source": [
    "**Compute the zonal mean temperature over land $\\overline{\\left[ T_{Land} \\right]}$ and over oceans $\\overline{\\left[ T_{Oceans} \\right]}$ and plot them both on the same plot. Discuss.**"
   ]
  },
  {
   "cell_type": "code",
   "execution_count": null,
   "metadata": {},
   "outputs": [],
   "source": []
  },
  {
   "cell_type": "markdown",
   "metadata": {},
   "source": [
    "## Precipitation"
   ]
  },
  {
   "cell_type": "markdown",
   "metadata": {},
   "source": [
    "Get the new precipitation data file (``ERA-Int-Monthly-P.nc``) from OLAT or from the scratch directory. Open the file and explore it. what are the units of monthly precipitation? Why?"
   ]
  },
  {
   "cell_type": "code",
   "execution_count": null,
   "metadata": {},
   "outputs": [],
   "source": []
  },
  {
   "cell_type": "markdown",
   "metadata": {},
   "source": [
    "**Compute the average total annual precipitation (average precipitation over a year, in mm yr$^{-1}$) and store it in a variable called \"annual_prcp\". Plot it.**"
   ]
  },
  {
   "cell_type": "code",
   "execution_count": null,
   "metadata": {},
   "outputs": [],
   "source": []
  },
  {
   "cell_type": "markdown",
   "metadata": {},
   "source": [
    "**Draw a new plot of \"annual_prcp\", this time with a new colormap ('YlGnBu') and with the following discrete levels specified: [50, 200, 500, 700, 1000, 1500, 2000, 3000, 5000]. Now have a look at the patterns again.**\n",
    "\n",
    "**Using your knowledge from the lecture which didn't take place yet ;-), try to answer questions such as:**\n",
    "- why are the oceans (mostly) dryer than land in the subtropics?\n",
    "- this was not covered in the lecture, but why is there only one large desert (in Africa) while other continents at the same latitute are rather wet?\n",
    "- why are the eastern subtropical oceans dryer than in their western part? Do all three oceans have similar patterns for precipitation?\n",
    "- where does it fall more than 3000 mm precipitation per year? And where does is fall more than 5000 mm precipitation a year? Is it easy to find that out? \n",
    "- Note that it could be easy to use the \".where()\" function to highlight these areas easily. Can you come up with a plot highlighing the areas with more than 5000m precipitation per year??\n",
    "- find the \"deserts\" of the world where there is less than 50 mm precipitation a year. Explain their presence."
   ]
  },
  {
   "cell_type": "code",
   "execution_count": null,
   "metadata": {},
   "outputs": [],
   "source": []
  },
  {
   "cell_type": "markdown",
   "metadata": {},
   "source": [
    "**Compute the average annual precipitation on the globe (in mm yr$^{-1}$). Compute the monthly time series of precipitation averaged over the planet and store it in a variable called \"prcp_ts\"  (in mm d$^{-1}$). Plot it.** \n",
    "\n",
    "**How does precipitation vary at the yearly and monthly scale? Compare it to the variability of temperature.**"
   ]
  },
  {
   "cell_type": "code",
   "execution_count": null,
   "metadata": {},
   "outputs": [],
   "source": []
  },
  {
   "cell_type": "markdown",
   "metadata": {},
   "source": [
    "**Compute the annual cycle of precipitation and store it in a variable called \"prcp_cycle\". I expect a variable of dimensions (month: 12, latitude: 241, longitude: 480).** Hint: remember the ``.groupby()`` command we learned in the lesson."
   ]
  },
  {
   "cell_type": "code",
   "execution_count": null,
   "metadata": {},
   "outputs": [],
   "source": []
  },
  {
   "cell_type": "markdown",
   "metadata": {},
   "source": [
    "**Now draw a Hovmöller diagram of prcp_cycle, with the months on the x-axis and the latitude on the y-axis. Use the .plot.contourf() with appropriate levels as we did in Lesson_03.**\n",
    "\n",
    "**Is the Hovmöller plot consistent with the annual cycle of precipitation we have observed in the time series? Describe the major features of the plot.**"
   ]
  },
  {
   "cell_type": "code",
   "execution_count": null,
   "metadata": {},
   "outputs": [],
   "source": []
  },
  {
   "cell_type": "markdown",
   "metadata": {},
   "source": [
    "**Make a variable \"trop_prcp_cycle\", where you selected the area of \"prcp_cycle\" between the latitudes 23.5 and -23.5. Plot trop_prcp_cycle as a Hovmöller diagramm like before.**"
   ]
  },
  {
   "cell_type": "code",
   "execution_count": null,
   "metadata": {},
   "outputs": [],
   "source": []
  },
  {
   "cell_type": "markdown",
   "metadata": {
    "collapsed": true
   },
   "source": [
    "**Plot the average precipitation in January on a map. Do the same with precipitation in July, and choose the same levels for both maps in order to compare them. Discuss.**"
   ]
  },
  {
   "cell_type": "code",
   "execution_count": null,
   "metadata": {},
   "outputs": [],
   "source": []
  }
 ],
 "metadata": {
  "kernelspec": {
   "display_name": "Python 3",
   "language": "python",
   "name": "python3"
  },
  "language_info": {
   "codemirror_mode": {
    "name": "ipython",
    "version": 3
   },
   "file_extension": ".py",
   "mimetype": "text/x-python",
   "name": "python",
   "nbconvert_exporter": "python",
   "pygments_lexer": "ipython3",
   "version": "3.5.2"
  }
 },
 "nbformat": 4,
 "nbformat_minor": 1
}
