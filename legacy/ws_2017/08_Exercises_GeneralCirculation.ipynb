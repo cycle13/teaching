{
 "cells": [
  {
   "cell_type": "markdown",
   "metadata": {},
   "source": [
    "# Exercises: major features of the atmosperic circulation"
   ]
  },
  {
   "cell_type": "code",
   "execution_count": null,
   "metadata": {},
   "outputs": [],
   "source": [
    "# Display the plots in the notebook:\n",
    "%matplotlib inline\n",
    "# Import the tools we are going to need today:\n",
    "import matplotlib.pyplot as plt  # plotting library\n",
    "import numpy as np  # numerical library\n",
    "import xarray as xr  # netCDF library\n",
    "import cartopy  # Map projections libary\n",
    "import cartopy.crs as ccrs  # Projections list\n",
    "# Some defaults:\n",
    "plt.rcParams['figure.figsize'] = (12, 5)  # Default plot size\n",
    "np.set_printoptions(threshold=20)  # avoid to print very large arrays on screen\n",
    "# The commands below are to ignore certain warnings.\n",
    "import warnings\n",
    "warnings.filterwarnings('ignore', category=RuntimeWarning)"
   ]
  },
  {
   "cell_type": "markdown",
   "metadata": {},
   "source": [
    "## Sea-level pressure and surface winds  "
   ]
  },
  {
   "cell_type": "markdown",
   "metadata": {},
   "source": [
    "Let's open the ``'ERA-Int-MonthlyAvg-UVSLP.nc'`` file:"
   ]
  },
  {
   "cell_type": "code",
   "execution_count": null,
   "metadata": {},
   "outputs": [],
   "source": [
    "ds = xr.open_dataset('./data/ERA-Int-MonthlyAvg-UVSLP.nc')"
   ]
  },
  {
   "cell_type": "markdown",
   "metadata": {},
   "source": [
    "**Compute $\\left[ \\overline{SLP} \\right]$ (in hPa), and plot it. With the help of [plt.axhline](http://matplotlib.org/api/pyplot_api.html#matplotlib.pyplot.axhline), add the [standard atmosphere pressure](https://en.wikipedia.org/wiki/Atmospheric_pressure#Standard_atmospheric) line to the plot to emphasize high and low pressure regions.**"
   ]
  },
  {
   "cell_type": "code",
   "execution_count": null,
   "metadata": {},
   "outputs": [],
   "source": []
  },
  {
   "cell_type": "markdown",
   "metadata": {},
   "source": [
    "**Repeat with $\\left[ \\overline{u_{10}} \\right]$ and $\\left[ \\overline{v_{10}} \\right]$ (in hPa) and the 0. horizontal line to the plot (to detect surface westerlies from easterlies for example). Analyse the three plots alltogether. How do they fit to the circulation we discussed in the lecture?**"
   ]
  },
  {
   "cell_type": "code",
   "execution_count": null,
   "metadata": {},
   "outputs": [],
   "source": []
  },
  {
   "cell_type": "markdown",
   "metadata": {},
   "source": [
    "**Plot the annual $\\overline{SLP}$ on a map. Choose adequate levels and colormap, so that low pressure and high pressure systems are visible. These are called \"semi-permanent highs and lows\". Can you name most of them?**  "
   ]
  },
  {
   "cell_type": "code",
   "execution_count": null,
   "metadata": {},
   "outputs": [],
   "source": []
  },
  {
   "cell_type": "markdown",
   "metadata": {},
   "source": [
    "**Now use the same colors and levels as above, and plot $\\overline{SLP}$ for the months of January, April, July and October. Compare the evolution of the major systems. When are they strongest? Weakest? Which systems disappear entirely?** "
   ]
  },
  {
   "cell_type": "code",
   "execution_count": null,
   "metadata": {},
   "outputs": [],
   "source": []
  },
  {
   "cell_type": "markdown",
   "metadata": {},
   "source": [
    "## General circulation of the atmopshere"
   ]
  },
  {
   "cell_type": "markdown",
   "metadata": {},
   "source": [
    "Let's open the ``'ERA-Int-MonthlyAvg-4D-UVWZ.nc'`` file:"
   ]
  },
  {
   "cell_type": "code",
   "execution_count": null,
   "metadata": {},
   "outputs": [],
   "source": [
    "ds = xr.open_dataset('./data/ERA-Int-MonthlyAvg-4D-UVWZ.nc')"
   ]
  },
  {
   "cell_type": "markdown",
   "metadata": {},
   "source": [
    "### Geopotential and zonal winds "
   ]
  },
  {
   "cell_type": "markdown",
   "metadata": {},
   "source": [
    "**Compute $\\left[ \\overline{z_h} \\right]$, where $z_h$ is the [geopotential height](https://en.wikipedia.org/wiki/Geopotential_height) (unit: m). Plot it (you can use ``.plot.contourf(levels=18, center=False)`` for example). Don't forget to put the y-axis in the right direction!**"
   ]
  },
  {
   "cell_type": "code",
   "execution_count": null,
   "metadata": {},
   "outputs": [],
   "source": []
  },
  {
   "cell_type": "markdown",
   "metadata": {},
   "source": [
    "**What is the approximate average height of the 200hPa level at the poles? At the tropics? Not that easy to see, right? Instead, you can try to compute the anomaly of $\\left[ \\overline{z_h} \\right]$ with respect to $\\left\\{ \\left[ \\overline{z_h} \\right] \\right\\}$, where $\\left\\{ \\right\\}$ would represent the meridional average. Plot it (this time without the ``center`` keyword) and analyse the plot: what altitude difference is there at the 500hPa level between the equator and the poles? And at the 200hPa level? How does that fit into the thermal wind concept we discussed in the lecture?**"
   ]
  },
  {
   "cell_type": "code",
   "execution_count": null,
   "metadata": {},
   "outputs": [],
   "source": []
  },
  {
   "cell_type": "markdown",
   "metadata": {},
   "source": [
    "**Repeat the operation with the month of January and July. Analyse the differences.**"
   ]
  },
  {
   "cell_type": "code",
   "execution_count": null,
   "metadata": {},
   "outputs": [],
   "source": []
  },
  {
   "cell_type": "markdown",
   "metadata": {
    "collapsed": true
   },
   "source": [
    "**Now plot the zonal temporal average of the zonal wind $\\left[ \\overline{u} \\right]$, for the annual average and the months of January and July. Analyse the plot: when and where is the zonal wind speed highest? Where is the zonal wind negative?**"
   ]
  },
  {
   "cell_type": "code",
   "execution_count": null,
   "metadata": {},
   "outputs": [],
   "source": []
  },
  {
   "cell_type": "markdown",
   "metadata": {},
   "source": [
    "### Geostrophic winds in the lower troposphere "
   ]
  },
  {
   "cell_type": "markdown",
   "metadata": {},
   "source": [
    "**Plot January $\\overline{z_h}$ at the 950 hPa level on a map. Can you see a problem with this plot? Yes, indeed, it is as if there were no mountains on Earth.**"
   ]
  },
  {
   "cell_type": "code",
   "execution_count": null,
   "metadata": {},
   "outputs": [],
   "source": []
  },
  {
   "cell_type": "markdown",
   "metadata": {},
   "source": [
    "**With the help of the invariant dataset, mask out the land pixels from $\\overline{z_h}$ computed above so that we look at the geopotential height over the oceans only. Compute the geostrophic wind components $u_g$ and $v_g$ out of it. Plot $\\overline{z_h}$ on a map, and overlay $u_g$ and $v_g$ on it using a quiver plot. Analyse what you see.**"
   ]
  },
  {
   "cell_type": "code",
   "execution_count": null,
   "metadata": {},
   "outputs": [],
   "source": []
  },
  {
   "cell_type": "markdown",
   "metadata": {},
   "source": [
    "**By noting that the wind field can always be decomposed in the the sum of a geostrophic and an ageostrophic component, compute the ageostrophic wind $u_{ag}$ and $v_{ag}$. Plot $\\overline{z_h}$ on a map, and overlay $u_{ag}$ and $v_{ag}$ on it using a quiver plot. Analyse what you see in relation to the plot above.**"
   ]
  },
  {
   "cell_type": "code",
   "execution_count": null,
   "metadata": {},
   "outputs": [],
   "source": []
  },
  {
   "cell_type": "markdown",
   "metadata": {},
   "source": [
    "### Meridional overturning circulation"
   ]
  },
  {
   "cell_type": "markdown",
   "metadata": {},
   "source": [
    "**Compute the stram function of the meridional overturning circulation of the atmosphere fot the annual average and the months of January, April, July, and October. Plot all five with the same colors and levels for comparison. Analyse what you see.**"
   ]
  },
  {
   "cell_type": "code",
   "execution_count": null,
   "metadata": {},
   "outputs": [],
   "source": []
  }
 ],
 "metadata": {
  "kernelspec": {
   "display_name": "Python 3",
   "language": "python",
   "name": "python3"
  },
  "language_info": {
   "codemirror_mode": {
    "name": "ipython",
    "version": 3
   },
   "file_extension": ".py",
   "mimetype": "text/x-python",
   "name": "python",
   "nbconvert_exporter": "python",
   "pygments_lexer": "ipython3",
   "version": "3.5.2"
  }
 },
 "nbformat": 4,
 "nbformat_minor": 1
}
