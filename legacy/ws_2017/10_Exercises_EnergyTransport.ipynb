{
 "cells": [
  {
   "cell_type": "markdown",
   "metadata": {},
   "source": [
    "# 10: Exercises: Energy transport"
   ]
  },
  {
   "cell_type": "markdown",
   "metadata": {},
   "source": [
    "In this exercise will apply the lesson learned about integration in Python to compute the Energy transport in the amosphere and in the ocean."
   ]
  },
  {
   "cell_type": "markdown",
   "metadata": {},
   "source": [
    "## Import the packages"
   ]
  },
  {
   "cell_type": "markdown",
   "metadata": {},
   "source": [
    "This did not change:"
   ]
  },
  {
   "cell_type": "code",
   "execution_count": null,
   "metadata": {},
   "outputs": [],
   "source": [
    "# Display the plots in the notebook:\n",
    "%matplotlib inline\n",
    "# Import the tools we are going to need today:\n",
    "import matplotlib.pyplot as plt  # plotting library\n",
    "import numpy as np  # numerical library\n",
    "import xarray as xr  # netCDF library\n",
    "import cartopy  # Map projections libary\n",
    "import cartopy.crs as ccrs  # Projections list\n",
    "# Some defaults:\n",
    "plt.rcParams['figure.figsize'] = (12, 5)  # Default plot size\n",
    "np.set_printoptions(threshold=20)  # avoid to print very large arrays on screen\n",
    "# The commands below are to ignore certain warnings.\n",
    "import warnings\n",
    "warnings.filterwarnings('ignore', category=RuntimeWarning)"
   ]
  },
  {
   "cell_type": "markdown",
   "metadata": {},
   "source": [
    "## Data "
   ]
  },
  {
   "cell_type": "markdown",
   "metadata": {},
   "source": [
    "We are going to work again with the files that you will find on OLAT or on the scratch directory (``'ERA-Int-AnnualAvg-EFluxes.nc'``). Note that these are the annually averaged fluxes (the interested student can have a look at the ``'ERA-Int-MonthlyAvg-EFluxes.nc'`` for the monthly averages)."
   ]
  },
  {
   "cell_type": "code",
   "execution_count": null,
   "metadata": {},
   "outputs": [],
   "source": [
    "ds = xr.open_dataset('ERA-Int-AnnualAvg-EFluxes.nc')"
   ]
  },
  {
   "cell_type": "markdown",
   "metadata": {},
   "source": [
    "**Q: explore the data file. There is some redundancy in the available variables (some of them are computed from the others): can you identify which?**\n",
    "\n",
    "*Note: the variables names are sometimes a bit cryptic, maybe you'll find it usefull to display the variables metadata as shown below.*"
   ]
  },
  {
   "cell_type": "code",
   "execution_count": null,
   "metadata": {},
   "outputs": [],
   "source": [
    "for vn in ds.data_vars:\n",
    "    print(vn + ':', ds[vn].long_name, '[' + ds[vn].units + ']')"
   ]
  },
  {
   "cell_type": "markdown",
   "metadata": {},
   "source": [
    "## Energy balance at the TOA"
   ]
  },
  {
   "cell_type": "markdown",
   "metadata": {},
   "source": [
    "**E: compute the energy balance $E_{TOA}$ at the top of the atmosphere (TOA) and plot it on a map. Compute the global average of $E_{TOA}$ (remember: the Earth isn't flat!). Is the energy budget for the total climate system balanced? Should it be? Compare the ERA-Interim radiative balance to the estimate of anthropogenic radiative forcing from http://www.esrl.noaa.gov/gmd/aggi/aggi.html. What are the implications of this comparison for using ERA-Interim to diagnose climate change in the recent past?**\n",
    "\n",
    "*Note: these errors in reanalysis data are aknowledged and discussed. See for example [this paper](http://onlinelibrary.wiley.com/doi/10.1002/qj.864/pdf) for a discussion.*"
   ]
  },
  {
   "cell_type": "code",
   "execution_count": null,
   "metadata": {},
   "outputs": [],
   "source": [
    "# your answer here"
   ]
  },
  {
   "cell_type": "markdown",
   "metadata": {},
   "source": [
    "From the lecture, we remember that the total energy transport implied by the energy imbalance between the Equator and the Poles can be computed as:\n",
    "\n",
    "$$ ET(\\varphi)=\\int\\limits^{\\varphi}_{-\\pi/2}\\int\\limits^{2\\pi}_{0} E_{TOA} R^2\\cos\\varphi'd\\lambda d\\varphi' $$\n",
    "\n",
    "where $R$ is the Earth radius (about 6371 km), $\\varphi$ the latitude and $\\lambda$ the longitude."
   ]
  },
  {
   "cell_type": "markdown",
   "metadata": {},
   "source": [
    "We are going to start by performing the inner integration:\n",
    "\n",
    "$$\\int\\limits^{2\\pi}_{0} E_{TOA} R^2\\cos\\varphi'd\\lambda $$\n",
    "\n",
    "**E: compute the integral above and store your result in an intermediate variable (e.g. ``intermediate_eb``).**\n",
    "\n",
    "*Hint 1: before starting with programming right away, think about what you'd like to compute: what will be the shape of ``intermediate_eb``?*\n",
    "\n",
    "*Hint 2: for the integration, you could use the numpy function [trapz](https://docs.scipy.org/doc/numpy-1.10.1/reference/generated/numpy.trapz.html). However, you might find it easier to compute the integral without any external function: indeed, integrals can also be computed using the [rectangle method](https://en.wikipedia.org/wiki/Rectangle_method), so using only multiplication operations!*\n",
    "\n",
    "*Hint 3: the integral is done on a sphere, meaning that the units of our grid have to be converted to gradients.*"
   ]
  },
  {
   "cell_type": "code",
   "execution_count": null,
   "metadata": {},
   "outputs": [],
   "source": [
    "# your answer here"
   ]
  },
  {
   "cell_type": "markdown",
   "metadata": {},
   "source": [
    "We will now perform the outer integration:\n",
    "\n",
    "$$ ET(\\varphi)=\\int\\limits^{\\varphi}_{-\\pi/2} E (\\varphi') d\\varphi' $$\n",
    "\n",
    "Where $E (\\varphi')$ is the intermediate variale you just computed.\n",
    "    \n",
    "**E: now compute the outer integral above and plot it in units of Petta-Watt (10$^{15}$ Watt).**\n",
    "\n",
    "\n",
    "*Hint 1: it is important to note that the integral above starts from $-\\frac{\\pi}{2}$, but our data is from North to South, i.e \"upside down\"! You'll have to invert your variable (``intermediate_eb[::-1]``) before going on.*\n",
    "\n",
    "*Hint 2: the inner integral is differing from the outer integral in that the variable $\\varphi$ is one of the integral bounds. So here again you could use the scipy function we used in lesson 07 ([cumtrapz](https://docs.scipy.org/doc/scipy-0.14.0/reference/generated/scipy.integrate.cumtrapz.html)), or you can use the rectangle method and the function ``np.cumsum``.*"
   ]
  },
  {
   "cell_type": "code",
   "execution_count": null,
   "metadata": {},
   "outputs": [],
   "source": [
    "# your answer here"
   ]
  },
  {
   "cell_type": "markdown",
   "metadata": {},
   "source": [
    "## Energy balance at the surface"
   ]
  },
  {
   "cell_type": "markdown",
   "metadata": {},
   "source": [
    "**Q: define the various terms of the surface energy balance and plot them. Can you understant the convention used by ERA-Interim? Is a positive flux an energy loss or an energy gain for the atmosphere?**"
   ]
  },
  {
   "cell_type": "code",
   "execution_count": null,
   "metadata": {},
   "outputs": [],
   "source": [
    "# your answer here"
   ]
  },
  {
   "cell_type": "markdown",
   "metadata": {},
   "source": [
    "**Q: compute the energy balance at the surface $E_{Surf}$ and plot/analyse it. Is the surface energy budget balanced? Should it be?**"
   ]
  },
  {
   "cell_type": "code",
   "execution_count": null,
   "metadata": {},
   "outputs": [],
   "source": [
    "# your answer here"
   ]
  },
  {
   "cell_type": "markdown",
   "metadata": {},
   "source": [
    "## Energy balance of the atmosphere"
   ]
  },
  {
   "cell_type": "markdown",
   "metadata": {},
   "source": [
    "**Q: compute the energy balance of the atmosphere $E_{Atm}$ and plot/analyse it. Is the atmosphere energy budget balanced? Should it be?**"
   ]
  },
  {
   "cell_type": "code",
   "execution_count": null,
   "metadata": {},
   "outputs": [],
   "source": [
    "# your answer here"
   ]
  },
  {
   "cell_type": "markdown",
   "metadata": {},
   "source": [
    "The energy transported by the atmosphere can be computed with the exact same methodology:\n",
    "\n",
    "$$ ET_{Atm}(\\varphi)=\\int\\limits^{\\varphi}_{-\\pi/2}\\int\\limits^{2\\pi}_{0} E_{Atm} R^2\\cos\\varphi'd\\lambda d\\varphi' $$\n",
    "\n",
    "**E: compute $ET_{Atm}$ out of $E_{Atm}$. Plot it together with the total energy transport computed earlier. Are you satisfied with the results? What is the makor issue with this plot?**\n",
    "\n",
    "*Hint: look at the poles*"
   ]
  },
  {
   "cell_type": "code",
   "execution_count": null,
   "metadata": {},
   "outputs": [],
   "source": [
    "# your answer here"
   ]
  },
  {
   "cell_type": "markdown",
   "metadata": {},
   "source": [
    "## Energy transport of the atmosphere and the oceans"
   ]
  },
  {
   "cell_type": "markdown",
   "metadata": {},
   "source": [
    "To compute the energy transport, we have to aknowledge that the energy budget has to be closed.\n",
    "\n",
    "**E: apply a bias correction to $E_{TOA}$ and $E_{Atm}$ by substracting the residual of the energy balance closure (so that the budget is balanced). Re-compute the energy transport out of these new budgets. By noting that the total energy trasport must be the sum of the transport by the atmosphere and by the oceans, compute $ET_{Ocean}$. Plot all three transports ($ET_{Ocean}$, $ET_{Ocean}$, and $ET_{Ocean}$) on the same plot. Compare it to the plot by Fasullo and Trenberth (2008) that we analysed during the lecture.**\n",
    "\n",
    "*Hint: I also find quite large differences in the southern hemisphere ;-)*\n",
    "\n",
    "\n",
    "<img src=\"https://www.dropbox.com/s/2oym6udq1c7x0ns/fasullo_trenberth_2008.png?dl=1\" width=\"60%\"  align=\"left\">\n"
   ]
  },
  {
   "cell_type": "code",
   "execution_count": null,
   "metadata": {},
   "outputs": [],
   "source": [
    "# your answer here"
   ]
  },
  {
   "cell_type": "markdown",
   "metadata": {
    "collapsed": true
   },
   "source": [
    "## To go further"
   ]
  },
  {
   "cell_type": "markdown",
   "metadata": {},
   "source": [
    "If you are interested, I recommend to have a look at the various terms of the TOA and surface energy balance and see if you can understand mot of the patterns you observe. You can also plot their zonal average and analyse their respective importance according to latitude."
   ]
  },
  {
   "cell_type": "markdown",
   "metadata": {
    "collapsed": true
   },
   "source": [
    "## To go even further "
   ]
  },
  {
   "cell_type": "markdown",
   "metadata": {},
   "source": [
    "In the lecture, we decomposed the energy transport into the mean circulation, stationary eddies, and transient eddies:\n",
    "\n",
    "$$\\left[\\overline{vE}\\right] = \\left[\\overline{v}\\right]\\left[\\overline{E}\\right] + \\left[\\overline{v}^*\\overline{E}^*\\right]  + \\left[\\overline{v'E'}\\right]$$\n",
    "\n",
    "Discuss which of these terms we would be able to compute out of the time-averaged data we already used during the exercises, and the ones we couldn't without downloading the entire dataset."
   ]
  }
 ],
 "metadata": {
  "kernelspec": {
   "display_name": "Python 3",
   "language": "python",
   "name": "python3"
  },
  "language_info": {
   "codemirror_mode": {
    "name": "ipython",
    "version": 3
   },
   "file_extension": ".py",
   "mimetype": "text/x-python",
   "name": "python",
   "nbconvert_exporter": "python",
   "pygments_lexer": "ipython3",
   "version": "3.5.2"
  }
 },
 "nbformat": 4,
 "nbformat_minor": 1
}
