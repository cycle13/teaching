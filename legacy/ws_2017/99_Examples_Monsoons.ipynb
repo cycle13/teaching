{
 "cells": [
  {
   "cell_type": "markdown",
   "metadata": {},
   "source": [
    "# Monsoons - Overview"
   ]
  },
  {
   "cell_type": "code",
   "execution_count": null,
   "metadata": {},
   "outputs": [],
   "source": [
    "# Display the plots in the notebook:\n",
    "%matplotlib inline\n",
    "# Import the tools we are going to need today:\n",
    "import matplotlib.pyplot as plt  # plotting library\n",
    "import numpy as np  # numerical library\n",
    "import xarray as xr  # netCDF library\n",
    "import cartopy  # Map projections libary\n",
    "import cartopy.crs as ccrs  # Projections list\n",
    "# Some defaults:\n",
    "plt.rcParams['figure.figsize'] = (18, 4)  # Default plot size\n",
    "np.set_printoptions(threshold=20)  # avoid to print very large arrays on screen\n",
    "# The commands below are to ignore certain warnings.\n",
    "import warnings\n",
    "warnings.filterwarnings('ignore')"
   ]
  },
  {
   "cell_type": "markdown",
   "metadata": {},
   "source": [
    "### Data "
   ]
  },
  {
   "cell_type": "code",
   "execution_count": null,
   "metadata": {},
   "outputs": [],
   "source": [
    "lon_0, lon_1 = -100, 170  # regional box\n",
    "lat_0, lat_1 = 40, -40  # regional box\n",
    "# prcp\n",
    "ds = xr.open_dataset('./data/ERA-Int-Monthly-P.nc')\n",
    "prcp = ds.tp.load().groupby('time.month').mean(dim='time')\n",
    "prcp = prcp.sel(latitude=slice(lat_0, lat_1), longitude=slice(lon_0, lon_1))\n",
    "# invariant\n",
    "dsi = xr.open_dataset('./data/ERA-Int-Invariant.nc')\n",
    "z0 = dsi.z.copy().sel(latitude=slice(lat_0, lat_1), longitude=slice(lon_0, lon_1)) / 9.81\n",
    "# winds\n",
    "ds = xr.open_dataset('./data/ERA-Int-MonthlyAvg-4D-UVWZ.nc')\n",
    "u = ds.u.copy().sel(latitude=slice(lat_0, lat_1), longitude=slice(lon_0, lon_1))\n",
    "v = ds.v.copy().sel(latitude=slice(lat_0, lat_1), longitude=slice(lon_0, lon_1))\n",
    "z = ds.z.copy().sel(latitude=slice(lat_0, lat_1), longitude=slice(lon_0, lon_1)) / 9.81\n",
    "u = u.where(z > z0)  # cut off values below topography\n",
    "v = v.where(z > z0)"
   ]
  },
  {
   "cell_type": "markdown",
   "metadata": {},
   "source": [
    "## Precipitation Jan & Jul"
   ]
  },
  {
   "cell_type": "code",
   "execution_count": null,
   "metadata": {},
   "outputs": [],
   "source": [
    "ax = plt.axes(projection=ccrs.PlateCarree())\n",
    "prcp.sel(month=1).plot.contourf(ax=ax, transform=ccrs.PlateCarree(), cmap=plt.get_cmap('YlGnBu'), \n",
    "                                levels=np.arange(2, 21, 2), cbar_kwargs={'label':'mm d$^{-1}$'}) \n",
    "ax.coastlines();\n",
    "gl = ax.gridlines(crs=ccrs.PlateCarree(), draw_labels=True, linewidth=2, color='k', alpha=0.5, linestyle=':');\n",
    "gl.xlabels_top = False\n",
    "gl.ylabels_right = False\n",
    "plt.title('Average precipitation - January (ERA-I 1979-2014)');"
   ]
  },
  {
   "cell_type": "code",
   "execution_count": null,
   "metadata": {},
   "outputs": [],
   "source": [
    "ax = plt.axes(projection=ccrs.PlateCarree())\n",
    "prcp.sel(month=7).plot.contourf(ax=ax, transform=ccrs.PlateCarree(), cmap=plt.get_cmap('YlGnBu'), \n",
    "                                levels=np.arange(2, 21, 2), cbar_kwargs={'label':'mm d$^{-1}$'}) \n",
    "ax.coastlines();\n",
    "gl = ax.gridlines(crs=ccrs.PlateCarree(), draw_labels=True, linewidth=2, color='k', alpha=0.5, linestyle=':');\n",
    "gl.xlabels_top = False\n",
    "gl.ylabels_right = False\n",
    "plt.title('Average precipitation - July (ERA-I 1979-2014)');"
   ]
  },
  {
   "cell_type": "markdown",
   "metadata": {},
   "source": [
    "## 900hPa winds Jan & Jul"
   ]
  },
  {
   "cell_type": "code",
   "execution_count": null,
   "metadata": {},
   "outputs": [],
   "source": [
    "ax = plt.axes(projection=ccrs.PlateCarree())\n",
    "pu, pv = u.sel(month=1, level=900)[::5,::5], v.sel(month=1, level=900)[::5,::5]\n",
    "qv = ax.quiver(pu.longitude, pu.latitude, pu, pv, transform=ccrs.PlateCarree(), width=0.0015)\n",
    "ax.coastlines();\n",
    "gl = ax.gridlines(crs=ccrs.PlateCarree(), draw_labels=True, linewidth=2, color='k', alpha=0.5, linestyle=':');\n",
    "gl.xlabels_top = False\n",
    "gl.ylabels_right = False\n",
    "plt.title('Average 900 hPa winds - January (ERA-I 1979-2014)');"
   ]
  },
  {
   "cell_type": "code",
   "execution_count": null,
   "metadata": {},
   "outputs": [],
   "source": [
    "ax = plt.axes(projection=ccrs.PlateCarree())\n",
    "pu, pv = u.sel(month=7, level=900)[::5,::5], v.sel(month=7, level=900)[::5,::5]\n",
    "qv = ax.quiver(pu.longitude, pu.latitude, pu, pv, transform=ccrs.PlateCarree(), width=0.0015)\n",
    "ax.coastlines();\n",
    "gl = ax.gridlines(crs=ccrs.PlateCarree(), draw_labels=True, linewidth=2, color='k', alpha=0.5, linestyle=':');\n",
    "gl.xlabels_top = False\n",
    "gl.ylabels_right = False\n",
    "plt.title('Average 900 hPa winds - July (ERA-I 1979-2014)');"
   ]
  },
  {
   "cell_type": "markdown",
   "metadata": {},
   "source": [
    "## 200hPa winds Jan and Jul "
   ]
  },
  {
   "cell_type": "code",
   "execution_count": null,
   "metadata": {},
   "outputs": [],
   "source": [
    "ax = plt.axes(projection=ccrs.PlateCarree())\n",
    "pz = z.sel(month=1, level=200)\n",
    "pz.plot(ax=ax, transform=ccrs.PlateCarree(), cbar_kwargs={'label':'geopH (m)'}) \n",
    "pu, pv = u.sel(month=1, level=200)[::5,::5], v.sel(month=1, level=200)[::5,::5]\n",
    "qv = ax.quiver(pu.longitude, pu.latitude, pu, pv, transform=ccrs.PlateCarree(), width=0.0015)\n",
    "ax.coastlines();\n",
    "gl = ax.gridlines(crs=ccrs.PlateCarree(), draw_labels=True, linewidth=2, color='k', alpha=0.5, linestyle=':');\n",
    "gl.xlabels_top = False\n",
    "gl.ylabels_right = False\n",
    "plt.title('200 hPa geopotential and winds - January (ERA-I 1979-2014)');"
   ]
  },
  {
   "cell_type": "code",
   "execution_count": null,
   "metadata": {},
   "outputs": [],
   "source": [
    "ax = plt.axes(projection=ccrs.PlateCarree())\n",
    "pz = z.sel(month=7, level=200)\n",
    "pz.plot(ax=ax, transform=ccrs.PlateCarree(), cbar_kwargs={'label':'geopH (m)'}) \n",
    "pu, pv = u.sel(month=7, level=200)[::5,::5], v.sel(month=7, level=200)[::5,::5]\n",
    "qv = ax.quiver(pu.longitude, pu.latitude, pu, pv, transform=ccrs.PlateCarree(), width=0.0015)\n",
    "ax.coastlines();\n",
    "gl = ax.gridlines(crs=ccrs.PlateCarree(), draw_labels=True, linewidth=2, color='k', alpha=0.5, linestyle=':');\n",
    "gl.xlabels_top = False\n",
    "gl.ylabels_right = False\n",
    "plt.title('200 hPa geopotential and winds - July (ERA-I 1979-2014)');"
   ]
  },
  {
   "cell_type": "markdown",
   "metadata": {},
   "source": [
    "## Monsoon or monsoons? Examples in India and West-Africa"
   ]
  },
  {
   "cell_type": "markdown",
   "metadata": {
    "collapsed": true
   },
   "source": [
    "## India "
   ]
  },
  {
   "cell_type": "code",
   "execution_count": null,
   "metadata": {},
   "outputs": [],
   "source": [
    "lon_0, lon_1 = 30, 100\n",
    "lat_0, lat_1 = 40, -15\n",
    "# prcp\n",
    "netcdf = xr.open_dataset('./data/ERA-Int-Monthly-P.nc')\n",
    "prcp = netcdf.tp.copy().groupby('time.month').mean(dim='time')\n",
    "prcp = prcp.sel(latitude=slice(lat_0, lat_1), longitude=slice(lon_0, lon_1)) * 1000.\n",
    "prcp.name = 'mm month-1'\n",
    "# invariant\n",
    "netcdf = xr.open_dataset('./data/ERA-Int-Invariant.nc')\n",
    "z0 = netcdf.z.copy().sel(latitude=slice(lat_0, lat_1), longitude=slice(lon_0, lon_1)) / 9.81\n",
    "# winds\n",
    "netcdf = xr.open_dataset('./data/ERA-Int-MonthlyAvg-4D-UVWZ.nc')\n",
    "u = netcdf.u.copy().sel(latitude=slice(lat_0, lat_1), longitude=slice(lon_0, lon_1))\n",
    "v = netcdf.v.copy().sel(latitude=slice(lat_0, lat_1), longitude=slice(lon_0, lon_1))\n",
    "z = netcdf.z.copy().sel(latitude=slice(lat_0, lat_1), longitude=slice(lon_0, lon_1)) / 9.81\n",
    "u = u.where(z > z0)\n",
    "v = v.where(z > z0)"
   ]
  },
  {
   "cell_type": "code",
   "execution_count": null,
   "metadata": {},
   "outputs": [],
   "source": [
    "zl = 800\n",
    "plt.figure(figsize=(12, 7))\n",
    "ax = plt.axes(projection=ccrs.PlateCarree())\n",
    "z0.plot(ax=ax, transform=ccrs.PlateCarree(), \n",
    "        vmin=0, vmax=4800, cmap=plt.get_cmap('YlOrBr')) \n",
    "pu, pv = u.sel(month=7, level=zl)[::3,::3], v.sel(month=7, level=zl)[::3,::3]\n",
    "qv = ax.quiver(pu.longitude, pu.latitude, pu, pv, transform=ccrs.PlateCarree())\n",
    "ax.coastlines();\n",
    "gl = ax.gridlines(crs=ccrs.PlateCarree(), draw_labels=True, linewidth=2, color='k', alpha=0.5, linestyle=':');\n",
    "gl.xlabels_top = False\n",
    "gl.ylabels_right = False\n",
    "plt.title('{} hPa winds July and topography'.format(zl));"
   ]
  },
  {
   "cell_type": "markdown",
   "metadata": {},
   "source": [
    "We are now going to plot a cross-section of the winds at the equator and between the longitudes 30° and 75°:"
   ]
  },
  {
   "cell_type": "code",
   "execution_count": null,
   "metadata": {},
   "outputs": [],
   "source": [
    "# Wind speed\n",
    "ws = (v.sel(latitude=0, month=7, longitude=slice(30, 75))**2 + \n",
    "          u.sel(latitude=0, month=7, longitude=slice(30, 75))**2)**0.5\n",
    "f, ax = plt.subplots(1, figsize=(9, 6))\n",
    "plt.gca().patch.set_color('.25')\n",
    "ws.plot.contourf(ax=ax, levels=np.linspace(2, 15, 14), cmap=plt.get_cmap('RdPu'), cbar_kwargs={'label':'m s$^{-1}$'});\n",
    "plt.ylim([1000, 500])\n",
    "plt.ylabel('Pressure (hPa)');\n",
    "plt.title('Wind speed along the equator July');"
   ]
  },
  {
   "cell_type": "code",
   "execution_count": null,
   "metadata": {},
   "outputs": [],
   "source": []
  }
 ],
 "metadata": {
  "kernelspec": {
   "display_name": "Python 3",
   "language": "python",
   "name": "python3"
  },
  "language_info": {
   "codemirror_mode": {
    "name": "ipython",
    "version": 3
   },
   "file_extension": ".py",
   "mimetype": "text/x-python",
   "name": "python",
   "nbconvert_exporter": "python",
   "pygments_lexer": "ipython3",
   "version": "3.5.2"
  }
 },
 "nbformat": 4,
 "nbformat_minor": 1
}
