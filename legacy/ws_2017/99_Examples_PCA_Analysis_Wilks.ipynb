{
 "cells": [
  {
   "cell_type": "markdown",
   "metadata": {},
   "source": [
    "# Principle Component Analysis - an example in 2  dimensions"
   ]
  },
  {
   "cell_type": "markdown",
   "metadata": {},
   "source": [
    "This example is provided in the excellent book by Daniel S. Wilks, \"Statistical Methods in the Atmospheric Sciences\", Academic Press."
   ]
  },
  {
   "cell_type": "code",
   "execution_count": null,
   "metadata": {},
   "outputs": [],
   "source": [
    "# Define the tools we are going to need today\n",
    "%matplotlib inline\n",
    "import matplotlib.pyplot as plt  # plotting library\n",
    "import numpy as np  # numerical library\n",
    "from matplotlib.mlab import PCA\n",
    "import pandas as pd\n",
    "import seaborn as sns\n",
    "sns.set_context('talk')\n",
    "sns.set_style('ticks')\n",
    "pd.options.display.float_format = '{:.2f}'.format\n",
    "plt.rcParams['figure.figsize'] = (12, 5)  # Default plot size"
   ]
  },
  {
   "cell_type": "markdown",
   "metadata": {
    "collapsed": true
   },
   "source": [
    "## Data "
   ]
  },
  {
   "cell_type": "code",
   "execution_count": null,
   "metadata": {},
   "outputs": [],
   "source": [
    "# This just reads the data from an url\n",
    "import io, requests\n",
    "url = 'https://www.dropbox.com/s/h5ldd6gvx5ub808/wilks_data.csv?dl=1'\n",
    "s = requests.get(url).content\n",
    "df = pd.read_csv(io.StringIO(s.decode('utf-8')), index_col=0)"
   ]
  },
  {
   "cell_type": "markdown",
   "metadata": {
    "collapsed": true
   },
   "source": [
    "These are the daily minimum temperatures at two locations close to New York. They are in Fahrenheit so we convert them:"
   ]
  },
  {
   "cell_type": "code",
   "execution_count": null,
   "metadata": {},
   "outputs": [],
   "source": [
    "df = df[['Ithaca Min Temp', 'Canandaigua Min Temp']]\n",
    "df = (df - 32) / 1.8"
   ]
  },
  {
   "cell_type": "code",
   "execution_count": null,
   "metadata": {},
   "outputs": [],
   "source": [
    "df.plot();\n",
    "plt.ylabel('Min Temp °C');"
   ]
  },
  {
   "cell_type": "markdown",
   "metadata": {},
   "source": [
    "## Center and plot "
   ]
  },
  {
   "cell_type": "code",
   "execution_count": null,
   "metadata": {},
   "outputs": [],
   "source": [
    "df = df - df.mean()"
   ]
  },
  {
   "cell_type": "code",
   "execution_count": null,
   "metadata": {},
   "outputs": [],
   "source": [
    "f, ax = plt.subplots(1, figsize=(8, 8))\n",
    "df.plot(ax=ax, kind='scatter', x='Ithaca Min Temp', y='Canandaigua Min Temp', s=50);\n",
    "ax.set_xlim([-15, 15])\n",
    "ax.set_ylim([-15, 15]);"
   ]
  },
  {
   "cell_type": "markdown",
   "metadata": {},
   "source": [
    "We see that the standard deviation is higher for Ithaca than Canandaigua, but the two correlate well:"
   ]
  },
  {
   "cell_type": "code",
   "execution_count": null,
   "metadata": {},
   "outputs": [],
   "source": [
    "df.std()"
   ]
  },
  {
   "cell_type": "code",
   "execution_count": null,
   "metadata": {},
   "outputs": [],
   "source": [
    "df.corr()"
   ]
  },
  {
   "cell_type": "markdown",
   "metadata": {},
   "source": [
    "## Principle components analysis: eigenvectors, or \"EOF\""
   ]
  },
  {
   "cell_type": "markdown",
   "metadata": {},
   "source": [
    "This will do the computations for us:"
   ]
  },
  {
   "cell_type": "code",
   "execution_count": null,
   "metadata": {},
   "outputs": [],
   "source": [
    "pc = PCA(df.values, standardize=False)"
   ]
  },
  {
   "cell_type": "markdown",
   "metadata": {},
   "source": [
    "The two eigenvectors e1 and e2 are found in the Wt attribute:"
   ]
  },
  {
   "cell_type": "code",
   "execution_count": null,
   "metadata": {},
   "outputs": [],
   "source": [
    "print('e1', pc.Wt[0])\n",
    "print('e2', pc.Wt[1])"
   ]
  },
  {
   "cell_type": "code",
   "execution_count": null,
   "metadata": {},
   "outputs": [],
   "source": [
    "f, ax = plt.subplots(1, figsize=(8, 8))\n",
    "df.plot(ax=ax, kind='scatter', x='Ithaca Min Temp', y='Canandaigua Min Temp', s=50);\n",
    "ax.set_xlim([-15, 15])\n",
    "ax.set_ylim([-15, 15]);\n",
    "# Plot the exagerated eigenvectors:\n",
    "fac = 14.\n",
    "ax.arrow(0, 0, -pc.Wt[0][0]*fac, -pc.Wt[0][1]*fac, head_width=0.5, head_length=0.8)\n",
    "ax.arrow(0, 0, pc.Wt[1][0]*fac, pc.Wt[1][1]*fac, head_width=0.5, head_length=0.8);"
   ]
  },
  {
   "cell_type": "markdown",
   "metadata": {},
   "source": [
    "## Principle components"
   ]
  },
  {
   "cell_type": "markdown",
   "metadata": {},
   "source": [
    "The two principle components time series can be retrieved too:"
   ]
  },
  {
   "cell_type": "code",
   "execution_count": null,
   "metadata": {},
   "outputs": [],
   "source": [
    "df['pc1'] = pc.Y[:, 0]\n",
    "df['pc2'] = pc.Y[:, 1]"
   ]
  },
  {
   "cell_type": "code",
   "execution_count": null,
   "metadata": {},
   "outputs": [],
   "source": [
    "df.corr()**2"
   ]
  },
  {
   "cell_type": "code",
   "execution_count": null,
   "metadata": {},
   "outputs": [],
   "source": [
    "df[['pc1', 'pc2']].plot();"
   ]
  },
  {
   "cell_type": "markdown",
   "metadata": {},
   "source": [
    "## Display the principle components in the original phase space "
   ]
  },
  {
   "cell_type": "code",
   "execution_count": null,
   "metadata": {},
   "outputs": [],
   "source": [
    "pcx1, pcy1 = pc.Wt[0].reshape((2, 1)).dot(pc.Y[:, 0].reshape((1,31)))\n",
    "pcx2, pcy2 = pc.Wt[1].reshape((2, 1)).dot(pc.Y[:, 1].reshape((1,31)))"
   ]
  },
  {
   "cell_type": "code",
   "execution_count": null,
   "metadata": {},
   "outputs": [],
   "source": [
    "f, ax = plt.subplots(1, figsize=(8, 8))\n",
    "df.plot(ax=ax, kind='scatter', x='Ithaca Min Temp', y='Canandaigua Min Temp', s=50);\n",
    "ax.set_xlim([-15, 15])\n",
    "ax.set_ylim([-15, 15]);\n",
    "# Plot the exagerated eigenvectors:\n",
    "fac = 14.\n",
    "ax.arrow(0, 0, -pc.Wt[0][0]*fac, -pc.Wt[0][1]*fac, head_width=0.5, head_length=0.8)\n",
    "ax.arrow(0, 0, pc.Wt[1][0]*fac, pc.Wt[1][1]*fac, head_width=0.5, head_length=0.8);\n",
    "# The principle components\n",
    "ax.scatter(pcx1, pcy1, c='C3', s=50)\n",
    "ax.scatter(pcx2, pcy2, c='C2', s=50);"
   ]
  },
  {
   "cell_type": "code",
   "execution_count": null,
   "metadata": {},
   "outputs": [],
   "source": []
  }
 ],
 "metadata": {
  "kernelspec": {
   "display_name": "Python 3",
   "language": "python",
   "name": "python3"
  },
  "language_info": {
   "codemirror_mode": {
    "name": "ipython",
    "version": 3
   },
   "file_extension": ".py",
   "mimetype": "text/x-python",
   "name": "python",
   "nbconvert_exporter": "python",
   "pygments_lexer": "ipython3",
   "version": "3.5.2"
  }
 },
 "nbformat": 4,
 "nbformat_minor": 1
}
