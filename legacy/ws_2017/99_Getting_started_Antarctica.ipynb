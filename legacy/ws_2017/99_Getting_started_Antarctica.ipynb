{
 "cells": [
  {
   "cell_type": "markdown",
   "metadata": {},
   "source": [
    "# Getting started with the Antarctica region"
   ]
  },
  {
   "cell_type": "markdown",
   "metadata": {},
   "source": [
    "Antarctica has the bad idea to be located at the South Pole, which makes the mapping of this region a bit different than what we've learned so far. However, as you will see, it's not very difficult and the change is minimal.\n",
    "\n",
    "First, the imports. They are the same as always, but I removed the figure size defaults:"
   ]
  },
  {
   "cell_type": "code",
   "execution_count": null,
   "metadata": {},
   "outputs": [],
   "source": [
    "# Display the plots in the notebook:\n",
    "%matplotlib inline\n",
    "# Import the tools we are going to need today:\n",
    "import matplotlib.pyplot as plt  # plotting library\n",
    "import numpy as np  # numerical library\n",
    "import xarray as xr  # netCDF library\n",
    "import cartopy  # Map projections libary\n",
    "import cartopy.crs as ccrs  # Projections list\n",
    "# Some defaults:\n",
    "np.set_printoptions(threshold=20)  # avoid to print very large arrays on screen\n",
    "# The commands below are to ignore certain warnings.\n",
    "import warnings\n",
    "warnings.filterwarnings('ignore', message='to_mask')"
   ]
  },
  {
   "cell_type": "code",
   "execution_count": null,
   "metadata": {},
   "outputs": [],
   "source": [
    "?warnings.filterwarnings"
   ]
  },
  {
   "cell_type": "markdown",
   "metadata": {},
   "source": [
    "### Read and select the regional data"
   ]
  },
  {
   "cell_type": "markdown",
   "metadata": {},
   "source": [
    "Reading the data works as allways:"
   ]
  },
  {
   "cell_type": "code",
   "execution_count": null,
   "metadata": {},
   "outputs": [],
   "source": [
    "ds = xr.open_dataset('data/ERA-Int-Invariant.nc')"
   ]
  },
  {
   "cell_type": "markdown",
   "metadata": {},
   "source": [
    "To select the data for a specific region, we will use xray's ``sel`` function as we learned it in the exercises. For now, we will select the data below 60° south, but you are free to make the domain bigger if you find it useful for your analyses:"
   ]
  },
  {
   "cell_type": "code",
   "execution_count": null,
   "metadata": {},
   "outputs": [],
   "source": [
    "ds = ds.sel(latitude=slice(-60, -90))"
   ]
  },
  {
   "cell_type": "markdown",
   "metadata": {},
   "source": [
    "Read the variable:"
   ]
  },
  {
   "cell_type": "code",
   "execution_count": null,
   "metadata": {},
   "outputs": [],
   "source": [
    "z = ds.z / 9.81"
   ]
  },
  {
   "cell_type": "markdown",
   "metadata": {},
   "source": [
    "### Plot the data"
   ]
  },
  {
   "cell_type": "markdown",
   "metadata": {},
   "source": [
    "Until now, nothing special in comparison to other regions of the world. It's for the *plotting* that things become a bit more complicated. Let's do it the \"usual\" way:"
   ]
  },
  {
   "cell_type": "code",
   "execution_count": null,
   "metadata": {},
   "outputs": [],
   "source": [
    "# Try a regional plot as usual\n",
    "ax = plt.axes(projection=ccrs.PlateCarree())\n",
    "z.plot(ax=ax, transform=ccrs.PlateCarree(), vmin=0, cmap='terrain') \n",
    "ax.coastlines();  # Add coastlines to the plot"
   ]
  },
  {
   "cell_type": "markdown",
   "metadata": {},
   "source": [
    "OK. Not very useful. We will now use a better projection:"
   ]
  },
  {
   "cell_type": "code",
   "execution_count": null,
   "metadata": {},
   "outputs": [],
   "source": [
    "# The new projection:\n",
    "ax = plt.axes(projection=ccrs.SouthPolarStereo())\n",
    "# Limit the map to -60 degrees latitude and below:\n",
    "ax.set_extent([-180, 180, -90, -60], ccrs.PlateCarree())\n",
    "# Plot the data as usual\n",
    "z.plot(ax=ax, transform=ccrs.PlateCarree(), vmin=0, cmap='terrain') \n",
    "# Add details to the plot:\n",
    "ax.coastlines();\n",
    "ax.gridlines();"
   ]
  },
  {
   "cell_type": "markdown",
   "metadata": {},
   "source": [
    "Looks better now!"
   ]
  },
  {
   "cell_type": "markdown",
   "metadata": {},
   "source": [
    "### Change some details "
   ]
  },
  {
   "cell_type": "markdown",
   "metadata": {},
   "source": [
    "The plot above looks fine for me. If you want you can change some details for it, starting with its size:"
   ]
  },
  {
   "cell_type": "code",
   "execution_count": null,
   "metadata": {},
   "outputs": [],
   "source": [
    "# Prepare the figure with the wanted size:\n",
    "fig = plt.figure(figsize=(9, 7))\n",
    "# The rest doesn't change:\n",
    "ax = plt.axes(projection=ccrs.SouthPolarStereo())\n",
    "ax.set_extent([-180, 180, -90, -60], ccrs.PlateCarree())\n",
    "z.plot(ax=ax, transform=ccrs.PlateCarree(), vmin=0, cmap='terrain') \n",
    "ax.coastlines();\n",
    "ax.gridlines();"
   ]
  },
  {
   "cell_type": "markdown",
   "metadata": {},
   "source": [
    "If you want, you can also make a circular plot instead of the quadratic one. First, you'll have to run these few lines (only once for the notebook!):"
   ]
  },
  {
   "cell_type": "code",
   "execution_count": null,
   "metadata": {},
   "outputs": [],
   "source": [
    "import matplotlib.path as mpath\n",
    "theta = np.linspace(0, 2*np.pi, 100)\n",
    "map_circle = mpath.Path(np.vstack([np.sin(theta), np.cos(theta)]).T * 0.5 + [0.5, 0.5])"
   ]
  },
  {
   "cell_type": "markdown",
   "metadata": {},
   "source": [
    "And then add one line to the plot commands:"
   ]
  },
  {
   "cell_type": "code",
   "execution_count": null,
   "metadata": {},
   "outputs": [],
   "source": [
    "# This did not change:\n",
    "fig = plt.figure(figsize=(9, 7))\n",
    "ax = plt.axes(projection=ccrs.SouthPolarStereo())\n",
    "ax.set_extent([-180, 180, -90, -60], ccrs.PlateCarree())\n",
    "# Add the following line:\n",
    "ax.set_boundary(map_circle, transform=ax.transAxes)\n",
    "# This did not change either:\n",
    "z.plot(ax=ax, transform=ccrs.PlateCarree(), vmin=0, cmap='terrain') \n",
    "ax.coastlines();\n",
    "ax.gridlines();"
   ]
  },
  {
   "cell_type": "markdown",
   "metadata": {},
   "source": [
    "**OK, you should be good now!**"
   ]
  },
  {
   "cell_type": "markdown",
   "metadata": {},
   "source": [
    "### Tired of writing so many lines?"
   ]
  },
  {
   "cell_type": "markdown",
   "metadata": {},
   "source": [
    "Note that it is possible to simplify your plotting commands by writing a **function**. We did not cover this during the course but it is quite easy. Let's write the following function:"
   ]
  },
  {
   "cell_type": "code",
   "execution_count": null,
   "metadata": {},
   "outputs": [],
   "source": [
    "def prepare_plot():\n",
    "    \"\"\"This function returns prepared axes for the polar plot.\n",
    "    \n",
    "    Usage:\n",
    "        fig, ax = prepare_plot()\n",
    "    \"\"\"\n",
    "    fig = plt.figure(figsize=(9, 7))\n",
    "    ax = plt.axes(projection=ccrs.SouthPolarStereo())\n",
    "    ax.set_extent([-180, 180, -90, -60], ccrs.PlateCarree())\n",
    "    ax.set_boundary(map_circle, transform=ax.transAxes)\n",
    "    ax.coastlines(); ax.gridlines();\n",
    "    return fig, ax"
   ]
  },
  {
   "cell_type": "markdown",
   "metadata": {},
   "source": [
    "Now, making a plot has become even easier:"
   ]
  },
  {
   "cell_type": "code",
   "execution_count": null,
   "metadata": {},
   "outputs": [],
   "source": [
    "fig, ax = prepare_plot()\n",
    "z.plot(ax=ax, transform=ccrs.PlateCarree(), vmin=0, cmap='terrain');"
   ]
  },
  {
   "cell_type": "markdown",
   "metadata": {},
   "source": [
    "### Need to save the plot for your presentation?"
   ]
  },
  {
   "cell_type": "markdown",
   "metadata": {
    "collapsed": true
   },
   "source": [
    "**The easiest way is to use \"right-click -> save as\" on the image in the notebook.**\n",
    "\n",
    "Also, you can save the plot as pdf or png quite easily (examples below). But this might look quite different as the picture on screen sometimes..."
   ]
  },
  {
   "cell_type": "code",
   "execution_count": null,
   "metadata": {},
   "outputs": [],
   "source": [
    "fig, ax = prepare_plot()\n",
    "z.plot(ax=ax, transform=ccrs.PlateCarree(), vmin=0, cmap='terrain');\n",
    "plt.savefig('topo.pdf')"
   ]
  },
  {
   "cell_type": "code",
   "execution_count": null,
   "metadata": {},
   "outputs": [],
   "source": [
    "fig, ax = prepare_plot()\n",
    "z.plot(ax=ax, transform=ccrs.PlateCarree(), vmin=0, cmap='terrain');\n",
    "plt.savefig('topo.png')"
   ]
  },
  {
   "cell_type": "code",
   "execution_count": null,
   "metadata": {},
   "outputs": [],
   "source": []
  }
 ],
 "metadata": {
  "kernelspec": {
   "display_name": "Python 3",
   "language": "python",
   "name": "python3"
  },
  "language_info": {
   "codemirror_mode": {
    "name": "ipython",
    "version": 3
   },
   "file_extension": ".py",
   "mimetype": "text/x-python",
   "name": "python",
   "nbconvert_exporter": "python",
   "pygments_lexer": "ipython3",
   "version": "3.5.2"
  }
 },
 "nbformat": 4,
 "nbformat_minor": 1
}
