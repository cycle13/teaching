{
 "cells": [
  {
   "cell_type": "markdown",
   "metadata": {
    "deletable": true,
    "editable": true,
    "slideshow": {
     "slide_type": "slide"
    }
   },
   "source": [
    "\n",
    "# Getting started with Python\n",
    "\n",
    "\n",
    "**ACINN workshop**\n",
    "\n",
    "*Tue 31.01.2017*\n",
    "\n",
    "Fabien Maussion\n",
    "\n",
    "<img src=\"./figures/acinn_logo_large.png\" width=\"26%\"  align=\"center\">\n",
    "\n",
    "Slides: <a href=\"http://fabienmaussion.info/acinn_python_workshop\">http://fabienmaussion.info/acinn_python_workshop</a>"
   ]
  },
  {
   "cell_type": "code",
   "execution_count": null,
   "metadata": {
    "deletable": true,
    "editable": true,
    "slideshow": {
     "slide_type": "skip"
    }
   },
   "outputs": [],
   "source": [
    "import numpy as np\n",
    "import matplotlib.pyplot as plt\n",
    "%matplotlib inline"
   ]
  },
  {
   "cell_type": "markdown",
   "metadata": {
    "deletable": true,
    "editable": true,
    "slideshow": {
     "slide_type": "slide"
    }
   },
   "source": [
    "# Outline\n",
    "\n",
    "1. Why this workshop?\n",
    "2. Switching to python: benefits, drawbacks and pitfalls\n",
    "3. Getting started\n",
    "  * Major differences with other languages\n",
    "  * The scientific python ecosystem\n",
    "  * Installing Python\n",
    "  * Integrated development environment\n",
    "4. If interest:\n",
    "  * discover Python with the Notebook \n",
    "  * install party!"
   ]
  },
  {
   "cell_type": "markdown",
   "metadata": {
    "deletable": true,
    "editable": true,
    "slideshow": {
     "slide_type": "slide"
    }
   },
   "source": [
    "# Why this workshop?"
   ]
  },
  {
   "cell_type": "markdown",
   "metadata": {
    "deletable": true,
    "editable": true,
    "slideshow": {
     "slide_type": "fragment"
    }
   },
   "source": [
    "- Helping beginners or long-time matlab/R users to make the first steps towards python"
   ]
  },
  {
   "cell_type": "markdown",
   "metadata": {
    "deletable": true,
    "editable": true,
    "slideshow": {
     "slide_type": "-"
    }
   },
   "source": [
    "- There are plenty of good Python tutorials online, but some information is outdated and confusing: this is less a problem for the syntax (which doesn't change) than for the python installation (which has greatly improved in the last months/years)"
   ]
  },
  {
   "cell_type": "markdown",
   "metadata": {
    "deletable": true,
    "editable": true,
    "slideshow": {
     "slide_type": "fragment"
    }
   },
   "source": [
    "- Synergy effects: shared tools and methods ⇨ more efficient research"
   ]
  },
  {
   "cell_type": "markdown",
   "metadata": {
    "deletable": true,
    "editable": true,
    "slideshow": {
     "slide_type": "subslide"
    }
   },
   "source": [
    "# What is this workshop not supposed to be?"
   ]
  },
  {
   "cell_type": "markdown",
   "metadata": {
    "deletable": true,
    "editable": true,
    "slideshow": {
     "slide_type": "fragment"
    }
   },
   "source": [
    "- a course about the Python syntax"
   ]
  },
  {
   "cell_type": "markdown",
   "metadata": {
    "deletable": true,
    "editable": true,
    "slideshow": {
     "slide_type": "fragment"
    }
   },
   "source": [
    "- Matlab/IDL/R bashing"
   ]
  },
  {
   "cell_type": "markdown",
   "metadata": {
    "deletable": true,
    "editable": true,
    "slideshow": {
     "slide_type": "fragment"
    }
   },
   "source": [
    "- a monologue"
   ]
  },
  {
   "cell_type": "markdown",
   "metadata": {
    "deletable": true,
    "editable": true,
    "slideshow": {
     "slide_type": "slide"
    }
   },
   "source": [
    "# Switching to python: benefits "
   ]
  },
  {
   "cell_type": "markdown",
   "metadata": {
    "deletable": true,
    "editable": true,
    "slideshow": {
     "slide_type": "fragment"
    }
   },
   "source": [
    "- *free* and **open-source**"
   ]
  },
  {
   "cell_type": "markdown",
   "metadata": {
    "deletable": true,
    "editable": true,
    "slideshow": {
     "slide_type": "fragment"
    }
   },
   "source": [
    "- powerful, all-purpose language with a great syntax"
   ]
  },
  {
   "cell_type": "markdown",
   "metadata": {
    "deletable": true,
    "editable": true,
    "slideshow": {
     "slide_type": "fragment"
    }
   },
   "source": [
    "- **scientific ecosystem and large user base** (including ACINN)"
   ]
  },
  {
   "cell_type": "markdown",
   "metadata": {
    "deletable": true,
    "editable": true,
    "slideshow": {
     "slide_type": "fragment"
    }
   },
   "source": [
    "- \"low-risk investment\": python is going to stay around for a while"
   ]
  },
  {
   "cell_type": "markdown",
   "metadata": {
    "deletable": true,
    "editable": true,
    "slideshow": {
     "slide_type": "fragment"
    }
   },
   "source": [
    "- Open-source (including Python) is the **future of scientific research** (keyword: open science)"
   ]
  },
  {
   "cell_type": "markdown",
   "metadata": {
    "deletable": true,
    "editable": true,
    "slideshow": {
     "slide_type": "subslide"
    }
   },
   "source": [
    "# Switching to python: drawbacks "
   ]
  },
  {
   "cell_type": "markdown",
   "metadata": {
    "deletable": true,
    "editable": true,
    "slideshow": {
     "slide_type": "fragment"
    }
   },
   "source": [
    "- learning curve can be steep when coming from IDL/Matlab"
   ]
  },
  {
   "cell_type": "markdown",
   "metadata": {
    "deletable": true,
    "editable": true,
    "slideshow": {
     "slide_type": "fragment"
    }
   },
   "source": [
    "- your existing tools will be difficult to translate"
   ]
  },
  {
   "cell_type": "markdown",
   "metadata": {
    "deletable": true,
    "editable": true,
    "slideshow": {
     "slide_type": "fragment"
    }
   },
   "source": [
    "- many (many) tools & packages of variable quality: not easy to know which to use "
   ]
  },
  {
   "cell_type": "markdown",
   "metadata": {
    "deletable": true,
    "editable": true,
    "slideshow": {
     "slide_type": "fragment"
    }
   },
   "source": [
    "- not always consitent: doc for packages spread on various websites, learning without internet almost impossible"
   ]
  },
  {
   "cell_type": "markdown",
   "metadata": {
    "deletable": true,
    "editable": true,
    "slideshow": {
     "slide_type": "subslide"
    }
   },
   "source": [
    "# The three stages of the transition\n",
    "\n",
    "<img src=\"./figures/xkcd_learning_curve_wa.png\" width=\"100%\"  align=\"center\">"
   ]
  },
  {
   "cell_type": "markdown",
   "metadata": {
    "deletable": true,
    "editable": true,
    "slideshow": {
     "slide_type": "subslide"
    }
   },
   "source": [
    "# Avoiding pitfalls "
   ]
  },
  {
   "cell_type": "markdown",
   "metadata": {
    "deletable": true,
    "editable": true,
    "slideshow": {
     "slide_type": "fragment"
    }
   },
   "source": [
    "- Be patient: do not expect to be productive on the first day (and not on the first week either)"
   ]
  },
  {
   "cell_type": "markdown",
   "metadata": {
    "deletable": true,
    "editable": true,
    "slideshow": {
     "slide_type": "fragment"
    }
   },
   "source": [
    "- **DO NOT** translate your existing code: pick a new project instead (i.e. for a new dataset you are analysing, a new paper you are writing)"
   ]
  },
  {
   "cell_type": "markdown",
   "metadata": {
    "deletable": true,
    "editable": true,
    "slideshow": {
     "slide_type": "fragment"
    }
   },
   "source": [
    "- Get some help when frustration kicks in"
   ]
  },
  {
   "cell_type": "markdown",
   "metadata": {
    "deletable": true,
    "editable": true,
    "slideshow": {
     "slide_type": "fragment"
    }
   },
   "source": [
    "- Python is no golden egg: a transition must be planned and might not always be the best move for your project/career/etc."
   ]
  },
  {
   "cell_type": "markdown",
   "metadata": {
    "deletable": true,
    "editable": true,
    "slideshow": {
     "slide_type": "slide"
    }
   },
   "source": [
    "# Major differences with other languages "
   ]
  },
  {
   "cell_type": "markdown",
   "metadata": {
    "deletable": true,
    "editable": true,
    "slideshow": {
     "slide_type": "fragment"
    }
   },
   "source": [
    "- Syntax (of course)"
   ]
  },
  {
   "cell_type": "markdown",
   "metadata": {
    "deletable": true,
    "editable": true,
    "slideshow": {
     "slide_type": "fragment"
    }
   },
   "source": [
    "- The ``import`` mechanism "
   ]
  },
  {
   "cell_type": "markdown",
   "metadata": {
    "deletable": true,
    "editable": true,
    "slideshow": {
     "slide_type": "fragment"
    }
   },
   "source": [
    "- No \"all-in-one\" development environment like Matlab"
   ]
  },
  {
   "cell_type": "markdown",
   "metadata": {
    "deletable": true,
    "editable": true,
    "slideshow": {
     "slide_type": "fragment"
    }
   },
   "source": [
    "- Out of the box, Python is no good for science"
   ]
  },
  {
   "cell_type": "code",
   "execution_count": null,
   "metadata": {
    "deletable": true,
    "editable": true,
    "slideshow": {
     "slide_type": "subslide"
    }
   },
   "outputs": [],
   "source": [
    "a = [1, 2, 3]\n",
    "a + a"
   ]
  },
  {
   "cell_type": "code",
   "execution_count": null,
   "metadata": {
    "deletable": true,
    "editable": true,
    "slideshow": {
     "slide_type": "-"
    }
   },
   "outputs": [],
   "source": [
    "a * 4"
   ]
  },
  {
   "cell_type": "markdown",
   "metadata": {
    "deletable": true,
    "editable": true,
    "slideshow": {
     "slide_type": "slide"
    }
   },
   "source": [
    "# The scientific python ecosystem"
   ]
  },
  {
   "cell_type": "markdown",
   "metadata": {
    "deletable": true,
    "editable": true,
    "slideshow": {
     "slide_type": "subslide"
    }
   },
   "source": [
    "<img src=\"./figures/scipy_ecosystem.png\" width=\"100%\"  align=\"center\">"
   ]
  },
  {
   "cell_type": "code",
   "execution_count": null,
   "metadata": {
    "deletable": true,
    "editable": true,
    "slideshow": {
     "slide_type": "subslide"
    }
   },
   "outputs": [],
   "source": [
    "import numpy as np  # central tool for vectorized operations\n",
    "a = np.array([1, 2, 3])\n",
    "a"
   ]
  },
  {
   "cell_type": "code",
   "execution_count": null,
   "metadata": {
    "deletable": true,
    "editable": true,
    "slideshow": {
     "slide_type": "-"
    }
   },
   "outputs": [],
   "source": [
    "a ** 2"
   ]
  },
  {
   "cell_type": "code",
   "execution_count": null,
   "metadata": {
    "deletable": true,
    "editable": true,
    "slideshow": {
     "slide_type": "subslide"
    }
   },
   "outputs": [],
   "source": [
    "from scipy.interpolate import interp1d  # scientific \"toolbox\"\n",
    "import matplotlib.pyplot as plt  # plotting like in matlab\n",
    "x = np.linspace(0, 10, num=11, endpoint=True)\n",
    "y = np.cos(-x**2/9.0)\n",
    "f1 = interp1d(x, y)\n",
    "f2 = interp1d(x, y, kind='cubic')\n",
    "xnew = np.linspace(0, 10, 101, endpoint=True)\n",
    "plt.plot(x, y, 'o', xnew, f1(xnew), '-', xnew, f2(xnew), '--')\n",
    "plt.legend(['data', 'linear', 'cubic'], loc='best');"
   ]
  },
  {
   "cell_type": "markdown",
   "metadata": {
    "deletable": true,
    "editable": true,
    "slideshow": {
     "slide_type": "slide"
    }
   },
   "source": [
    "# Installing python "
   ]
  },
  {
   "cell_type": "markdown",
   "metadata": {
    "deletable": true,
    "editable": true,
    "slideshow": {
     "slide_type": "subslide"
    }
   },
   "source": [
    "## Python 2 or Python 3?"
   ]
  },
  {
   "cell_type": "markdown",
   "metadata": {
    "deletable": true,
    "editable": true,
    "slideshow": {
     "slide_type": "fragment"
    }
   },
   "source": [
    "Short answer: **use Python 3**"
   ]
  },
  {
   "cell_type": "markdown",
   "metadata": {
    "deletable": true,
    "editable": true,
    "slideshow": {
     "slide_type": "fragment"
    }
   },
   "source": [
    "Long answer: there is absolutely no reason for a beginner to use Python 2. The Py2/Py3 problem is unfortunate, but Python 3 is better in all aspects. The only reason why people still use Python 2 is when they have a heavy bagage of old (untested) code. \n",
    "\n",
    "<small>\n",
    "*If you need to use a software which is py2 only, try to contact the author of the package (or use another package).*</small>"
   ]
  },
  {
   "cell_type": "markdown",
   "metadata": {
    "deletable": true,
    "editable": true,
    "slideshow": {
     "slide_type": "subslide"
    }
   },
   "source": [
    "## Installing Python: the complicated way\n",
    "\n",
    "- On windows: go to the python webpage, download python, etc.\n",
    "- On linux/mac, python is installed per default\n",
    "\n",
    "- But ... how to install the packages?\n",
    "- ``apt-get install numpy`` will work, but it will be outdated and the installation is frozen"
   ]
  },
  {
   "cell_type": "markdown",
   "metadata": {
    "deletable": true,
    "editable": true,
    "slideshow": {
     "slide_type": "subslide"
    }
   },
   "source": [
    "##  Installing Python: the recommended way\n",
    "\n",
    "Use the [conda](https://conda.io) package manager, installed via [miniconda](https://conda.io/miniconda.html)\n",
    "\n",
    "- platform independant\n",
    "- fully operational python installation in one single directory\n",
    "- installing new packages is easy\n",
    "- beginner friendly: **it is impossible to break anything**. In case of doubt, delete the install directory and see what happens (answer: not much)."
   ]
  },
  {
   "cell_type": "markdown",
   "metadata": {
    "deletable": true,
    "editable": true,
    "slideshow": {
     "slide_type": "slide"
    }
   },
   "source": [
    "# conda: getting started\n",
    "\n",
    "Download: https://conda.io/miniconda.html\n",
    "\n",
    "Installation: https://conda.io/docs/install/quick.html\n",
    "\n",
    "Tutorial: https://conda.io/docs/test-drive.html\n",
    "\n",
    "First thing to do after install:\n",
    "\n",
    "```shell\n",
    "conda config --add channels conda-forge\n",
    "```\n",
    "\n",
    "[conda forge](https://conda-forge.github.io/) is the best source for scientific python packages."
   ]
  },
  {
   "cell_type": "markdown",
   "metadata": {
    "deletable": true,
    "editable": true,
    "slideshow": {
     "slide_type": "subslide"
    }
   },
   "source": [
    "## Virtual environments"
   ]
  },
  {
   "cell_type": "code",
   "execution_count": null,
   "metadata": {
    "deletable": true,
    "editable": true,
    "slideshow": {
     "slide_type": "-"
    }
   },
   "outputs": [],
   "source": [
    "import xarray\n",
    "xarray.__file__  # tells me where the file is located"
   ]
  },
  {
   "cell_type": "markdown",
   "metadata": {
    "deletable": true,
    "editable": true,
    "slideshow": {
     "slide_type": "fragment"
    }
   },
   "source": [
    "- isolated environments where you can play around and brake things if you want\n",
    "- allows to install different package versions at the same time\n",
    "- become more useful with time"
   ]
  },
  {
   "cell_type": "markdown",
   "metadata": {
    "deletable": true,
    "editable": true,
    "slideshow": {
     "slide_type": "subslide"
    }
   },
   "source": [
    "## pip, conda, or both?\n",
    "\n",
    "[pip](https://pip.pypa.io/en/stable/) is the standard (traditional) way to install python packages. It works well for pure python packages, but is limited when it comes to complex packages with non-python dependencies (e.g. NetCDF, GDAL...).\n",
    "\n",
    "Conda will install *binaries*, meaning that it will ship with all packages dependencies in the same bundle.  \n",
    "\n",
    "The good news is that ``pip install my-special-package`` will work in a conda environment! This is not true the other way around (pip doesn't know about conda), and in general you shouldn't use ``pip`` yourselves (unless the package you want to install is not on conda)."
   ]
  },
  {
   "cell_type": "markdown",
   "metadata": {
    "deletable": true,
    "editable": true,
    "slideshow": {
     "slide_type": "slide"
    }
   },
   "source": [
    "# Some of my favorite packages"
   ]
  },
  {
   "cell_type": "markdown",
   "metadata": {
    "deletable": true,
    "editable": true,
    "slideshow": {
     "slide_type": "subslide"
    }
   },
   "source": [
    "[pandas](http://pandas.pydata.org/) : working with tabular data"
   ]
  },
  {
   "cell_type": "code",
   "execution_count": null,
   "metadata": {
    "deletable": true,
    "editable": true,
    "slideshow": {
     "slide_type": "-"
    }
   },
   "outputs": [],
   "source": [
    "import pandas as pd\n",
    "ts = pd.read_csv('GLB.Ts+dSST.csv', index_col=0, header=1) ['J-D']\n",
    "ts.plot(label='Annual T')\n",
    "ts.rolling(window=31, center=True, min_periods=1).mean().plot(label='30-yr avg')\n",
    "plt.legend(loc='upper left');"
   ]
  },
  {
   "cell_type": "markdown",
   "metadata": {
    "deletable": true,
    "editable": true,
    "slideshow": {
     "slide_type": "subslide"
    }
   },
   "source": [
    "[xarray](http://xarray.pydata.org): pandas, but for N-Dimensions and netcdf files"
   ]
  },
  {
   "cell_type": "code",
   "execution_count": null,
   "metadata": {
    "deletable": true,
    "editable": true,
    "slideshow": {
     "slide_type": "-"
    }
   },
   "outputs": [],
   "source": [
    "import xarray as xr\n",
    "import cartopy.crs as ccrs\n",
    "air = xr.tutorial.load_dataset('air_temperature').air\n",
    "ax = plt.axes(projection=ccrs.Orthographic(-80, 35))\n",
    "air.isel(time=0).plot.contourf(ax=ax, transform=ccrs.PlateCarree());\n",
    "ax.set_global(); ax.coastlines();"
   ]
  },
  {
   "cell_type": "markdown",
   "metadata": {
    "deletable": true,
    "editable": true,
    "slideshow": {
     "slide_type": "-"
    }
   },
   "source": [
    "⇨ Workshop next week!"
   ]
  },
  {
   "cell_type": "markdown",
   "metadata": {
    "deletable": true,
    "editable": true,
    "slideshow": {
     "slide_type": "subslide"
    }
   },
   "source": [
    "[scipy](https://docs.scipy.org/): all the scientific stuff\n",
    "\n",
    "[matplotlib](http://matplotlib.org/): plotting *à la Matlab*\n",
    "\n",
    "[cartopy](http://scitools.org.uk/cartopy/docs/latest/index.html): plotting on maps\n",
    "\n",
    "[salem](http://salem.readthedocs.io/en/latest/): projection transformations and WRF files\n",
    "\n",
    "[statsmodels](http://www.statsmodels.org) and [scikit-learn](http://scikit-learn.org/): statistical models and machine learning\n",
    "\n",
    "..."
   ]
  },
  {
   "cell_type": "markdown",
   "metadata": {
    "deletable": true,
    "editable": true,
    "slideshow": {
     "slide_type": "slide"
    }
   },
   "source": [
    "# Developing in Python"
   ]
  },
  {
   "cell_type": "markdown",
   "metadata": {
    "deletable": true,
    "editable": true,
    "slideshow": {
     "slide_type": "subslide"
    }
   },
   "source": [
    "With this you should be able to get started right away:\n",
    "\n",
    "```bash\n",
    "conda install ipython jupyter spyder\n",
    "```\n",
    "\n",
    "- [ipython](http://ipython.org/): interactive console\n",
    "- [jupyter](http://jupyter.org/): notebooks for exploration and sharing\n",
    "- [spyder](https://pythonhosted.org/spyder/): \"Matlab-like\" IDE"
   ]
  },
  {
   "cell_type": "markdown",
   "metadata": {
    "deletable": true,
    "editable": true,
    "slideshow": {
     "slide_type": "subslide"
    }
   },
   "source": [
    "**Demo**: notebook, first module"
   ]
  },
  {
   "cell_type": "markdown",
   "metadata": {
    "deletable": true,
    "editable": true,
    "slideshow": {
     "slide_type": "subslide"
    }
   },
   "source": [
    "\"Advanced\" IDE: [pycharm](https://www.jetbrains.com/pycharm/) (free version)\n",
    "\n",
    "(my personnal choice over spyder)"
   ]
  },
  {
   "cell_type": "markdown",
   "metadata": {
    "deletable": true,
    "editable": true,
    "slideshow": {
     "slide_type": "slide"
    }
   },
   "source": [
    "# Thanks for your attention!\n",
    "\n",
    "**Questions?**\n",
    "\n",
    "Discussion:\n",
    "- should we set-up a mailing list for programming related questions?\n",
    "- would there be interest for another workshop of this type? About what?\n",
    "- how can we coordinate our efforts for better software practices?"
   ]
  },
  {
   "cell_type": "markdown",
   "metadata": {
    "deletable": true,
    "editable": true,
    "slideshow": {
     "slide_type": "slide"
    }
   },
   "source": [
    "# Let's get our hands dirty!\n",
    "\n",
    "<small>\n",
    "**Install python on your laptop:** https://github.com/fmaussion/teaching/blob/master/install_python.rst\n",
    "\n",
    "**Install python on the computer room (linux terminal):**\n",
    "\n",
    "```shell\n",
    "  $ gedit ~/.bashrc\n",
    "```\n",
    "\n",
    "At the end of this file, add the following two lines:\n",
    "\n",
    "```shell\n",
    "  # added for Fabien's course:\n",
    "  export PATH=\"/scratch/c707/c7071047/miniconda3/bin:$PATH\"\n",
    "```\n",
    "\n",
    "**Download the \"getting started\" notebook:**\n",
    "\n",
    "https://raw.githubusercontent.com/fmaussion/teaching/master/python_intro_acinn/Getting_Started.ipynb \n",
    "(*use \"save link as\"*)\n",
    "\n",
    "**Start the notebook interface:**\n",
    "\n",
    "```shell\n",
    "  $ jupyter-notebook\n",
    "```\n",
    "\n",
    "</small>"
   ]
  }
 ],
 "metadata": {
  "celltoolbar": "Slideshow",
  "kernelspec": {
   "display_name": "Python 3",
   "language": "python",
   "name": "python3"
  },
  "language_info": {
   "codemirror_mode": {
    "name": "ipython",
    "version": 3
   },
   "file_extension": ".py",
   "mimetype": "text/x-python",
   "name": "python",
   "nbconvert_exporter": "python",
   "pygments_lexer": "ipython3",
   "version": "3.5.3"
  },
  "livereveal": {
   "controls": "true",
   "history": "true",
   "mouseWheel": "true",
   "overview": "true",
   "progress": "true",
   "start_slideshow_at": "selected"
  }
 },
 "nbformat": 4,
 "nbformat_minor": 2
}
